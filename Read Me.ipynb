{
 "cells": [
  {
   "cell_type": "markdown",
   "metadata": {},
   "source": [
    "# Homework 4 Read Me"
   ]
  },
  {
   "cell_type": "markdown",
   "metadata": {},
   "source": [
    "## Data Cleaning"
   ]
  },
  {
   "cell_type": "markdown",
   "metadata": {},
   "source": [
    "I cleaned the data using the following steps:\n",
    "* dropped duplicates\n",
    "* cut unnecessary symbols (eg \\$) out of strings\n",
    "* normalized data\n",
    "* replaced missing values with median\n",
    "* standardized strings of a certain type to all be the same (eg [m,male,M]-->Male)\n",
    "* one-hot encoded data\n",
    "* dropped 'steps taken'\n",
    "\n",
    "    "
   ]
  },
  {
   "cell_type": "markdown",
   "metadata": {},
   "source": [
    "## Issues"
   ]
  },
  {
   "cell_type": "markdown",
   "metadata": {},
   "source": [
    "Struggled to clean the bed time and wake up time columns. My original plan was to bin each column by hour based on a 24 hour clock. Unfortunately I couldn't get the copied am and pm columns to join the original dataframe again so I ended up dropping them. I included my attempts in the code for reference. Instead I was left with values in the 12 hour clock system which will be an issue when training because 12 am and 12 pm will show up as the same value."
   ]
  }
 ],
 "metadata": {
  "kernelspec": {
   "display_name": "Python 3",
   "language": "python",
   "name": "python3"
  },
  "language_info": {
   "codemirror_mode": {
    "name": "ipython",
    "version": 3
   },
   "file_extension": ".py",
   "mimetype": "text/x-python",
   "name": "python",
   "nbconvert_exporter": "python",
   "pygments_lexer": "ipython3",
   "version": "3.5.1"
  }
 },
 "nbformat": 4,
 "nbformat_minor": 2
}
