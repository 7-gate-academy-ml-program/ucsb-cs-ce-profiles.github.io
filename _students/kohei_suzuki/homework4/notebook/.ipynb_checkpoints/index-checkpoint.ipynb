{
 "cells": [
  {
   "cell_type": "markdown",
   "metadata": {},
   "source": [
    "# Homework4\n",
    "\n",
    "## Tasks:\n",
    "- Clean up the CSV files found inside homework04_data.zip\n",
    "- Combine all the files into a single file\n",
    "- All invalid values must be dealt with and all columns must in with an appropriate range"
   ]
  },
  {
   "cell_type": "markdown",
   "metadata": {},
   "source": [
    "## Table of contents\n",
    "- Import and get to know the data\n",
    "- Change the columns\n",
    "- Tidy up the data format\n",
    "- Missing Values\n",
    "- Outliers"
   ]
  },
  {
   "cell_type": "markdown",
   "metadata": {},
   "source": [
    "## Import and get to know the data"
   ]
  },
  {
   "cell_type": "code",
   "execution_count": 1,
   "metadata": {},
   "outputs": [],
   "source": [
    "from pathlib import Path\n",
    "import pandas as pd\n",
    "import numpy as np\n",
    "from tqdm import tqdm_notebook as tqdm\n",
    "import matplotlib.pyplot as plt\n",
    "import random\n",
    "\n",
    "%matplotlib inline"
   ]
  },
  {
   "cell_type": "code",
   "execution_count": 2,
   "metadata": {},
   "outputs": [],
   "source": [
    "# Path\n",
    "datadir_path = Path(\"../data/homework04_data\")\n",
    "cleaned_csv_path = Path(\"../data/cleaned_data.csv\")"
   ]
  },
  {
   "cell_type": "code",
   "execution_count": 3,
   "metadata": {},
   "outputs": [
    {
     "name": "stdout",
     "output_type": "stream",
     "text": [
      "\u001b[31m0.csv\u001b[m\u001b[m  \u001b[31m16.csv\u001b[m\u001b[m \u001b[31m23.csv\u001b[m\u001b[m \u001b[31m30.csv\u001b[m\u001b[m \u001b[31m38.csv\u001b[m\u001b[m \u001b[31m45.csv\u001b[m\u001b[m \u001b[31m52.csv\u001b[m\u001b[m \u001b[31m6.csv\u001b[m\u001b[m  \u001b[31m67.csv\u001b[m\u001b[m \u001b[31m74.csv\u001b[m\u001b[m \u001b[31m81.csv\u001b[m\u001b[m\r\n",
      "\u001b[31m1.csv\u001b[m\u001b[m  \u001b[31m17.csv\u001b[m\u001b[m \u001b[31m24.csv\u001b[m\u001b[m \u001b[31m31.csv\u001b[m\u001b[m \u001b[31m39.csv\u001b[m\u001b[m \u001b[31m46.csv\u001b[m\u001b[m \u001b[31m53.csv\u001b[m\u001b[m \u001b[31m60.csv\u001b[m\u001b[m \u001b[31m68.csv\u001b[m\u001b[m \u001b[31m75.csv\u001b[m\u001b[m \u001b[31m82.csv\u001b[m\u001b[m\r\n",
      "\u001b[31m10.csv\u001b[m\u001b[m \u001b[31m18.csv\u001b[m\u001b[m \u001b[31m25.csv\u001b[m\u001b[m \u001b[31m32.csv\u001b[m\u001b[m \u001b[31m4.csv\u001b[m\u001b[m  \u001b[31m47.csv\u001b[m\u001b[m \u001b[31m54.csv\u001b[m\u001b[m \u001b[31m61.csv\u001b[m\u001b[m \u001b[31m69.csv\u001b[m\u001b[m \u001b[31m76.csv\u001b[m\u001b[m \u001b[31m9.csv\u001b[m\u001b[m\r\n",
      "\u001b[31m11.csv\u001b[m\u001b[m \u001b[31m19.csv\u001b[m\u001b[m \u001b[31m26.csv\u001b[m\u001b[m \u001b[31m33.csv\u001b[m\u001b[m \u001b[31m40.csv\u001b[m\u001b[m \u001b[31m48.csv\u001b[m\u001b[m \u001b[31m55.csv\u001b[m\u001b[m \u001b[31m62.csv\u001b[m\u001b[m \u001b[31m7.csv\u001b[m\u001b[m  \u001b[31m77.csv\u001b[m\u001b[m\r\n",
      "\u001b[31m12.csv\u001b[m\u001b[m \u001b[31m2.csv\u001b[m\u001b[m  \u001b[31m27.csv\u001b[m\u001b[m \u001b[31m34.csv\u001b[m\u001b[m \u001b[31m41.csv\u001b[m\u001b[m \u001b[31m49.csv\u001b[m\u001b[m \u001b[31m56.csv\u001b[m\u001b[m \u001b[31m63.csv\u001b[m\u001b[m \u001b[31m70.csv\u001b[m\u001b[m \u001b[31m78.csv\u001b[m\u001b[m\r\n",
      "\u001b[31m13.csv\u001b[m\u001b[m \u001b[31m20.csv\u001b[m\u001b[m \u001b[31m28.csv\u001b[m\u001b[m \u001b[31m35.csv\u001b[m\u001b[m \u001b[31m42.csv\u001b[m\u001b[m \u001b[31m5.csv\u001b[m\u001b[m  \u001b[31m57.csv\u001b[m\u001b[m \u001b[31m64.csv\u001b[m\u001b[m \u001b[31m71.csv\u001b[m\u001b[m \u001b[31m79.csv\u001b[m\u001b[m\r\n",
      "\u001b[31m14.csv\u001b[m\u001b[m \u001b[31m21.csv\u001b[m\u001b[m \u001b[31m29.csv\u001b[m\u001b[m \u001b[31m36.csv\u001b[m\u001b[m \u001b[31m43.csv\u001b[m\u001b[m \u001b[31m50.csv\u001b[m\u001b[m \u001b[31m58.csv\u001b[m\u001b[m \u001b[31m65.csv\u001b[m\u001b[m \u001b[31m72.csv\u001b[m\u001b[m \u001b[31m8.csv\u001b[m\u001b[m\r\n",
      "\u001b[31m15.csv\u001b[m\u001b[m \u001b[31m22.csv\u001b[m\u001b[m \u001b[31m3.csv\u001b[m\u001b[m  \u001b[31m37.csv\u001b[m\u001b[m \u001b[31m44.csv\u001b[m\u001b[m \u001b[31m51.csv\u001b[m\u001b[m \u001b[31m59.csv\u001b[m\u001b[m \u001b[31m66.csv\u001b[m\u001b[m \u001b[31m73.csv\u001b[m\u001b[m \u001b[31m80.csv\u001b[m\u001b[m\r\n"
     ]
    }
   ],
   "source": [
    "# CSV files in the data directory\n",
    "!ls ../data/homework04_data"
   ]
  },
  {
   "cell_type": "code",
   "execution_count": 4,
   "metadata": {},
   "outputs": [
    {
     "name": "stdout",
     "output_type": "stream",
     "text": [
      "This is an example of file path: ../data/homework04_data/0.csv\n",
      "The number of files we have: 83\n"
     ]
    }
   ],
   "source": [
    "# Create a list of file paths\n",
    "csv_paths = sorted(list(datadir_path.glob(\"*\")))\n",
    "print(\"This is an example of file path: {}\".format(csv_paths[0]))\n",
    "print(\"The number of files we have: {}\".format(len(csv_paths)))"
   ]
  },
  {
   "cell_type": "code",
   "execution_count": 5,
   "metadata": {},
   "outputs": [
    {
     "data": {
      "text/html": [
       "<div>\n",
       "<style scoped>\n",
       "    .dataframe tbody tr th:only-of-type {\n",
       "        vertical-align: middle;\n",
       "    }\n",
       "\n",
       "    .dataframe tbody tr th {\n",
       "        vertical-align: top;\n",
       "    }\n",
       "\n",
       "    .dataframe thead th {\n",
       "        text-align: right;\n",
       "    }\n",
       "</style>\n",
       "<table border=\"1\" class=\"dataframe\">\n",
       "  <thead>\n",
       "    <tr style=\"text-align: right;\">\n",
       "      <th></th>\n",
       "      <th>age</th>\n",
       "      <th>sex</th>\n",
       "      <th>monthly income</th>\n",
       "      <th>work hours/week</th>\n",
       "      <th>favourite colour</th>\n",
       "      <th>siblings</th>\n",
       "      <th>top finish placement</th>\n",
       "      <th>last time</th>\n",
       "      <th>bed time</th>\n",
       "      <th>wake up time</th>\n",
       "      <th>total sleep/night</th>\n",
       "      <th>caloric intake</th>\n",
       "      <th>steps taken</th>\n",
       "    </tr>\n",
       "    <tr>\n",
       "      <th>ID</th>\n",
       "      <th></th>\n",
       "      <th></th>\n",
       "      <th></th>\n",
       "      <th></th>\n",
       "      <th></th>\n",
       "      <th></th>\n",
       "      <th></th>\n",
       "      <th></th>\n",
       "      <th></th>\n",
       "      <th></th>\n",
       "      <th></th>\n",
       "      <th></th>\n",
       "      <th></th>\n",
       "    </tr>\n",
       "  </thead>\n",
       "  <tbody>\n",
       "    <tr>\n",
       "      <th>1</th>\n",
       "      <td>11</td>\n",
       "      <td>male</td>\n",
       "      <td>$3058.0</td>\n",
       "      <td>19</td>\n",
       "      <td>green</td>\n",
       "      <td>4</td>\n",
       "      <td>5th</td>\n",
       "      <td>27secs</td>\n",
       "      <td>11:45:32.334PM</td>\n",
       "      <td>10:41:17.64AM</td>\n",
       "      <td>-5.01</td>\n",
       "      <td>2000</td>\n",
       "      <td>2000200020002000200020002000200020002000200020...</td>\n",
       "    </tr>\n",
       "    <tr>\n",
       "      <th>2</th>\n",
       "      <td>33</td>\n",
       "      <td>m</td>\n",
       "      <td>0</td>\n",
       "      <td>53</td>\n",
       "      <td>BLUE</td>\n",
       "      <td>5</td>\n",
       "      <td>1st</td>\n",
       "      <td>29secs</td>\n",
       "      <td>8:3:40.514PM</td>\n",
       "      <td>8:56:47.711AM</td>\n",
       "      <td>8.35</td>\n",
       "      <td>3750</td>\n",
       "      <td>NaN</td>\n",
       "    </tr>\n",
       "    <tr>\n",
       "      <th>3</th>\n",
       "      <td>37</td>\n",
       "      <td>m</td>\n",
       "      <td>$3108.0</td>\n",
       "      <td>27</td>\n",
       "      <td>gReeN</td>\n",
       "      <td>5</td>\n",
       "      <td>8th</td>\n",
       "      <td>22secs</td>\n",
       "      <td>11:21:53.189PM</td>\n",
       "      <td>10:21:49.198AM</td>\n",
       "      <td>-1.78</td>\n",
       "      <td>2250</td>\n",
       "      <td>2250225022502250225022502250225022502250225022...</td>\n",
       "    </tr>\n",
       "    <tr>\n",
       "      <th>4</th>\n",
       "      <td>88</td>\n",
       "      <td>male</td>\n",
       "      <td>$23408.0</td>\n",
       "      <td>12</td>\n",
       "      <td>gReeN</td>\n",
       "      <td>0</td>\n",
       "      <td>6th</td>\n",
       "      <td>26secs</td>\n",
       "      <td>2:37:12.32AM</td>\n",
       "      <td>7:27:14.54AM</td>\n",
       "      <td>11.44</td>\n",
       "      <td>1750</td>\n",
       "      <td>1750175017501750175017501750175017501750</td>\n",
       "    </tr>\n",
       "    <tr>\n",
       "      <th>5</th>\n",
       "      <td>0</td>\n",
       "      <td>M</td>\n",
       "      <td>$17840.0</td>\n",
       "      <td>50</td>\n",
       "      <td>None</td>\n",
       "      <td>3</td>\n",
       "      <td>9th</td>\n",
       "      <td>27secs</td>\n",
       "      <td>7:31:1.947PM</td>\n",
       "      <td>11:20:15.527AM</td>\n",
       "      <td>11.44</td>\n",
       "      <td>3750</td>\n",
       "      <td>3750375037503750375037503750375037503750</td>\n",
       "    </tr>\n",
       "  </tbody>\n",
       "</table>\n",
       "</div>"
      ],
      "text/plain": [
       "    age   sex monthly income  work hours/week favourite colour  siblings  \\\n",
       "ID                                                                         \n",
       "1    11  male        $3058.0               19            green         4   \n",
       "2    33     m              0               53             BLUE         5   \n",
       "3    37     m        $3108.0               27            gReeN         5   \n",
       "4    88  male       $23408.0               12            gReeN         0   \n",
       "5     0     M       $17840.0               50             None         3   \n",
       "\n",
       "   top finish placement last time        bed time    wake up time  \\\n",
       "ID                                                                  \n",
       "1                   5th    27secs  11:45:32.334PM   10:41:17.64AM   \n",
       "2                   1st    29secs    8:3:40.514PM   8:56:47.711AM   \n",
       "3                   8th    22secs  11:21:53.189PM  10:21:49.198AM   \n",
       "4                   6th    26secs    2:37:12.32AM    7:27:14.54AM   \n",
       "5                   9th    27secs    7:31:1.947PM  11:20:15.527AM   \n",
       "\n",
       "    total sleep/night  caloric intake  \\\n",
       "ID                                      \n",
       "1               -5.01            2000   \n",
       "2                8.35            3750   \n",
       "3               -1.78            2250   \n",
       "4               11.44            1750   \n",
       "5               11.44            3750   \n",
       "\n",
       "                                          steps taken  \n",
       "ID                                                     \n",
       "1   2000200020002000200020002000200020002000200020...  \n",
       "2                                                 NaN  \n",
       "3   2250225022502250225022502250225022502250225022...  \n",
       "4            1750175017501750175017501750175017501750  \n",
       "5            3750375037503750375037503750375037503750  "
      ]
     },
     "execution_count": 5,
     "metadata": {},
     "output_type": "execute_result"
    }
   ],
   "source": [
    "df_example = pd.read_csv(str(csv_paths[0]), index_col=\"ID\")\n",
    "df_example.head()"
   ]
  },
  {
   "cell_type": "code",
   "execution_count": 6,
   "metadata": {},
   "outputs": [],
   "source": [
    "columns = df_example.columns.tolist()"
   ]
  },
  {
   "cell_type": "code",
   "execution_count": 7,
   "metadata": {},
   "outputs": [],
   "source": [
    "def concat_csv(csv_files):\n",
    "    \"\"\"\n",
    "    Concatenate csv files and create a Pandas DataFrame\n",
    "    \n",
    "    Parameters\n",
    "    ----------------\n",
    "    csv_files: list\n",
    "        Contains file paths to each csv file\n",
    "        \n",
    "    Return\n",
    "    ---------\n",
    "    df: Pandas DataFrame\n",
    "    A Pandas DataFrame containing information of all the csv files.\n",
    "    \"\"\"\n",
    "    li = []\n",
    "    for csv_path in tqdm(csv_files):\n",
    "        df_tmp = pd.read_csv(str(csv_path), index_col=\"ID\", header=0)\n",
    "        if df_tmp.columns.tolist() == columns:\n",
    "            li.append(df_tmp)\n",
    "        else:\n",
    "            print(\"The list of columns of {} doesn't match.\".format(csv_path))\n",
    "            print(\"The columns are {}: \".format(df_tmp.columns.tolist()))\n",
    "    df = pd.concat(li, axis=0, ignore_index=False)\n",
    "    return df"
   ]
  },
  {
   "cell_type": "code",
   "execution_count": 8,
   "metadata": {},
   "outputs": [
    {
     "data": {
      "application/vnd.jupyter.widget-view+json": {
       "model_id": "3878d5240cc14c5183e46c544acb91f0",
       "version_major": 2,
       "version_minor": 0
      },
      "text/plain": [
       "HBox(children=(IntProgress(value=0, max=83), HTML(value='')))"
      ]
     },
     "metadata": {},
     "output_type": "display_data"
    },
    {
     "name": "stdout",
     "output_type": "stream",
     "text": [
      "\n"
     ]
    },
    {
     "data": {
      "text/html": [
       "<div>\n",
       "<style scoped>\n",
       "    .dataframe tbody tr th:only-of-type {\n",
       "        vertical-align: middle;\n",
       "    }\n",
       "\n",
       "    .dataframe tbody tr th {\n",
       "        vertical-align: top;\n",
       "    }\n",
       "\n",
       "    .dataframe thead th {\n",
       "        text-align: right;\n",
       "    }\n",
       "</style>\n",
       "<table border=\"1\" class=\"dataframe\">\n",
       "  <thead>\n",
       "    <tr style=\"text-align: right;\">\n",
       "      <th></th>\n",
       "      <th>age</th>\n",
       "      <th>sex</th>\n",
       "      <th>monthly income</th>\n",
       "      <th>work hours/week</th>\n",
       "      <th>favourite colour</th>\n",
       "      <th>siblings</th>\n",
       "      <th>top finish placement</th>\n",
       "      <th>last time</th>\n",
       "      <th>bed time</th>\n",
       "      <th>wake up time</th>\n",
       "      <th>total sleep/night</th>\n",
       "      <th>caloric intake</th>\n",
       "      <th>steps taken</th>\n",
       "    </tr>\n",
       "    <tr>\n",
       "      <th>ID</th>\n",
       "      <th></th>\n",
       "      <th></th>\n",
       "      <th></th>\n",
       "      <th></th>\n",
       "      <th></th>\n",
       "      <th></th>\n",
       "      <th></th>\n",
       "      <th></th>\n",
       "      <th></th>\n",
       "      <th></th>\n",
       "      <th></th>\n",
       "      <th></th>\n",
       "      <th></th>\n",
       "    </tr>\n",
       "  </thead>\n",
       "  <tbody>\n",
       "    <tr>\n",
       "      <th>1</th>\n",
       "      <td>11</td>\n",
       "      <td>male</td>\n",
       "      <td>$3058.0</td>\n",
       "      <td>19</td>\n",
       "      <td>green</td>\n",
       "      <td>4</td>\n",
       "      <td>5th</td>\n",
       "      <td>27secs</td>\n",
       "      <td>11:45:32.334PM</td>\n",
       "      <td>10:41:17.64AM</td>\n",
       "      <td>-5.01</td>\n",
       "      <td>2000</td>\n",
       "      <td>2000200020002000200020002000200020002000200020...</td>\n",
       "    </tr>\n",
       "    <tr>\n",
       "      <th>2</th>\n",
       "      <td>33</td>\n",
       "      <td>m</td>\n",
       "      <td>0</td>\n",
       "      <td>53</td>\n",
       "      <td>BLUE</td>\n",
       "      <td>5</td>\n",
       "      <td>1st</td>\n",
       "      <td>29secs</td>\n",
       "      <td>8:3:40.514PM</td>\n",
       "      <td>8:56:47.711AM</td>\n",
       "      <td>8.35</td>\n",
       "      <td>3750</td>\n",
       "      <td>NaN</td>\n",
       "    </tr>\n",
       "    <tr>\n",
       "      <th>3</th>\n",
       "      <td>37</td>\n",
       "      <td>m</td>\n",
       "      <td>$3108.0</td>\n",
       "      <td>27</td>\n",
       "      <td>gReeN</td>\n",
       "      <td>5</td>\n",
       "      <td>8th</td>\n",
       "      <td>22secs</td>\n",
       "      <td>11:21:53.189PM</td>\n",
       "      <td>10:21:49.198AM</td>\n",
       "      <td>-1.78</td>\n",
       "      <td>2250</td>\n",
       "      <td>2250225022502250225022502250225022502250225022...</td>\n",
       "    </tr>\n",
       "    <tr>\n",
       "      <th>4</th>\n",
       "      <td>88</td>\n",
       "      <td>male</td>\n",
       "      <td>$23408.0</td>\n",
       "      <td>12</td>\n",
       "      <td>gReeN</td>\n",
       "      <td>0</td>\n",
       "      <td>6th</td>\n",
       "      <td>26secs</td>\n",
       "      <td>2:37:12.32AM</td>\n",
       "      <td>7:27:14.54AM</td>\n",
       "      <td>11.44</td>\n",
       "      <td>1750</td>\n",
       "      <td>1750175017501750175017501750175017501750</td>\n",
       "    </tr>\n",
       "    <tr>\n",
       "      <th>5</th>\n",
       "      <td>0</td>\n",
       "      <td>M</td>\n",
       "      <td>$17840.0</td>\n",
       "      <td>50</td>\n",
       "      <td>None</td>\n",
       "      <td>3</td>\n",
       "      <td>9th</td>\n",
       "      <td>27secs</td>\n",
       "      <td>7:31:1.947PM</td>\n",
       "      <td>11:20:15.527AM</td>\n",
       "      <td>11.44</td>\n",
       "      <td>3750</td>\n",
       "      <td>3750375037503750375037503750375037503750</td>\n",
       "    </tr>\n",
       "  </tbody>\n",
       "</table>\n",
       "</div>"
      ],
      "text/plain": [
       "    age   sex monthly income  work hours/week favourite colour  siblings  \\\n",
       "ID                                                                         \n",
       "1    11  male        $3058.0               19            green         4   \n",
       "2    33     m              0               53             BLUE         5   \n",
       "3    37     m        $3108.0               27            gReeN         5   \n",
       "4    88  male       $23408.0               12            gReeN         0   \n",
       "5     0     M       $17840.0               50             None         3   \n",
       "\n",
       "   top finish placement last time        bed time    wake up time  \\\n",
       "ID                                                                  \n",
       "1                   5th    27secs  11:45:32.334PM   10:41:17.64AM   \n",
       "2                   1st    29secs    8:3:40.514PM   8:56:47.711AM   \n",
       "3                   8th    22secs  11:21:53.189PM  10:21:49.198AM   \n",
       "4                   6th    26secs    2:37:12.32AM    7:27:14.54AM   \n",
       "5                   9th    27secs    7:31:1.947PM  11:20:15.527AM   \n",
       "\n",
       "    total sleep/night  caloric intake  \\\n",
       "ID                                      \n",
       "1               -5.01            2000   \n",
       "2                8.35            3750   \n",
       "3               -1.78            2250   \n",
       "4               11.44            1750   \n",
       "5               11.44            3750   \n",
       "\n",
       "                                          steps taken  \n",
       "ID                                                     \n",
       "1   2000200020002000200020002000200020002000200020...  \n",
       "2                                                 NaN  \n",
       "3   2250225022502250225022502250225022502250225022...  \n",
       "4            1750175017501750175017501750175017501750  \n",
       "5            3750375037503750375037503750375037503750  "
      ]
     },
     "execution_count": 8,
     "metadata": {},
     "output_type": "execute_result"
    }
   ],
   "source": [
    "df = concat_csv(csv_paths)\n",
    "df.head()"
   ]
  },
  {
   "cell_type": "code",
   "execution_count": 9,
   "metadata": {},
   "outputs": [
    {
     "name": "stdout",
     "output_type": "stream",
     "text": [
      "====================================\n",
      "Shape: (1000000, 13)\n",
      "====================================\n",
      "<class 'pandas.core.frame.DataFrame'>\n",
      "Int64Index: 1000000 entries, 1 to 70496\n",
      "Data columns (total 13 columns):\n",
      "age                     1000000 non-null int64\n",
      "sex                     1000000 non-null object\n",
      "monthly income          1000000 non-null object\n",
      "work hours/week         1000000 non-null int64\n",
      "favourite colour        1000000 non-null object\n",
      "siblings                1000000 non-null int64\n",
      "top finish placement    1000000 non-null object\n",
      "last time               1000000 non-null object\n",
      "bed time                1000000 non-null object\n",
      "wake up time            1000000 non-null object\n",
      "total sleep/night       1000000 non-null float64\n",
      "caloric intake          1000000 non-null int64\n",
      "steps taken             669855 non-null object\n",
      "dtypes: float64(1), int64(4), object(8)\n",
      "memory usage: 106.8+ MB\n",
      "====================================\n"
     ]
    },
    {
     "data": {
      "text/html": [
       "<div>\n",
       "<style scoped>\n",
       "    .dataframe tbody tr th:only-of-type {\n",
       "        vertical-align: middle;\n",
       "    }\n",
       "\n",
       "    .dataframe tbody tr th {\n",
       "        vertical-align: top;\n",
       "    }\n",
       "\n",
       "    .dataframe thead th {\n",
       "        text-align: right;\n",
       "    }\n",
       "</style>\n",
       "<table border=\"1\" class=\"dataframe\">\n",
       "  <thead>\n",
       "    <tr style=\"text-align: right;\">\n",
       "      <th></th>\n",
       "      <th>age</th>\n",
       "      <th>work hours/week</th>\n",
       "      <th>siblings</th>\n",
       "      <th>total sleep/night</th>\n",
       "      <th>caloric intake</th>\n",
       "    </tr>\n",
       "  </thead>\n",
       "  <tbody>\n",
       "    <tr>\n",
       "      <th>count</th>\n",
       "      <td>1000000.000000</td>\n",
       "      <td>1000000.000000</td>\n",
       "      <td>1000000.000000</td>\n",
       "      <td>1000000.000000</td>\n",
       "      <td>1000000.000000</td>\n",
       "    </tr>\n",
       "    <tr>\n",
       "      <th>mean</th>\n",
       "      <td>48.140979</td>\n",
       "      <td>41.700051</td>\n",
       "      <td>4.466983</td>\n",
       "      <td>-0.004699</td>\n",
       "      <td>2604.819000</td>\n",
       "    </tr>\n",
       "    <tr>\n",
       "      <th>std</th>\n",
       "      <td>24.513761</td>\n",
       "      <td>21.876296</td>\n",
       "      <td>2.888980</td>\n",
       "      <td>7.182218</td>\n",
       "      <td>750.914137</td>\n",
       "    </tr>\n",
       "    <tr>\n",
       "      <th>min</th>\n",
       "      <td>0.000000</td>\n",
       "      <td>0.000000</td>\n",
       "      <td>0.000000</td>\n",
       "      <td>-12.500000</td>\n",
       "      <td>0.000000</td>\n",
       "    </tr>\n",
       "    <tr>\n",
       "      <th>25%</th>\n",
       "      <td>27.000000</td>\n",
       "      <td>23.000000</td>\n",
       "      <td>2.000000</td>\n",
       "      <td>-6.200000</td>\n",
       "      <td>2000.000000</td>\n",
       "    </tr>\n",
       "    <tr>\n",
       "      <th>50%</th>\n",
       "      <td>48.000000</td>\n",
       "      <td>42.000000</td>\n",
       "      <td>4.000000</td>\n",
       "      <td>0.000000</td>\n",
       "      <td>2500.000000</td>\n",
       "    </tr>\n",
       "    <tr>\n",
       "      <th>75%</th>\n",
       "      <td>69.000000</td>\n",
       "      <td>61.000000</td>\n",
       "      <td>7.000000</td>\n",
       "      <td>6.190000</td>\n",
       "      <td>3250.000000</td>\n",
       "    </tr>\n",
       "    <tr>\n",
       "      <th>max</th>\n",
       "      <td>90.000000</td>\n",
       "      <td>79.000000</td>\n",
       "      <td>9.000000</td>\n",
       "      <td>12.500000</td>\n",
       "      <td>3750.000000</td>\n",
       "    </tr>\n",
       "  </tbody>\n",
       "</table>\n",
       "</div>"
      ],
      "text/plain": [
       "                  age  work hours/week        siblings  total sleep/night  \\\n",
       "count  1000000.000000   1000000.000000  1000000.000000     1000000.000000   \n",
       "mean        48.140979        41.700051        4.466983          -0.004699   \n",
       "std         24.513761        21.876296        2.888980           7.182218   \n",
       "min          0.000000         0.000000        0.000000         -12.500000   \n",
       "25%         27.000000        23.000000        2.000000          -6.200000   \n",
       "50%         48.000000        42.000000        4.000000           0.000000   \n",
       "75%         69.000000        61.000000        7.000000           6.190000   \n",
       "max         90.000000        79.000000        9.000000          12.500000   \n",
       "\n",
       "       caloric intake  \n",
       "count  1000000.000000  \n",
       "mean      2604.819000  \n",
       "std        750.914137  \n",
       "min          0.000000  \n",
       "25%       2000.000000  \n",
       "50%       2500.000000  \n",
       "75%       3250.000000  \n",
       "max       3750.000000  "
      ]
     },
     "execution_count": 9,
     "metadata": {},
     "output_type": "execute_result"
    }
   ],
   "source": [
    "print(\"====================================\")\n",
    "print(\"Shape: {}\".format(df.shape))\n",
    "print(\"====================================\")\n",
    "df.info()\n",
    "print(\"====================================\")\n",
    "df.describe()"
   ]
  },
  {
   "cell_type": "markdown",
   "metadata": {},
   "source": [
    "## Fix the columns\n",
    "Some of the columns in the dataset have spaces or special character such as `/` in the column name which make me confused, and it is hard to deal with for further work. So I will fix this before everything I do."
   ]
  },
  {
   "cell_type": "code",
   "execution_count": 10,
   "metadata": {},
   "outputs": [],
   "source": [
    "dataset = df.copy()"
   ]
  },
  {
   "cell_type": "code",
   "execution_count": 11,
   "metadata": {},
   "outputs": [
    {
     "data": {
      "text/plain": [
       "['age',\n",
       " 'sex',\n",
       " 'monthly income',\n",
       " 'work hours/week',\n",
       " 'favourite colour',\n",
       " 'siblings',\n",
       " 'top finish placement',\n",
       " 'last time',\n",
       " 'bed time',\n",
       " 'wake up time',\n",
       " 'total sleep/night',\n",
       " 'caloric intake',\n",
       " 'steps taken']"
      ]
     },
     "execution_count": 11,
     "metadata": {},
     "output_type": "execute_result"
    }
   ],
   "source": [
    "dataset.columns.tolist()"
   ]
  },
  {
   "cell_type": "code",
   "execution_count": 12,
   "metadata": {},
   "outputs": [
    {
     "data": {
      "text/html": [
       "<div>\n",
       "<style scoped>\n",
       "    .dataframe tbody tr th:only-of-type {\n",
       "        vertical-align: middle;\n",
       "    }\n",
       "\n",
       "    .dataframe tbody tr th {\n",
       "        vertical-align: top;\n",
       "    }\n",
       "\n",
       "    .dataframe thead th {\n",
       "        text-align: right;\n",
       "    }\n",
       "</style>\n",
       "<table border=\"1\" class=\"dataframe\">\n",
       "  <thead>\n",
       "    <tr style=\"text-align: right;\">\n",
       "      <th></th>\n",
       "      <th>Age</th>\n",
       "      <th>Sex</th>\n",
       "      <th>M_income</th>\n",
       "      <th>Work</th>\n",
       "      <th>Color</th>\n",
       "      <th>Sibs</th>\n",
       "      <th>TFP</th>\n",
       "      <th>Ltime</th>\n",
       "      <th>Btime</th>\n",
       "      <th>Wtime</th>\n",
       "      <th>Tsleep</th>\n",
       "      <th>Caloric</th>\n",
       "      <th>Steps</th>\n",
       "    </tr>\n",
       "    <tr>\n",
       "      <th>ID</th>\n",
       "      <th></th>\n",
       "      <th></th>\n",
       "      <th></th>\n",
       "      <th></th>\n",
       "      <th></th>\n",
       "      <th></th>\n",
       "      <th></th>\n",
       "      <th></th>\n",
       "      <th></th>\n",
       "      <th></th>\n",
       "      <th></th>\n",
       "      <th></th>\n",
       "      <th></th>\n",
       "    </tr>\n",
       "  </thead>\n",
       "  <tbody>\n",
       "    <tr>\n",
       "      <th>1</th>\n",
       "      <td>11</td>\n",
       "      <td>male</td>\n",
       "      <td>$3058.0</td>\n",
       "      <td>19</td>\n",
       "      <td>green</td>\n",
       "      <td>4</td>\n",
       "      <td>5th</td>\n",
       "      <td>27secs</td>\n",
       "      <td>11:45:32.334PM</td>\n",
       "      <td>10:41:17.64AM</td>\n",
       "      <td>-5.01</td>\n",
       "      <td>2000</td>\n",
       "      <td>2000200020002000200020002000200020002000200020...</td>\n",
       "    </tr>\n",
       "    <tr>\n",
       "      <th>2</th>\n",
       "      <td>33</td>\n",
       "      <td>m</td>\n",
       "      <td>0</td>\n",
       "      <td>53</td>\n",
       "      <td>BLUE</td>\n",
       "      <td>5</td>\n",
       "      <td>1st</td>\n",
       "      <td>29secs</td>\n",
       "      <td>8:3:40.514PM</td>\n",
       "      <td>8:56:47.711AM</td>\n",
       "      <td>8.35</td>\n",
       "      <td>3750</td>\n",
       "      <td>NaN</td>\n",
       "    </tr>\n",
       "    <tr>\n",
       "      <th>3</th>\n",
       "      <td>37</td>\n",
       "      <td>m</td>\n",
       "      <td>$3108.0</td>\n",
       "      <td>27</td>\n",
       "      <td>gReeN</td>\n",
       "      <td>5</td>\n",
       "      <td>8th</td>\n",
       "      <td>22secs</td>\n",
       "      <td>11:21:53.189PM</td>\n",
       "      <td>10:21:49.198AM</td>\n",
       "      <td>-1.78</td>\n",
       "      <td>2250</td>\n",
       "      <td>2250225022502250225022502250225022502250225022...</td>\n",
       "    </tr>\n",
       "    <tr>\n",
       "      <th>4</th>\n",
       "      <td>88</td>\n",
       "      <td>male</td>\n",
       "      <td>$23408.0</td>\n",
       "      <td>12</td>\n",
       "      <td>gReeN</td>\n",
       "      <td>0</td>\n",
       "      <td>6th</td>\n",
       "      <td>26secs</td>\n",
       "      <td>2:37:12.32AM</td>\n",
       "      <td>7:27:14.54AM</td>\n",
       "      <td>11.44</td>\n",
       "      <td>1750</td>\n",
       "      <td>1750175017501750175017501750175017501750</td>\n",
       "    </tr>\n",
       "    <tr>\n",
       "      <th>5</th>\n",
       "      <td>0</td>\n",
       "      <td>M</td>\n",
       "      <td>$17840.0</td>\n",
       "      <td>50</td>\n",
       "      <td>None</td>\n",
       "      <td>3</td>\n",
       "      <td>9th</td>\n",
       "      <td>27secs</td>\n",
       "      <td>7:31:1.947PM</td>\n",
       "      <td>11:20:15.527AM</td>\n",
       "      <td>11.44</td>\n",
       "      <td>3750</td>\n",
       "      <td>3750375037503750375037503750375037503750</td>\n",
       "    </tr>\n",
       "  </tbody>\n",
       "</table>\n",
       "</div>"
      ],
      "text/plain": [
       "    Age   Sex  M_income  Work  Color  Sibs  TFP   Ltime           Btime  \\\n",
       "ID                                                                        \n",
       "1    11  male   $3058.0    19  green     4  5th  27secs  11:45:32.334PM   \n",
       "2    33     m         0    53   BLUE     5  1st  29secs    8:3:40.514PM   \n",
       "3    37     m   $3108.0    27  gReeN     5  8th  22secs  11:21:53.189PM   \n",
       "4    88  male  $23408.0    12  gReeN     0  6th  26secs    2:37:12.32AM   \n",
       "5     0     M  $17840.0    50   None     3  9th  27secs    7:31:1.947PM   \n",
       "\n",
       "             Wtime  Tsleep  Caloric  \\\n",
       "ID                                    \n",
       "1    10:41:17.64AM   -5.01     2000   \n",
       "2    8:56:47.711AM    8.35     3750   \n",
       "3   10:21:49.198AM   -1.78     2250   \n",
       "4     7:27:14.54AM   11.44     1750   \n",
       "5   11:20:15.527AM   11.44     3750   \n",
       "\n",
       "                                                Steps  \n",
       "ID                                                     \n",
       "1   2000200020002000200020002000200020002000200020...  \n",
       "2                                                 NaN  \n",
       "3   2250225022502250225022502250225022502250225022...  \n",
       "4            1750175017501750175017501750175017501750  \n",
       "5            3750375037503750375037503750375037503750  "
      ]
     },
     "execution_count": 12,
     "metadata": {},
     "output_type": "execute_result"
    }
   ],
   "source": [
    "new_columns = [\"Age\",\n",
    "                         \"Sex\",\n",
    "                         \"M_income\",\n",
    "                         \"Work\",\n",
    "                         \"Color\",\n",
    "                         \"Sibs\",\n",
    "                         \"TFP\",\n",
    "                         \"Ltime\",\n",
    "                         \"Btime\",\n",
    "                         \"Wtime\",\n",
    "                         \"Tsleep\",\n",
    "                         \"Caloric\",\n",
    "                         \"Steps\"]\n",
    "dataset.columns = new_columns\n",
    "dataset.head()"
   ]
  },
  {
   "cell_type": "markdown",
   "metadata": {},
   "source": [
    "# Tidy up the data format\n",
    "The next thing I will do is clean up the format of each column. For example, in `Sex` column, we have `male`, `m`, `M`, and so on. What I want is only `Male` or `Female`.  So I am going to check the unique values in each column and fix them."
   ]
  },
  {
   "cell_type": "markdown",
   "metadata": {},
   "source": [
    "- ### Age column"
   ]
  },
  {
   "cell_type": "code",
   "execution_count": 13,
   "metadata": {},
   "outputs": [
    {
     "data": {
      "text/plain": [
       "array([11, 33, 37, 88,  0, 90, 29, 27, 68, 66, 89, 19, 44, 57, 38, 86, 43,\n",
       "       10, 67, 23, 36,  8, 63, 58, 25, 32, 55, 21, 73, 39, 17, 85, 64, 56,\n",
       "       47, 40, 50, 61, 30, 14, 26, 42, 59,  7, 24, 52, 12, 22, 28, 84, 83,\n",
       "       31, 78, 53, 41, 45, 70, 75, 48, 65, 34, 51, 87, 81, 79, 60, 16, 62,\n",
       "       35, 49, 76, 69, 54, 20, 71, 46, 80, 77, 15, 82, 18, 74, 13,  9, 72])"
      ]
     },
     "execution_count": 13,
     "metadata": {},
     "output_type": "execute_result"
    }
   ],
   "source": [
    "dataset[\"Age\"].unique()"
   ]
  },
  {
   "cell_type": "markdown",
   "metadata": {},
   "source": [
    "Seems good except for `0` which I will work on later in `Outliers` section."
   ]
  },
  {
   "cell_type": "markdown",
   "metadata": {},
   "source": [
    "- ### Sex column"
   ]
  },
  {
   "cell_type": "code",
   "execution_count": 14,
   "metadata": {},
   "outputs": [
    {
     "data": {
      "text/plain": [
       "female    110771\n",
       "M         110561\n",
       "Female    110533\n",
       "F         110470\n",
       "f         110419\n",
       "Male      110047\n",
       "X         109943\n",
       "m         109776\n",
       "male      109754\n",
       "0           7726\n",
       "Name: Sex, dtype: int64"
      ]
     },
     "execution_count": 14,
     "metadata": {},
     "output_type": "execute_result"
    }
   ],
   "source": [
    "dataset[\"Sex\"].value_counts()"
   ]
  },
  {
   "cell_type": "markdown",
   "metadata": {},
   "source": [
    "|Current Values|Fixed Values for now|\n",
    "|-|-|\n",
    "|female|Female|\n",
    "|M|Male|\n",
    "|Female|Female (The same)|\n",
    "|F|Female|\n",
    "|f|Female|\n",
    "|Male|Male (The same)|\n",
    "|X|X (Leave this as it is for now)|\n",
    "|m|Male|\n",
    "|male|Male|\n",
    "|0|X (Replace to X in order to work on easily for later on)|"
   ]
  },
  {
   "cell_type": "code",
   "execution_count": 15,
   "metadata": {},
   "outputs": [],
   "source": [
    "dataset[\"Sex\"] = dataset[\"Sex\"].replace(\"female\", \"Female\")\n",
    "dataset[\"Sex\"] = dataset[\"Sex\"].replace(\"F\", \"Female\")\n",
    "dataset[\"Sex\"] = dataset[\"Sex\"].replace(\"f\", \"Female\")\n",
    "dataset[\"Sex\"] = dataset[\"Sex\"].replace(\"male\", \"Male\")\n",
    "dataset[\"Sex\"] = dataset[\"Sex\"].replace(\"M\", \"Male\")\n",
    "dataset[\"Sex\"] = dataset[\"Sex\"].replace(\"m\", \"Male\")\n",
    "dataset[\"Sex\"] = dataset[\"Sex\"].replace(\"0\", \"X\")"
   ]
  },
  {
   "cell_type": "code",
   "execution_count": 16,
   "metadata": {},
   "outputs": [
    {
     "data": {
      "text/plain": [
       "Female    442193\n",
       "Male      440138\n",
       "X         117669\n",
       "Name: Sex, dtype: int64"
      ]
     },
     "execution_count": 16,
     "metadata": {},
     "output_type": "execute_result"
    }
   ],
   "source": [
    "dataset[\"Sex\"].value_counts()"
   ]
  },
  {
   "cell_type": "markdown",
   "metadata": {},
   "source": [
    "I will work on the `X`s in the `Outliers` section."
   ]
  },
  {
   "cell_type": "markdown",
   "metadata": {},
   "source": [
    "- ### M_income"
   ]
  },
  {
   "cell_type": "markdown",
   "metadata": {},
   "source": [
    "In this column, what I need to do is get rid of the `$` and to convert the values to `float` type."
   ]
  },
  {
   "cell_type": "code",
   "execution_count": 17,
   "metadata": {},
   "outputs": [],
   "source": [
    "def remove_doller(x):\n",
    "    \"\"\"\n",
    "    Remove $ mark from the input.\n",
    "    \n",
    "    Parameters\n",
    "    ----------------\n",
    "    x: str\n",
    "        Monthly income. An example: \"$3058.0\"\n",
    "        \n",
    "    Return\n",
    "    ---------\n",
    "    income: str\n",
    "        Monthly income without \"$\". An example: \"3058.0\"\n",
    "    \"\"\"\n",
    "    if \"$\" in x:\n",
    "        income = x.split(\"$\")[1]\n",
    "        return income\n",
    "    else:\n",
    "        income = x\n",
    "        return income"
   ]
  },
  {
   "cell_type": "code",
   "execution_count": 18,
   "metadata": {},
   "outputs": [
    {
     "data": {
      "text/html": [
       "<div>\n",
       "<style scoped>\n",
       "    .dataframe tbody tr th:only-of-type {\n",
       "        vertical-align: middle;\n",
       "    }\n",
       "\n",
       "    .dataframe tbody tr th {\n",
       "        vertical-align: top;\n",
       "    }\n",
       "\n",
       "    .dataframe thead th {\n",
       "        text-align: right;\n",
       "    }\n",
       "</style>\n",
       "<table border=\"1\" class=\"dataframe\">\n",
       "  <thead>\n",
       "    <tr style=\"text-align: right;\">\n",
       "      <th></th>\n",
       "      <th>Age</th>\n",
       "      <th>Sex</th>\n",
       "      <th>M_income</th>\n",
       "      <th>Work</th>\n",
       "      <th>Color</th>\n",
       "      <th>Sibs</th>\n",
       "      <th>TFP</th>\n",
       "      <th>Ltime</th>\n",
       "      <th>Btime</th>\n",
       "      <th>Wtime</th>\n",
       "      <th>Tsleep</th>\n",
       "      <th>Caloric</th>\n",
       "      <th>Steps</th>\n",
       "    </tr>\n",
       "    <tr>\n",
       "      <th>ID</th>\n",
       "      <th></th>\n",
       "      <th></th>\n",
       "      <th></th>\n",
       "      <th></th>\n",
       "      <th></th>\n",
       "      <th></th>\n",
       "      <th></th>\n",
       "      <th></th>\n",
       "      <th></th>\n",
       "      <th></th>\n",
       "      <th></th>\n",
       "      <th></th>\n",
       "      <th></th>\n",
       "    </tr>\n",
       "  </thead>\n",
       "  <tbody>\n",
       "    <tr>\n",
       "      <th>1</th>\n",
       "      <td>11</td>\n",
       "      <td>Male</td>\n",
       "      <td>3058.0</td>\n",
       "      <td>19</td>\n",
       "      <td>green</td>\n",
       "      <td>4</td>\n",
       "      <td>5th</td>\n",
       "      <td>27secs</td>\n",
       "      <td>11:45:32.334PM</td>\n",
       "      <td>10:41:17.64AM</td>\n",
       "      <td>-5.01</td>\n",
       "      <td>2000</td>\n",
       "      <td>2000200020002000200020002000200020002000200020...</td>\n",
       "    </tr>\n",
       "    <tr>\n",
       "      <th>2</th>\n",
       "      <td>33</td>\n",
       "      <td>Male</td>\n",
       "      <td>0.0</td>\n",
       "      <td>53</td>\n",
       "      <td>BLUE</td>\n",
       "      <td>5</td>\n",
       "      <td>1st</td>\n",
       "      <td>29secs</td>\n",
       "      <td>8:3:40.514PM</td>\n",
       "      <td>8:56:47.711AM</td>\n",
       "      <td>8.35</td>\n",
       "      <td>3750</td>\n",
       "      <td>NaN</td>\n",
       "    </tr>\n",
       "    <tr>\n",
       "      <th>3</th>\n",
       "      <td>37</td>\n",
       "      <td>Male</td>\n",
       "      <td>3108.0</td>\n",
       "      <td>27</td>\n",
       "      <td>gReeN</td>\n",
       "      <td>5</td>\n",
       "      <td>8th</td>\n",
       "      <td>22secs</td>\n",
       "      <td>11:21:53.189PM</td>\n",
       "      <td>10:21:49.198AM</td>\n",
       "      <td>-1.78</td>\n",
       "      <td>2250</td>\n",
       "      <td>2250225022502250225022502250225022502250225022...</td>\n",
       "    </tr>\n",
       "    <tr>\n",
       "      <th>4</th>\n",
       "      <td>88</td>\n",
       "      <td>Male</td>\n",
       "      <td>23408.0</td>\n",
       "      <td>12</td>\n",
       "      <td>gReeN</td>\n",
       "      <td>0</td>\n",
       "      <td>6th</td>\n",
       "      <td>26secs</td>\n",
       "      <td>2:37:12.32AM</td>\n",
       "      <td>7:27:14.54AM</td>\n",
       "      <td>11.44</td>\n",
       "      <td>1750</td>\n",
       "      <td>1750175017501750175017501750175017501750</td>\n",
       "    </tr>\n",
       "    <tr>\n",
       "      <th>5</th>\n",
       "      <td>0</td>\n",
       "      <td>Male</td>\n",
       "      <td>17840.0</td>\n",
       "      <td>50</td>\n",
       "      <td>None</td>\n",
       "      <td>3</td>\n",
       "      <td>9th</td>\n",
       "      <td>27secs</td>\n",
       "      <td>7:31:1.947PM</td>\n",
       "      <td>11:20:15.527AM</td>\n",
       "      <td>11.44</td>\n",
       "      <td>3750</td>\n",
       "      <td>3750375037503750375037503750375037503750</td>\n",
       "    </tr>\n",
       "  </tbody>\n",
       "</table>\n",
       "</div>"
      ],
      "text/plain": [
       "    Age   Sex  M_income  Work  Color  Sibs  TFP   Ltime           Btime  \\\n",
       "ID                                                                        \n",
       "1    11  Male    3058.0    19  green     4  5th  27secs  11:45:32.334PM   \n",
       "2    33  Male       0.0    53   BLUE     5  1st  29secs    8:3:40.514PM   \n",
       "3    37  Male    3108.0    27  gReeN     5  8th  22secs  11:21:53.189PM   \n",
       "4    88  Male   23408.0    12  gReeN     0  6th  26secs    2:37:12.32AM   \n",
       "5     0  Male   17840.0    50   None     3  9th  27secs    7:31:1.947PM   \n",
       "\n",
       "             Wtime  Tsleep  Caloric  \\\n",
       "ID                                    \n",
       "1    10:41:17.64AM   -5.01     2000   \n",
       "2    8:56:47.711AM    8.35     3750   \n",
       "3   10:21:49.198AM   -1.78     2250   \n",
       "4     7:27:14.54AM   11.44     1750   \n",
       "5   11:20:15.527AM   11.44     3750   \n",
       "\n",
       "                                                Steps  \n",
       "ID                                                     \n",
       "1   2000200020002000200020002000200020002000200020...  \n",
       "2                                                 NaN  \n",
       "3   2250225022502250225022502250225022502250225022...  \n",
       "4            1750175017501750175017501750175017501750  \n",
       "5            3750375037503750375037503750375037503750  "
      ]
     },
     "execution_count": 18,
     "metadata": {},
     "output_type": "execute_result"
    }
   ],
   "source": [
    "dataset[\"M_income\"] = dataset[\"M_income\"].map(remove_doller).astype(\"float32\")\n",
    "dataset.head()"
   ]
  },
  {
   "cell_type": "markdown",
   "metadata": {},
   "source": [
    "- ### Work"
   ]
  },
  {
   "cell_type": "code",
   "execution_count": 19,
   "metadata": {},
   "outputs": [
    {
     "data": {
      "text/plain": [
       "array([19, 53, 27, 12, 50, 45, 71, 52,  8, 60, 49, 79, 48, 10, 56, 54, 68,\n",
       "       40, 37, 23, 13, 25, 22, 15, 29, 69,  7, 28, 14, 16, 17, 63, 65, 18,\n",
       "       72, 57, 67, 39, 66, 78, 73, 74, 35, 55, 44, 41, 47, 42,  6, 21, 31,\n",
       "       32, 76, 26, 61,  9, 75, 59, 20, 11, 36, 43, 70, 24, 58, 51, 34, 38,\n",
       "       33, 30, 62, 64, 77, 46,  5,  0])"
      ]
     },
     "execution_count": 19,
     "metadata": {},
     "output_type": "execute_result"
    }
   ],
   "source": [
    "dataset[\"Work\"].unique()"
   ]
  },
  {
   "cell_type": "code",
   "execution_count": 20,
   "metadata": {},
   "outputs": [
    {
     "data": {
      "text/html": [
       "<div>\n",
       "<style scoped>\n",
       "    .dataframe tbody tr th:only-of-type {\n",
       "        vertical-align: middle;\n",
       "    }\n",
       "\n",
       "    .dataframe tbody tr th {\n",
       "        vertical-align: top;\n",
       "    }\n",
       "\n",
       "    .dataframe thead th {\n",
       "        text-align: right;\n",
       "    }\n",
       "</style>\n",
       "<table border=\"1\" class=\"dataframe\">\n",
       "  <thead>\n",
       "    <tr style=\"text-align: right;\">\n",
       "      <th></th>\n",
       "      <th>Age</th>\n",
       "      <th>Sex</th>\n",
       "      <th>M_income</th>\n",
       "      <th>Work</th>\n",
       "      <th>Color</th>\n",
       "      <th>Sibs</th>\n",
       "      <th>TFP</th>\n",
       "      <th>Ltime</th>\n",
       "      <th>Btime</th>\n",
       "      <th>Wtime</th>\n",
       "      <th>Tsleep</th>\n",
       "      <th>Caloric</th>\n",
       "      <th>Steps</th>\n",
       "    </tr>\n",
       "    <tr>\n",
       "      <th>ID</th>\n",
       "      <th></th>\n",
       "      <th></th>\n",
       "      <th></th>\n",
       "      <th></th>\n",
       "      <th></th>\n",
       "      <th></th>\n",
       "      <th></th>\n",
       "      <th></th>\n",
       "      <th></th>\n",
       "      <th></th>\n",
       "      <th></th>\n",
       "      <th></th>\n",
       "      <th></th>\n",
       "    </tr>\n",
       "  </thead>\n",
       "  <tbody>\n",
       "    <tr>\n",
       "      <th>423</th>\n",
       "      <td>54</td>\n",
       "      <td>Male</td>\n",
       "      <td>14040.0</td>\n",
       "      <td>0</td>\n",
       "      <td>yellow</td>\n",
       "      <td>3</td>\n",
       "      <td>9th</td>\n",
       "      <td>30secs</td>\n",
       "      <td>9:15:49.349PM</td>\n",
       "      <td>10:24:34.425AM</td>\n",
       "      <td>4.85</td>\n",
       "      <td>2000</td>\n",
       "      <td>2000200020002000200020002000200020002000200020...</td>\n",
       "    </tr>\n",
       "    <tr>\n",
       "      <th>716</th>\n",
       "      <td>14</td>\n",
       "      <td>X</td>\n",
       "      <td>2002.0</td>\n",
       "      <td>0</td>\n",
       "      <td>green</td>\n",
       "      <td>3</td>\n",
       "      <td>4th</td>\n",
       "      <td>24secs</td>\n",
       "      <td>7:25:52.826PM</td>\n",
       "      <td>12:3:15.364PM</td>\n",
       "      <td>-2.03</td>\n",
       "      <td>2250</td>\n",
       "      <td>2250225022502250225022502250225022502250</td>\n",
       "    </tr>\n",
       "    <tr>\n",
       "      <th>859</th>\n",
       "      <td>76</td>\n",
       "      <td>Female</td>\n",
       "      <td>5092.0</td>\n",
       "      <td>0</td>\n",
       "      <td>red</td>\n",
       "      <td>1</td>\n",
       "      <td>2nd</td>\n",
       "      <td>29secs</td>\n",
       "      <td>3:40:38.146AM</td>\n",
       "      <td>5:51:30.266AM</td>\n",
       "      <td>6.44</td>\n",
       "      <td>2000</td>\n",
       "      <td>2000200020002000200020002000200020002000</td>\n",
       "    </tr>\n",
       "    <tr>\n",
       "      <th>1008</th>\n",
       "      <td>15</td>\n",
       "      <td>Female</td>\n",
       "      <td>2340.0</td>\n",
       "      <td>0</td>\n",
       "      <td>reD</td>\n",
       "      <td>2</td>\n",
       "      <td>8th</td>\n",
       "      <td>30secs</td>\n",
       "      <td>3:40:57.255AM</td>\n",
       "      <td>11:42:31.709AM</td>\n",
       "      <td>12.03</td>\n",
       "      <td>3250</td>\n",
       "      <td>NaN</td>\n",
       "    </tr>\n",
       "    <tr>\n",
       "      <th>1128</th>\n",
       "      <td>58</td>\n",
       "      <td>Male</td>\n",
       "      <td>16820.0</td>\n",
       "      <td>0</td>\n",
       "      <td>green</td>\n",
       "      <td>9</td>\n",
       "      <td>4th</td>\n",
       "      <td>25secs</td>\n",
       "      <td>3:37:8.513AM</td>\n",
       "      <td>5:41:45.459AM</td>\n",
       "      <td>4.62</td>\n",
       "      <td>3750</td>\n",
       "      <td>NaN</td>\n",
       "    </tr>\n",
       "  </tbody>\n",
       "</table>\n",
       "</div>"
      ],
      "text/plain": [
       "      Age     Sex  M_income  Work   Color  Sibs  TFP   Ltime          Btime  \\\n",
       "ID                                                                            \n",
       "423    54    Male   14040.0     0  yellow     3  9th  30secs  9:15:49.349PM   \n",
       "716    14       X    2002.0     0   green     3  4th  24secs  7:25:52.826PM   \n",
       "859    76  Female    5092.0     0     red     1  2nd  29secs  3:40:38.146AM   \n",
       "1008   15  Female    2340.0     0     reD     2  8th  30secs  3:40:57.255AM   \n",
       "1128   58    Male   16820.0     0   green     9  4th  25secs   3:37:8.513AM   \n",
       "\n",
       "               Wtime  Tsleep  Caloric  \\\n",
       "ID                                      \n",
       "423   10:24:34.425AM    4.85     2000   \n",
       "716    12:3:15.364PM   -2.03     2250   \n",
       "859    5:51:30.266AM    6.44     2000   \n",
       "1008  11:42:31.709AM   12.03     3250   \n",
       "1128   5:41:45.459AM    4.62     3750   \n",
       "\n",
       "                                                  Steps  \n",
       "ID                                                       \n",
       "423   2000200020002000200020002000200020002000200020...  \n",
       "716            2250225022502250225022502250225022502250  \n",
       "859            2000200020002000200020002000200020002000  \n",
       "1008                                                NaN  \n",
       "1128                                                NaN  "
      ]
     },
     "execution_count": 20,
     "metadata": {},
     "output_type": "execute_result"
    }
   ],
   "source": [
    "dataset[dataset[\"Work\"] == 0].head()"
   ]
  },
  {
   "cell_type": "code",
   "execution_count": 21,
   "metadata": {},
   "outputs": [
    {
     "name": "stdout",
     "output_type": "stream",
     "text": [
      "The number of rows that have 0s in Work column: 7601\n"
     ]
    }
   ],
   "source": [
    "print(\"The number of rows that have 0s in Work column: {}\".format(dataset[dataset[\"Work\"] == 0].shape[0]))"
   ]
  },
  {
   "cell_type": "markdown",
   "metadata": {},
   "source": [
    "We have `0`s but we don't have negative values which is good. And all of them are integers which is also nice. I will work on `0`s in `Outliers` section."
   ]
  },
  {
   "cell_type": "markdown",
   "metadata": {},
   "source": [
    "- ### Color"
   ]
  },
  {
   "cell_type": "code",
   "execution_count": 22,
   "metadata": {},
   "outputs": [
    {
     "data": {
      "text/plain": [
       "yellow    124433\n",
       "green     124333\n",
       "BLUE      124255\n",
       "reD       124142\n",
       "red       124018\n",
       "blue      123943\n",
       "gReeN     123718\n",
       "None      123466\n",
       "0           7692\n",
       "Name: Color, dtype: int64"
      ]
     },
     "execution_count": 22,
     "metadata": {},
     "output_type": "execute_result"
    }
   ],
   "source": [
    "dataset[\"Color\"].value_counts()"
   ]
  },
  {
   "cell_type": "markdown",
   "metadata": {},
   "source": [
    "|Current Values|Fixed Values|\n",
    "|-|-|\n",
    "|yellow|yellow (No need to fix)|\n",
    "|green|green (No need to fix)|\n",
    "|BLUE|blue|\n",
    "|reD|red|\n",
    "|red|red (No need to fix)|\n",
    "|blue|blue|\n",
    "|gReeN|green|\n",
    "|None|0 (In order to work on easily)|\n",
    "|0|Leave this as it is|"
   ]
  },
  {
   "cell_type": "code",
   "execution_count": 23,
   "metadata": {},
   "outputs": [
    {
     "data": {
      "text/html": [
       "<div>\n",
       "<style scoped>\n",
       "    .dataframe tbody tr th:only-of-type {\n",
       "        vertical-align: middle;\n",
       "    }\n",
       "\n",
       "    .dataframe tbody tr th {\n",
       "        vertical-align: top;\n",
       "    }\n",
       "\n",
       "    .dataframe thead th {\n",
       "        text-align: right;\n",
       "    }\n",
       "</style>\n",
       "<table border=\"1\" class=\"dataframe\">\n",
       "  <thead>\n",
       "    <tr style=\"text-align: right;\">\n",
       "      <th></th>\n",
       "      <th>Age</th>\n",
       "      <th>Sex</th>\n",
       "      <th>M_income</th>\n",
       "      <th>Work</th>\n",
       "      <th>Color</th>\n",
       "      <th>Sibs</th>\n",
       "      <th>TFP</th>\n",
       "      <th>Ltime</th>\n",
       "      <th>Btime</th>\n",
       "      <th>Wtime</th>\n",
       "      <th>Tsleep</th>\n",
       "      <th>Caloric</th>\n",
       "      <th>Steps</th>\n",
       "    </tr>\n",
       "    <tr>\n",
       "      <th>ID</th>\n",
       "      <th></th>\n",
       "      <th></th>\n",
       "      <th></th>\n",
       "      <th></th>\n",
       "      <th></th>\n",
       "      <th></th>\n",
       "      <th></th>\n",
       "      <th></th>\n",
       "      <th></th>\n",
       "      <th></th>\n",
       "      <th></th>\n",
       "      <th></th>\n",
       "      <th></th>\n",
       "    </tr>\n",
       "  </thead>\n",
       "  <tbody>\n",
       "    <tr>\n",
       "      <th>11</th>\n",
       "      <td>89</td>\n",
       "      <td>Male</td>\n",
       "      <td>7387.0</td>\n",
       "      <td>8</td>\n",
       "      <td>0</td>\n",
       "      <td>7</td>\n",
       "      <td>4th</td>\n",
       "      <td>28secs</td>\n",
       "      <td>9:15:24.751PM</td>\n",
       "      <td>10:51:46.507AM</td>\n",
       "      <td>-5.90</td>\n",
       "      <td>3750</td>\n",
       "      <td>3750375037503750375037503750375037503750375037...</td>\n",
       "    </tr>\n",
       "    <tr>\n",
       "      <th>211</th>\n",
       "      <td>71</td>\n",
       "      <td>Female</td>\n",
       "      <td>19880.0</td>\n",
       "      <td>43</td>\n",
       "      <td>0</td>\n",
       "      <td>5</td>\n",
       "      <td>9th</td>\n",
       "      <td>22secs</td>\n",
       "      <td>9:25:11.871PM</td>\n",
       "      <td>11:35:52.983AM</td>\n",
       "      <td>-6.65</td>\n",
       "      <td>2500</td>\n",
       "      <td>25002500250025002500</td>\n",
       "    </tr>\n",
       "    <tr>\n",
       "      <th>326</th>\n",
       "      <td>45</td>\n",
       "      <td>Male</td>\n",
       "      <td>8820.0</td>\n",
       "      <td>15</td>\n",
       "      <td>0</td>\n",
       "      <td>6</td>\n",
       "      <td>7th</td>\n",
       "      <td>30secs</td>\n",
       "      <td>7:17:13.258PM</td>\n",
       "      <td>5:57:30.735AM</td>\n",
       "      <td>-11.78</td>\n",
       "      <td>1500</td>\n",
       "      <td>1500150015001500150015001500150015001500150015...</td>\n",
       "    </tr>\n",
       "    <tr>\n",
       "      <th>357</th>\n",
       "      <td>22</td>\n",
       "      <td>Male</td>\n",
       "      <td>5918.0</td>\n",
       "      <td>45</td>\n",
       "      <td>0</td>\n",
       "      <td>9</td>\n",
       "      <td>5th</td>\n",
       "      <td>20secs</td>\n",
       "      <td>2:34:10.533AM</td>\n",
       "      <td>12:26:36.454PM</td>\n",
       "      <td>0.77</td>\n",
       "      <td>3500</td>\n",
       "      <td>NaN</td>\n",
       "    </tr>\n",
       "    <tr>\n",
       "      <th>660</th>\n",
       "      <td>17</td>\n",
       "      <td>Female</td>\n",
       "      <td>4318.0</td>\n",
       "      <td>65</td>\n",
       "      <td>0</td>\n",
       "      <td>8</td>\n",
       "      <td>5th</td>\n",
       "      <td>29secs</td>\n",
       "      <td>1:39:13.280AM</td>\n",
       "      <td>5:56:43.585AM</td>\n",
       "      <td>-10.80</td>\n",
       "      <td>2250</td>\n",
       "      <td>NaN</td>\n",
       "    </tr>\n",
       "  </tbody>\n",
       "</table>\n",
       "</div>"
      ],
      "text/plain": [
       "     Age     Sex  M_income  Work Color  Sibs  TFP   Ltime          Btime  \\\n",
       "ID                                                                         \n",
       "11    89    Male    7387.0     8     0     7  4th  28secs  9:15:24.751PM   \n",
       "211   71  Female   19880.0    43     0     5  9th  22secs  9:25:11.871PM   \n",
       "326   45    Male    8820.0    15     0     6  7th  30secs  7:17:13.258PM   \n",
       "357   22    Male    5918.0    45     0     9  5th  20secs  2:34:10.533AM   \n",
       "660   17  Female    4318.0    65     0     8  5th  29secs  1:39:13.280AM   \n",
       "\n",
       "              Wtime  Tsleep  Caloric  \\\n",
       "ID                                     \n",
       "11   10:51:46.507AM   -5.90     3750   \n",
       "211  11:35:52.983AM   -6.65     2500   \n",
       "326   5:57:30.735AM  -11.78     1500   \n",
       "357  12:26:36.454PM    0.77     3500   \n",
       "660   5:56:43.585AM  -10.80     2250   \n",
       "\n",
       "                                                 Steps  \n",
       "ID                                                      \n",
       "11   3750375037503750375037503750375037503750375037...  \n",
       "211                               25002500250025002500  \n",
       "326  1500150015001500150015001500150015001500150015...  \n",
       "357                                                NaN  \n",
       "660                                                NaN  "
      ]
     },
     "execution_count": 23,
     "metadata": {},
     "output_type": "execute_result"
    }
   ],
   "source": [
    "dataset[dataset[\"Color\"] == \"0\"].head()"
   ]
  },
  {
   "cell_type": "code",
   "execution_count": 24,
   "metadata": {},
   "outputs": [
    {
     "data": {
      "text/plain": [
       "blue      248198\n",
       "red       248160\n",
       "green     248051\n",
       "0         131158\n",
       "yellow    124433\n",
       "Name: Color, dtype: int64"
      ]
     },
     "execution_count": 24,
     "metadata": {},
     "output_type": "execute_result"
    }
   ],
   "source": [
    "dataset[\"Color\"] = dataset[\"Color\"].replace(\"BLUE\", \"blue\")\n",
    "dataset[\"Color\"] = dataset[\"Color\"].replace(\"reD\", \"red\")\n",
    "dataset[\"Color\"] = dataset[\"Color\"].replace(\"gReeN\", \"green\")\n",
    "dataset[\"Color\"] = dataset[\"Color\"].replace(\"None\", \"0\")\n",
    "dataset[\"Color\"].value_counts()"
   ]
  },
  {
   "cell_type": "markdown",
   "metadata": {},
   "source": [
    "We still have `0`s in `Color` column but I just leave them there for now. I will workon them in `Outliers` section. "
   ]
  },
  {
   "cell_type": "markdown",
   "metadata": {},
   "source": [
    "- ### Sibs"
   ]
  },
  {
   "cell_type": "code",
   "execution_count": 25,
   "metadata": {},
   "outputs": [
    {
     "data": {
      "text/plain": [
       "0    107094\n",
       "7     99615\n",
       "8     99503\n",
       "2     99480\n",
       "9     99224\n",
       "3     99199\n",
       "5     99039\n",
       "4     99025\n",
       "6     98993\n",
       "1     98828\n",
       "Name: Sibs, dtype: int64"
      ]
     },
     "execution_count": 25,
     "metadata": {},
     "output_type": "execute_result"
    }
   ],
   "source": [
    "dataset[\"Sibs\"].value_counts()"
   ]
  },
  {
   "cell_type": "markdown",
   "metadata": {},
   "source": [
    "Seems good."
   ]
  },
  {
   "cell_type": "markdown",
   "metadata": {},
   "source": [
    "- ### TFP"
   ]
  },
  {
   "cell_type": "code",
   "execution_count": 26,
   "metadata": {},
   "outputs": [
    {
     "data": {
      "text/plain": [
       "array(['5th', '1st', '8th', '6th', '9th', '4th', '7th', '2nd', '3rd', '0'],\n",
       "      dtype=object)"
      ]
     },
     "execution_count": 26,
     "metadata": {},
     "output_type": "execute_result"
    }
   ],
   "source": [
    "dataset[\"TFP\"].unique()"
   ]
  },
  {
   "cell_type": "markdown",
   "metadata": {},
   "source": [
    "It's better to get rid of the suffixes and to convert the values to integers."
   ]
  },
  {
   "cell_type": "code",
   "execution_count": 27,
   "metadata": {},
   "outputs": [],
   "source": [
    "def remove_suffixes(x):\n",
    "    \"\"\"\n",
    "    Remove the suffix from the input such as `st`, `nd`, etc.\n",
    "    \n",
    "    Parameters\n",
    "    ----------------\n",
    "    x: str\n",
    "        placement such as `1st`, `2nd`, etc\n",
    "    \n",
    "    Return\n",
    "    ---------\n",
    "    placement: str\n",
    "        placement without suffix: Examples: `1`, `2`, etc\n",
    "    \"\"\"\n",
    "    placement = x[0]\n",
    "    return placement"
   ]
  },
  {
   "cell_type": "code",
   "execution_count": 28,
   "metadata": {},
   "outputs": [],
   "source": [
    "dataset[\"TFP\"] = dataset[\"TFP\"].map(remove_suffixes).astype(\"int32\")"
   ]
  },
  {
   "cell_type": "code",
   "execution_count": 29,
   "metadata": {},
   "outputs": [
    {
     "data": {
      "text/plain": [
       "array([5, 1, 8, 6, 9, 4, 7, 2, 3, 0])"
      ]
     },
     "execution_count": 29,
     "metadata": {},
     "output_type": "execute_result"
    }
   ],
   "source": [
    "dataset[\"TFP\"].unique()"
   ]
  },
  {
   "cell_type": "code",
   "execution_count": 30,
   "metadata": {},
   "outputs": [
    {
     "name": "stdout",
     "output_type": "stream",
     "text": [
      "The number of rows that have 0s in TFP column: 7652\n"
     ]
    }
   ],
   "source": [
    "print(\"The number of rows that have 0s in TFP column: {}\".format(dataset[dataset[\"TFP\"] == 0].shape[0]))"
   ]
  },
  {
   "cell_type": "markdown",
   "metadata": {},
   "source": [
    "There shoudn't be `0`s in this column so I will work on these `0`s in `Outliers` section. "
   ]
  },
  {
   "cell_type": "markdown",
   "metadata": {},
   "source": [
    "- ### Ltime"
   ]
  },
  {
   "cell_type": "code",
   "execution_count": 31,
   "metadata": {},
   "outputs": [
    {
     "data": {
      "text/plain": [
       "array(['27secs', '29secs', '22secs', '26secs', '24secs', '23secs',\n",
       "       '28secs', '20secs', '30secs', '21secs', '25secs', '0'],\n",
       "      dtype=object)"
      ]
     },
     "execution_count": 31,
     "metadata": {},
     "output_type": "execute_result"
    }
   ],
   "source": [
    "dataset[\"Ltime\"].unique()"
   ]
  },
  {
   "cell_type": "markdown",
   "metadata": {},
   "source": [
    "As I just did for the `TFP` column, I am going to remove `secs` and to convert to integers."
   ]
  },
  {
   "cell_type": "code",
   "execution_count": 32,
   "metadata": {},
   "outputs": [],
   "source": [
    "def remove_secs(x):\n",
    "    \"\"\"\n",
    "    Remove `secs` from the input.\n",
    "    \n",
    "    Parameters\n",
    "    ----------------\n",
    "    x: str\n",
    "        Second. Examples: `27secs`, `29secs`, etc\n",
    "    \n",
    "    Return\n",
    "    ---------\n",
    "    sec: str\n",
    "        Second without `secs`. Examples: `27`, `29`, etc\n",
    "    \"\"\"\n",
    "    sec = x.split(\"s\")[0]\n",
    "    return sec"
   ]
  },
  {
   "cell_type": "code",
   "execution_count": 33,
   "metadata": {},
   "outputs": [
    {
     "data": {
      "text/plain": [
       "array([27, 29, 22, 26, 24, 23, 28, 20, 30, 21, 25,  0])"
      ]
     },
     "execution_count": 33,
     "metadata": {},
     "output_type": "execute_result"
    }
   ],
   "source": [
    "dataset[\"Ltime\"] = dataset[\"Ltime\"].map(remove_secs).astype(\"int32\")\n",
    "dataset[\"Ltime\"].unique()"
   ]
  },
  {
   "cell_type": "code",
   "execution_count": 34,
   "metadata": {},
   "outputs": [
    {
     "name": "stdout",
     "output_type": "stream",
     "text": [
      "The number of rows that have 0s in Ltime column: 7786\n"
     ]
    }
   ],
   "source": [
    "print(\"The number of rows that have 0s in Ltime column: {}\".format(dataset[dataset[\"Ltime\"] == 0].shape[0]))"
   ]
  },
  {
   "cell_type": "markdown",
   "metadata": {},
   "source": [
    "`0`s could be ourliers.Will look into more in `Outliers` section."
   ]
  },
  {
   "cell_type": "markdown",
   "metadata": {},
   "source": [
    "- ### Btime and Wtime"
   ]
  },
  {
   "cell_type": "markdown",
   "metadata": {},
   "source": [
    "In order to easily deal with these columns later, I am going to use just the hours and to convert the time to military time. The data time will be integers."
   ]
  },
  {
   "cell_type": "code",
   "execution_count": 35,
   "metadata": {},
   "outputs": [],
   "source": [
    "def change_time(x):\n",
    "    \"\"\"\n",
    "    Clean up the time. Convert the given format to only \"hour\" in military time.\n",
    "    For example:\n",
    "    Input                        output\n",
    "    '2:37:12.32AM'     -> '2'\n",
    "    '11:45:32.334PM' -> '23'\n",
    "    '12:34:49.194PM' -> '12'\n",
    "    '12:34:49.194AM' -> '0'\n",
    "    \n",
    "    Parameters\n",
    "    ----------------\n",
    "    x: str\n",
    "        Time containing minutes, secounds, etc\n",
    "    \n",
    "    Return\n",
    "    ---------\n",
    "    time: int\n",
    "        Time: just \"hour\"\n",
    "    \"\"\"\n",
    "    if x == \"0\":\n",
    "        return int(x)\n",
    "    \n",
    "    time = x.split(\".\")[0].split(\":\")[0]  # Get only hour\n",
    "    try:\n",
    "        suffix = x.split(\".\")[1][-2:]  # Get AM or PM\n",
    "    except:\n",
    "        print(\"This is x {}\".format(x))\n",
    "        \n",
    "    if suffix == \"AM\":\n",
    "        if time == \"12\":\n",
    "            return 0\n",
    "        else:\n",
    "            return int(time)\n",
    "    else:\n",
    "        if time == \"12\":\n",
    "            return 12\n",
    "        else:\n",
    "            time = int(time) + 12\n",
    "            return time"
   ]
  },
  {
   "cell_type": "code",
   "execution_count": 36,
   "metadata": {},
   "outputs": [
    {
     "data": {
      "text/html": [
       "<div>\n",
       "<style scoped>\n",
       "    .dataframe tbody tr th:only-of-type {\n",
       "        vertical-align: middle;\n",
       "    }\n",
       "\n",
       "    .dataframe tbody tr th {\n",
       "        vertical-align: top;\n",
       "    }\n",
       "\n",
       "    .dataframe thead th {\n",
       "        text-align: right;\n",
       "    }\n",
       "</style>\n",
       "<table border=\"1\" class=\"dataframe\">\n",
       "  <thead>\n",
       "    <tr style=\"text-align: right;\">\n",
       "      <th></th>\n",
       "      <th>Age</th>\n",
       "      <th>Sex</th>\n",
       "      <th>M_income</th>\n",
       "      <th>Work</th>\n",
       "      <th>Color</th>\n",
       "      <th>Sibs</th>\n",
       "      <th>TFP</th>\n",
       "      <th>Ltime</th>\n",
       "      <th>Btime</th>\n",
       "      <th>Wtime</th>\n",
       "      <th>Tsleep</th>\n",
       "      <th>Caloric</th>\n",
       "      <th>Steps</th>\n",
       "    </tr>\n",
       "    <tr>\n",
       "      <th>ID</th>\n",
       "      <th></th>\n",
       "      <th></th>\n",
       "      <th></th>\n",
       "      <th></th>\n",
       "      <th></th>\n",
       "      <th></th>\n",
       "      <th></th>\n",
       "      <th></th>\n",
       "      <th></th>\n",
       "      <th></th>\n",
       "      <th></th>\n",
       "      <th></th>\n",
       "      <th></th>\n",
       "    </tr>\n",
       "  </thead>\n",
       "  <tbody>\n",
       "    <tr>\n",
       "      <th>1</th>\n",
       "      <td>11</td>\n",
       "      <td>Male</td>\n",
       "      <td>3058.0</td>\n",
       "      <td>19</td>\n",
       "      <td>green</td>\n",
       "      <td>4</td>\n",
       "      <td>5</td>\n",
       "      <td>27</td>\n",
       "      <td>23</td>\n",
       "      <td>10</td>\n",
       "      <td>-5.01</td>\n",
       "      <td>2000</td>\n",
       "      <td>2000200020002000200020002000200020002000200020...</td>\n",
       "    </tr>\n",
       "    <tr>\n",
       "      <th>2</th>\n",
       "      <td>33</td>\n",
       "      <td>Male</td>\n",
       "      <td>0.0</td>\n",
       "      <td>53</td>\n",
       "      <td>blue</td>\n",
       "      <td>5</td>\n",
       "      <td>1</td>\n",
       "      <td>29</td>\n",
       "      <td>20</td>\n",
       "      <td>8</td>\n",
       "      <td>8.35</td>\n",
       "      <td>3750</td>\n",
       "      <td>NaN</td>\n",
       "    </tr>\n",
       "    <tr>\n",
       "      <th>3</th>\n",
       "      <td>37</td>\n",
       "      <td>Male</td>\n",
       "      <td>3108.0</td>\n",
       "      <td>27</td>\n",
       "      <td>green</td>\n",
       "      <td>5</td>\n",
       "      <td>8</td>\n",
       "      <td>22</td>\n",
       "      <td>23</td>\n",
       "      <td>10</td>\n",
       "      <td>-1.78</td>\n",
       "      <td>2250</td>\n",
       "      <td>2250225022502250225022502250225022502250225022...</td>\n",
       "    </tr>\n",
       "    <tr>\n",
       "      <th>4</th>\n",
       "      <td>88</td>\n",
       "      <td>Male</td>\n",
       "      <td>23408.0</td>\n",
       "      <td>12</td>\n",
       "      <td>green</td>\n",
       "      <td>0</td>\n",
       "      <td>6</td>\n",
       "      <td>26</td>\n",
       "      <td>2</td>\n",
       "      <td>7</td>\n",
       "      <td>11.44</td>\n",
       "      <td>1750</td>\n",
       "      <td>1750175017501750175017501750175017501750</td>\n",
       "    </tr>\n",
       "    <tr>\n",
       "      <th>5</th>\n",
       "      <td>0</td>\n",
       "      <td>Male</td>\n",
       "      <td>17840.0</td>\n",
       "      <td>50</td>\n",
       "      <td>0</td>\n",
       "      <td>3</td>\n",
       "      <td>9</td>\n",
       "      <td>27</td>\n",
       "      <td>19</td>\n",
       "      <td>11</td>\n",
       "      <td>11.44</td>\n",
       "      <td>3750</td>\n",
       "      <td>3750375037503750375037503750375037503750</td>\n",
       "    </tr>\n",
       "  </tbody>\n",
       "</table>\n",
       "</div>"
      ],
      "text/plain": [
       "    Age   Sex  M_income  Work  Color  Sibs  TFP  Ltime  Btime  Wtime  Tsleep  \\\n",
       "ID                                                                             \n",
       "1    11  Male    3058.0    19  green     4    5     27     23     10   -5.01   \n",
       "2    33  Male       0.0    53   blue     5    1     29     20      8    8.35   \n",
       "3    37  Male    3108.0    27  green     5    8     22     23     10   -1.78   \n",
       "4    88  Male   23408.0    12  green     0    6     26      2      7   11.44   \n",
       "5     0  Male   17840.0    50      0     3    9     27     19     11   11.44   \n",
       "\n",
       "    Caloric                                              Steps  \n",
       "ID                                                              \n",
       "1      2000  2000200020002000200020002000200020002000200020...  \n",
       "2      3750                                                NaN  \n",
       "3      2250  2250225022502250225022502250225022502250225022...  \n",
       "4      1750           1750175017501750175017501750175017501750  \n",
       "5      3750           3750375037503750375037503750375037503750  "
      ]
     },
     "execution_count": 36,
     "metadata": {},
     "output_type": "execute_result"
    }
   ],
   "source": [
    "dataset[\"Btime\"] = dataset[\"Btime\"].map(change_time)\n",
    "dataset[\"Wtime\"] = dataset[\"Wtime\"].map(change_time)\n",
    "dataset.head()"
   ]
  },
  {
   "cell_type": "markdown",
   "metadata": {},
   "source": [
    "- ### Tsleep"
   ]
  },
  {
   "cell_type": "markdown",
   "metadata": {},
   "source": [
    "In this column, I can find negative values in spite of the column indicates `total speep time / night`. So I am going to fix the negative values by taking absolute values so that everything is going to be positive."
   ]
  },
  {
   "cell_type": "code",
   "execution_count": 37,
   "metadata": {},
   "outputs": [
    {
     "data": {
      "text/html": [
       "<div>\n",
       "<style scoped>\n",
       "    .dataframe tbody tr th:only-of-type {\n",
       "        vertical-align: middle;\n",
       "    }\n",
       "\n",
       "    .dataframe tbody tr th {\n",
       "        vertical-align: top;\n",
       "    }\n",
       "\n",
       "    .dataframe thead th {\n",
       "        text-align: right;\n",
       "    }\n",
       "</style>\n",
       "<table border=\"1\" class=\"dataframe\">\n",
       "  <thead>\n",
       "    <tr style=\"text-align: right;\">\n",
       "      <th></th>\n",
       "      <th>Age</th>\n",
       "      <th>Sex</th>\n",
       "      <th>M_income</th>\n",
       "      <th>Work</th>\n",
       "      <th>Color</th>\n",
       "      <th>Sibs</th>\n",
       "      <th>TFP</th>\n",
       "      <th>Ltime</th>\n",
       "      <th>Btime</th>\n",
       "      <th>Wtime</th>\n",
       "      <th>Tsleep</th>\n",
       "      <th>Caloric</th>\n",
       "      <th>Steps</th>\n",
       "    </tr>\n",
       "    <tr>\n",
       "      <th>ID</th>\n",
       "      <th></th>\n",
       "      <th></th>\n",
       "      <th></th>\n",
       "      <th></th>\n",
       "      <th></th>\n",
       "      <th></th>\n",
       "      <th></th>\n",
       "      <th></th>\n",
       "      <th></th>\n",
       "      <th></th>\n",
       "      <th></th>\n",
       "      <th></th>\n",
       "      <th></th>\n",
       "    </tr>\n",
       "  </thead>\n",
       "  <tbody>\n",
       "    <tr>\n",
       "      <th>1</th>\n",
       "      <td>11</td>\n",
       "      <td>Male</td>\n",
       "      <td>3058.0</td>\n",
       "      <td>19</td>\n",
       "      <td>green</td>\n",
       "      <td>4</td>\n",
       "      <td>5</td>\n",
       "      <td>27</td>\n",
       "      <td>23</td>\n",
       "      <td>10</td>\n",
       "      <td>5.01</td>\n",
       "      <td>2000</td>\n",
       "      <td>2000200020002000200020002000200020002000200020...</td>\n",
       "    </tr>\n",
       "    <tr>\n",
       "      <th>2</th>\n",
       "      <td>33</td>\n",
       "      <td>Male</td>\n",
       "      <td>0.0</td>\n",
       "      <td>53</td>\n",
       "      <td>blue</td>\n",
       "      <td>5</td>\n",
       "      <td>1</td>\n",
       "      <td>29</td>\n",
       "      <td>20</td>\n",
       "      <td>8</td>\n",
       "      <td>8.35</td>\n",
       "      <td>3750</td>\n",
       "      <td>NaN</td>\n",
       "    </tr>\n",
       "    <tr>\n",
       "      <th>3</th>\n",
       "      <td>37</td>\n",
       "      <td>Male</td>\n",
       "      <td>3108.0</td>\n",
       "      <td>27</td>\n",
       "      <td>green</td>\n",
       "      <td>5</td>\n",
       "      <td>8</td>\n",
       "      <td>22</td>\n",
       "      <td>23</td>\n",
       "      <td>10</td>\n",
       "      <td>1.78</td>\n",
       "      <td>2250</td>\n",
       "      <td>2250225022502250225022502250225022502250225022...</td>\n",
       "    </tr>\n",
       "    <tr>\n",
       "      <th>4</th>\n",
       "      <td>88</td>\n",
       "      <td>Male</td>\n",
       "      <td>23408.0</td>\n",
       "      <td>12</td>\n",
       "      <td>green</td>\n",
       "      <td>0</td>\n",
       "      <td>6</td>\n",
       "      <td>26</td>\n",
       "      <td>2</td>\n",
       "      <td>7</td>\n",
       "      <td>11.44</td>\n",
       "      <td>1750</td>\n",
       "      <td>1750175017501750175017501750175017501750</td>\n",
       "    </tr>\n",
       "    <tr>\n",
       "      <th>5</th>\n",
       "      <td>0</td>\n",
       "      <td>Male</td>\n",
       "      <td>17840.0</td>\n",
       "      <td>50</td>\n",
       "      <td>0</td>\n",
       "      <td>3</td>\n",
       "      <td>9</td>\n",
       "      <td>27</td>\n",
       "      <td>19</td>\n",
       "      <td>11</td>\n",
       "      <td>11.44</td>\n",
       "      <td>3750</td>\n",
       "      <td>3750375037503750375037503750375037503750</td>\n",
       "    </tr>\n",
       "  </tbody>\n",
       "</table>\n",
       "</div>"
      ],
      "text/plain": [
       "    Age   Sex  M_income  Work  Color  Sibs  TFP  Ltime  Btime  Wtime  Tsleep  \\\n",
       "ID                                                                             \n",
       "1    11  Male    3058.0    19  green     4    5     27     23     10    5.01   \n",
       "2    33  Male       0.0    53   blue     5    1     29     20      8    8.35   \n",
       "3    37  Male    3108.0    27  green     5    8     22     23     10    1.78   \n",
       "4    88  Male   23408.0    12  green     0    6     26      2      7   11.44   \n",
       "5     0  Male   17840.0    50      0     3    9     27     19     11   11.44   \n",
       "\n",
       "    Caloric                                              Steps  \n",
       "ID                                                              \n",
       "1      2000  2000200020002000200020002000200020002000200020...  \n",
       "2      3750                                                NaN  \n",
       "3      2250  2250225022502250225022502250225022502250225022...  \n",
       "4      1750           1750175017501750175017501750175017501750  \n",
       "5      3750           3750375037503750375037503750375037503750  "
      ]
     },
     "execution_count": 37,
     "metadata": {},
     "output_type": "execute_result"
    }
   ],
   "source": [
    "f = lambda x: np.abs(x)\n",
    "dataset[\"Tsleep\"] = dataset[\"Tsleep\"].map(f)\n",
    "dataset.head()"
   ]
  },
  {
   "cell_type": "markdown",
   "metadata": {},
   "source": [
    "- ### Caloric"
   ]
  },
  {
   "cell_type": "code",
   "execution_count": 38,
   "metadata": {},
   "outputs": [
    {
     "data": {
      "text/plain": [
       "array([2000, 3750, 2250, 1750, 3500, 2500, 3000, 1500, 3250, 2750,    0])"
      ]
     },
     "execution_count": 38,
     "metadata": {},
     "output_type": "execute_result"
    }
   ],
   "source": [
    "dataset[\"Caloric\"].unique()"
   ]
  },
  {
   "cell_type": "code",
   "execution_count": 39,
   "metadata": {},
   "outputs": [
    {
     "name": "stdout",
     "output_type": "stream",
     "text": [
      "the number od rows that have 0s in Caloric column: 7679\n"
     ]
    }
   ],
   "source": [
    "print(\"the number od rows that have 0s in Caloric column: {}\".format(dataset[dataset[\"Caloric\"] == 0].shape[0]))"
   ]
  },
  {
   "cell_type": "markdown",
   "metadata": {},
   "source": [
    "Seems good. But `0`s could be outliers. Will look into more in `Outliers` section."
   ]
  },
  {
   "cell_type": "markdown",
   "metadata": {},
   "source": [
    "- ### Steps"
   ]
  },
  {
   "cell_type": "code",
   "execution_count": 40,
   "metadata": {},
   "outputs": [
    {
     "data": {
      "text/plain": [
       "array(['20002000200020002000200020002000200020002000200020002000200020002000200020002000',\n",
       "       nan,\n",
       "       '22502250225022502250225022502250225022502250225022502250225022502250225022502250',\n",
       "       '1750175017501750175017501750175017501750',\n",
       "       '3750375037503750375037503750375037503750',\n",
       "       '2250225022502250225022502250225022502250',\n",
       "       '350035003500350035003500350035003500350035003500350035003500',\n",
       "       '25002500250025002500', '15001500150015001500',\n",
       "       '375037503750375037503750375037503750375037503750375037503750',\n",
       "       '2000200020002000200020002000200020002000', '30003000300030003000',\n",
       "       '3000300030003000300030003000300030003000',\n",
       "       '150015001500150015001500150015001500150015001500150015001500',\n",
       "       '32503250325032503250', '3500350035003500350035003500350035003500',\n",
       "       '275027502750275027502750275027502750275027502750275027502750',\n",
       "       '15001500150015001500150015001500150015001500150015001500150015001500150015001500',\n",
       "       '37503750375037503750',\n",
       "       '17501750175017501750175017501750175017501750175017501750175017501750175017501750',\n",
       "       '37503750375037503750375037503750375037503750375037503750375037503750375037503750',\n",
       "       '250025002500250025002500250025002500250025002500250025002500',\n",
       "       '17501750175017501750',\n",
       "       '32503250325032503250325032503250325032503250325032503250325032503250325032503250',\n",
       "       '3250325032503250325032503250325032503250', '20002000200020002000',\n",
       "       '225022502250225022502250225022502250225022502250225022502250',\n",
       "       '35003500350035003500', '0',\n",
       "       '1500150015001500150015001500150015001500', '27502750275027502750',\n",
       "       '35003500350035003500350035003500350035003500350035003500350035003500350035003500',\n",
       "       '27502750275027502750275027502750275027502750275027502750275027502750275027502750',\n",
       "       '25002500250025002500250025002500250025002500250025002500250025002500250025002500',\n",
       "       '2750275027502750275027502750275027502750',\n",
       "       '300030003000300030003000300030003000300030003000300030003000',\n",
       "       '2500250025002500250025002500250025002500',\n",
       "       '175017501750175017501750175017501750175017501750175017501750',\n",
       "       '22502250225022502250',\n",
       "       '30003000300030003000300030003000300030003000300030003000300030003000300030003000',\n",
       "       '200020002000200020002000200020002000200020002000200020002000',\n",
       "       '325032503250325032503250325032503250325032503250325032503250'],\n",
       "      dtype=object)"
      ]
     },
     "execution_count": 40,
     "metadata": {},
     "output_type": "execute_result"
    }
   ],
   "source": [
    "dataset[\"Steps\"].unique()"
   ]
  },
  {
   "cell_type": "markdown",
   "metadata": {},
   "source": [
    "OK, it seems like complicated but there can be patterns that several 4-digit numbers are being laid down.\n",
    "So I am going to replace the values to just the first 4 numbers of each value as a float."
   ]
  },
  {
   "cell_type": "code",
   "execution_count": 41,
   "metadata": {},
   "outputs": [],
   "source": [
    "def replace_steps(x):\n",
    "    \"\"\"\n",
    "    Replace the values in the `Steps` column.\n",
    "    \n",
    "    Parameter\n",
    "    --------------\n",
    "    x: str\n",
    "        An example: '37503750375037503750'\n",
    "    \n",
    "    Return\n",
    "    ---------\n",
    "    x_fixed: str\n",
    "        An example: '3750'\n",
    "    \"\"\"\n",
    "    if x == \"0\" or type(x) == float:\n",
    "        return x\n",
    "    else:\n",
    "        x_fixed = x[:4]\n",
    "        return x_fixed"
   ]
  },
  {
   "cell_type": "code",
   "execution_count": 42,
   "metadata": {},
   "outputs": [
    {
     "data": {
      "text/plain": [
       "array([2000.,   nan, 2250., 1750., 3750., 3500., 2500., 1500., 3000.,\n",
       "       3250., 2750.,    0.])"
      ]
     },
     "execution_count": 42,
     "metadata": {},
     "output_type": "execute_result"
    }
   ],
   "source": [
    "dataset[\"Steps\"] = dataset[\"Steps\"].map(replace_steps).astype(\"float32\")\n",
    "dataset[\"Steps\"].unique()"
   ]
  },
  {
   "cell_type": "code",
   "execution_count": 43,
   "metadata": {},
   "outputs": [
    {
     "data": {
      "text/html": [
       "<div>\n",
       "<style scoped>\n",
       "    .dataframe tbody tr th:only-of-type {\n",
       "        vertical-align: middle;\n",
       "    }\n",
       "\n",
       "    .dataframe tbody tr th {\n",
       "        vertical-align: top;\n",
       "    }\n",
       "\n",
       "    .dataframe thead th {\n",
       "        text-align: right;\n",
       "    }\n",
       "</style>\n",
       "<table border=\"1\" class=\"dataframe\">\n",
       "  <thead>\n",
       "    <tr style=\"text-align: right;\">\n",
       "      <th></th>\n",
       "      <th>Age</th>\n",
       "      <th>Sex</th>\n",
       "      <th>M_income</th>\n",
       "      <th>Work</th>\n",
       "      <th>Color</th>\n",
       "      <th>Sibs</th>\n",
       "      <th>TFP</th>\n",
       "      <th>Ltime</th>\n",
       "      <th>Btime</th>\n",
       "      <th>Wtime</th>\n",
       "      <th>Tsleep</th>\n",
       "      <th>Caloric</th>\n",
       "      <th>Steps</th>\n",
       "    </tr>\n",
       "    <tr>\n",
       "      <th>ID</th>\n",
       "      <th></th>\n",
       "      <th></th>\n",
       "      <th></th>\n",
       "      <th></th>\n",
       "      <th></th>\n",
       "      <th></th>\n",
       "      <th></th>\n",
       "      <th></th>\n",
       "      <th></th>\n",
       "      <th></th>\n",
       "      <th></th>\n",
       "      <th></th>\n",
       "      <th></th>\n",
       "    </tr>\n",
       "  </thead>\n",
       "  <tbody>\n",
       "    <tr>\n",
       "      <th>1</th>\n",
       "      <td>11</td>\n",
       "      <td>Male</td>\n",
       "      <td>3058.0</td>\n",
       "      <td>19</td>\n",
       "      <td>green</td>\n",
       "      <td>4</td>\n",
       "      <td>5</td>\n",
       "      <td>27</td>\n",
       "      <td>23</td>\n",
       "      <td>10</td>\n",
       "      <td>5.01</td>\n",
       "      <td>2000</td>\n",
       "      <td>2000.0</td>\n",
       "    </tr>\n",
       "    <tr>\n",
       "      <th>2</th>\n",
       "      <td>33</td>\n",
       "      <td>Male</td>\n",
       "      <td>0.0</td>\n",
       "      <td>53</td>\n",
       "      <td>blue</td>\n",
       "      <td>5</td>\n",
       "      <td>1</td>\n",
       "      <td>29</td>\n",
       "      <td>20</td>\n",
       "      <td>8</td>\n",
       "      <td>8.35</td>\n",
       "      <td>3750</td>\n",
       "      <td>NaN</td>\n",
       "    </tr>\n",
       "    <tr>\n",
       "      <th>3</th>\n",
       "      <td>37</td>\n",
       "      <td>Male</td>\n",
       "      <td>3108.0</td>\n",
       "      <td>27</td>\n",
       "      <td>green</td>\n",
       "      <td>5</td>\n",
       "      <td>8</td>\n",
       "      <td>22</td>\n",
       "      <td>23</td>\n",
       "      <td>10</td>\n",
       "      <td>1.78</td>\n",
       "      <td>2250</td>\n",
       "      <td>2250.0</td>\n",
       "    </tr>\n",
       "    <tr>\n",
       "      <th>4</th>\n",
       "      <td>88</td>\n",
       "      <td>Male</td>\n",
       "      <td>23408.0</td>\n",
       "      <td>12</td>\n",
       "      <td>green</td>\n",
       "      <td>0</td>\n",
       "      <td>6</td>\n",
       "      <td>26</td>\n",
       "      <td>2</td>\n",
       "      <td>7</td>\n",
       "      <td>11.44</td>\n",
       "      <td>1750</td>\n",
       "      <td>1750.0</td>\n",
       "    </tr>\n",
       "    <tr>\n",
       "      <th>5</th>\n",
       "      <td>0</td>\n",
       "      <td>Male</td>\n",
       "      <td>17840.0</td>\n",
       "      <td>50</td>\n",
       "      <td>0</td>\n",
       "      <td>3</td>\n",
       "      <td>9</td>\n",
       "      <td>27</td>\n",
       "      <td>19</td>\n",
       "      <td>11</td>\n",
       "      <td>11.44</td>\n",
       "      <td>3750</td>\n",
       "      <td>3750.0</td>\n",
       "    </tr>\n",
       "  </tbody>\n",
       "</table>\n",
       "</div>"
      ],
      "text/plain": [
       "    Age   Sex  M_income  Work  Color  Sibs  TFP  Ltime  Btime  Wtime  Tsleep  \\\n",
       "ID                                                                             \n",
       "1    11  Male    3058.0    19  green     4    5     27     23     10    5.01   \n",
       "2    33  Male       0.0    53   blue     5    1     29     20      8    8.35   \n",
       "3    37  Male    3108.0    27  green     5    8     22     23     10    1.78   \n",
       "4    88  Male   23408.0    12  green     0    6     26      2      7   11.44   \n",
       "5     0  Male   17840.0    50      0     3    9     27     19     11   11.44   \n",
       "\n",
       "    Caloric   Steps  \n",
       "ID                   \n",
       "1      2000  2000.0  \n",
       "2      3750     NaN  \n",
       "3      2250  2250.0  \n",
       "4      1750  1750.0  \n",
       "5      3750  3750.0  "
      ]
     },
     "execution_count": 43,
     "metadata": {},
     "output_type": "execute_result"
    }
   ],
   "source": [
    "dataset.head()"
   ]
  },
  {
   "cell_type": "markdown",
   "metadata": {},
   "source": [
    "I will work on the `nan`s in `Missing Values` section, which is the next, and will work on `0`s in `Outliers` section because they could be outliers."
   ]
  },
  {
   "cell_type": "markdown",
   "metadata": {},
   "source": [
    "# Missing Values"
   ]
  },
  {
   "cell_type": "markdown",
   "metadata": {},
   "source": [
    "Just a recap, what I have done so far is\n",
    "- Changed the name of columns to make easy to work on.\n",
    "- Cleaned up the data format.\n",
    "\n",
    "The next thing I am going to is fill in the blank in the dataset."
   ]
  },
  {
   "cell_type": "code",
   "execution_count": 44,
   "metadata": {},
   "outputs": [],
   "source": [
    "dataset_missing = dataset.copy()"
   ]
  },
  {
   "cell_type": "code",
   "execution_count": 45,
   "metadata": {},
   "outputs": [
    {
     "name": "stdout",
     "output_type": "stream",
     "text": [
      "<class 'pandas.core.frame.DataFrame'>\n",
      "Int64Index: 1000000 entries, 1 to 70496\n",
      "Data columns (total 13 columns):\n",
      "Age         1000000 non-null int64\n",
      "Sex         1000000 non-null object\n",
      "M_income    1000000 non-null float32\n",
      "Work        1000000 non-null int64\n",
      "Color       1000000 non-null object\n",
      "Sibs        1000000 non-null int64\n",
      "TFP         1000000 non-null int32\n",
      "Ltime       1000000 non-null int32\n",
      "Btime       1000000 non-null int64\n",
      "Wtime       1000000 non-null int64\n",
      "Tsleep      1000000 non-null float64\n",
      "Caloric     1000000 non-null int64\n",
      "Steps       669855 non-null float32\n",
      "dtypes: float32(2), float64(1), int32(2), int64(6), object(2)\n",
      "memory usage: 91.6+ MB\n"
     ]
    }
   ],
   "source": [
    "dataset_missing.info()"
   ]
  },
  {
   "cell_type": "code",
   "execution_count": 46,
   "metadata": {},
   "outputs": [
    {
     "data": {
      "text/plain": [
       "Index(['Steps'], dtype='object')"
      ]
     },
     "execution_count": 46,
     "metadata": {},
     "output_type": "execute_result"
    }
   ],
   "source": [
    "dataset_missing.columns[dataset_missing.isnull().any()]"
   ]
  },
  {
   "cell_type": "code",
   "execution_count": 47,
   "metadata": {},
   "outputs": [
    {
     "data": {
      "text/html": [
       "<div>\n",
       "<style scoped>\n",
       "    .dataframe tbody tr th:only-of-type {\n",
       "        vertical-align: middle;\n",
       "    }\n",
       "\n",
       "    .dataframe tbody tr th {\n",
       "        vertical-align: top;\n",
       "    }\n",
       "\n",
       "    .dataframe thead th {\n",
       "        text-align: right;\n",
       "    }\n",
       "</style>\n",
       "<table border=\"1\" class=\"dataframe\">\n",
       "  <thead>\n",
       "    <tr style=\"text-align: right;\">\n",
       "      <th></th>\n",
       "      <th>Age</th>\n",
       "      <th>M_income</th>\n",
       "      <th>Work</th>\n",
       "      <th>Sibs</th>\n",
       "      <th>TFP</th>\n",
       "      <th>Ltime</th>\n",
       "      <th>Btime</th>\n",
       "      <th>Wtime</th>\n",
       "      <th>Tsleep</th>\n",
       "      <th>Caloric</th>\n",
       "      <th>Steps</th>\n",
       "    </tr>\n",
       "  </thead>\n",
       "  <tbody>\n",
       "    <tr>\n",
       "      <th>Age</th>\n",
       "      <td>1.000000</td>\n",
       "      <td>0.642688</td>\n",
       "      <td>-0.000267</td>\n",
       "      <td>0.001827</td>\n",
       "      <td>0.000075</td>\n",
       "      <td>-0.001050</td>\n",
       "      <td>-0.000935</td>\n",
       "      <td>0.000515</td>\n",
       "      <td>0.000182</td>\n",
       "      <td>-0.000123</td>\n",
       "      <td>-0.001149</td>\n",
       "    </tr>\n",
       "    <tr>\n",
       "      <th>M_income</th>\n",
       "      <td>0.642688</td>\n",
       "      <td>1.000000</td>\n",
       "      <td>-0.000269</td>\n",
       "      <td>0.002367</td>\n",
       "      <td>-0.001172</td>\n",
       "      <td>-0.001307</td>\n",
       "      <td>-0.001882</td>\n",
       "      <td>0.000166</td>\n",
       "      <td>0.001571</td>\n",
       "      <td>-0.001160</td>\n",
       "      <td>-0.001565</td>\n",
       "    </tr>\n",
       "    <tr>\n",
       "      <th>Work</th>\n",
       "      <td>-0.000267</td>\n",
       "      <td>-0.000269</td>\n",
       "      <td>1.000000</td>\n",
       "      <td>-0.001201</td>\n",
       "      <td>0.000862</td>\n",
       "      <td>0.000397</td>\n",
       "      <td>-0.001250</td>\n",
       "      <td>-0.000892</td>\n",
       "      <td>-0.001277</td>\n",
       "      <td>-0.001238</td>\n",
       "      <td>-0.002356</td>\n",
       "    </tr>\n",
       "    <tr>\n",
       "      <th>Sibs</th>\n",
       "      <td>0.001827</td>\n",
       "      <td>0.002367</td>\n",
       "      <td>-0.001201</td>\n",
       "      <td>1.000000</td>\n",
       "      <td>-0.000250</td>\n",
       "      <td>0.000525</td>\n",
       "      <td>0.000319</td>\n",
       "      <td>0.000197</td>\n",
       "      <td>0.000050</td>\n",
       "      <td>-0.000360</td>\n",
       "      <td>-0.000740</td>\n",
       "    </tr>\n",
       "    <tr>\n",
       "      <th>TFP</th>\n",
       "      <td>0.000075</td>\n",
       "      <td>-0.001172</td>\n",
       "      <td>0.000862</td>\n",
       "      <td>-0.000250</td>\n",
       "      <td>1.000000</td>\n",
       "      <td>-0.000417</td>\n",
       "      <td>-0.000218</td>\n",
       "      <td>0.000207</td>\n",
       "      <td>0.002838</td>\n",
       "      <td>-0.000555</td>\n",
       "      <td>-0.001917</td>\n",
       "    </tr>\n",
       "    <tr>\n",
       "      <th>Ltime</th>\n",
       "      <td>-0.001050</td>\n",
       "      <td>-0.001307</td>\n",
       "      <td>0.000397</td>\n",
       "      <td>0.000525</td>\n",
       "      <td>-0.000417</td>\n",
       "      <td>1.000000</td>\n",
       "      <td>-0.001752</td>\n",
       "      <td>-0.001779</td>\n",
       "      <td>-0.000032</td>\n",
       "      <td>0.000837</td>\n",
       "      <td>0.001817</td>\n",
       "    </tr>\n",
       "    <tr>\n",
       "      <th>Btime</th>\n",
       "      <td>-0.000935</td>\n",
       "      <td>-0.001882</td>\n",
       "      <td>-0.001250</td>\n",
       "      <td>0.000319</td>\n",
       "      <td>-0.000218</td>\n",
       "      <td>-0.001752</td>\n",
       "      <td>1.000000</td>\n",
       "      <td>-0.000861</td>\n",
       "      <td>0.001704</td>\n",
       "      <td>-0.000440</td>\n",
       "      <td>0.000039</td>\n",
       "    </tr>\n",
       "    <tr>\n",
       "      <th>Wtime</th>\n",
       "      <td>0.000515</td>\n",
       "      <td>0.000166</td>\n",
       "      <td>-0.000892</td>\n",
       "      <td>0.000197</td>\n",
       "      <td>0.000207</td>\n",
       "      <td>-0.001779</td>\n",
       "      <td>-0.000861</td>\n",
       "      <td>1.000000</td>\n",
       "      <td>0.000427</td>\n",
       "      <td>-0.001481</td>\n",
       "      <td>-0.000968</td>\n",
       "    </tr>\n",
       "    <tr>\n",
       "      <th>Tsleep</th>\n",
       "      <td>0.000182</td>\n",
       "      <td>0.001571</td>\n",
       "      <td>-0.001277</td>\n",
       "      <td>0.000050</td>\n",
       "      <td>0.002838</td>\n",
       "      <td>-0.000032</td>\n",
       "      <td>0.001704</td>\n",
       "      <td>0.000427</td>\n",
       "      <td>1.000000</td>\n",
       "      <td>-0.000574</td>\n",
       "      <td>-0.000334</td>\n",
       "    </tr>\n",
       "    <tr>\n",
       "      <th>Caloric</th>\n",
       "      <td>-0.000123</td>\n",
       "      <td>-0.001160</td>\n",
       "      <td>-0.001238</td>\n",
       "      <td>-0.000360</td>\n",
       "      <td>-0.000555</td>\n",
       "      <td>0.000837</td>\n",
       "      <td>-0.000440</td>\n",
       "      <td>-0.001481</td>\n",
       "      <td>-0.000574</td>\n",
       "      <td>1.000000</td>\n",
       "      <td>0.877964</td>\n",
       "    </tr>\n",
       "    <tr>\n",
       "      <th>Steps</th>\n",
       "      <td>-0.001149</td>\n",
       "      <td>-0.001565</td>\n",
       "      <td>-0.002356</td>\n",
       "      <td>-0.000740</td>\n",
       "      <td>-0.001917</td>\n",
       "      <td>0.001817</td>\n",
       "      <td>0.000039</td>\n",
       "      <td>-0.000968</td>\n",
       "      <td>-0.000334</td>\n",
       "      <td>0.877964</td>\n",
       "      <td>1.000000</td>\n",
       "    </tr>\n",
       "  </tbody>\n",
       "</table>\n",
       "</div>"
      ],
      "text/plain": [
       "               Age  M_income      Work      Sibs       TFP     Ltime  \\\n",
       "Age       1.000000  0.642688 -0.000267  0.001827  0.000075 -0.001050   \n",
       "M_income  0.642688  1.000000 -0.000269  0.002367 -0.001172 -0.001307   \n",
       "Work     -0.000267 -0.000269  1.000000 -0.001201  0.000862  0.000397   \n",
       "Sibs      0.001827  0.002367 -0.001201  1.000000 -0.000250  0.000525   \n",
       "TFP       0.000075 -0.001172  0.000862 -0.000250  1.000000 -0.000417   \n",
       "Ltime    -0.001050 -0.001307  0.000397  0.000525 -0.000417  1.000000   \n",
       "Btime    -0.000935 -0.001882 -0.001250  0.000319 -0.000218 -0.001752   \n",
       "Wtime     0.000515  0.000166 -0.000892  0.000197  0.000207 -0.001779   \n",
       "Tsleep    0.000182  0.001571 -0.001277  0.000050  0.002838 -0.000032   \n",
       "Caloric  -0.000123 -0.001160 -0.001238 -0.000360 -0.000555  0.000837   \n",
       "Steps    -0.001149 -0.001565 -0.002356 -0.000740 -0.001917  0.001817   \n",
       "\n",
       "             Btime     Wtime    Tsleep   Caloric     Steps  \n",
       "Age      -0.000935  0.000515  0.000182 -0.000123 -0.001149  \n",
       "M_income -0.001882  0.000166  0.001571 -0.001160 -0.001565  \n",
       "Work     -0.001250 -0.000892 -0.001277 -0.001238 -0.002356  \n",
       "Sibs      0.000319  0.000197  0.000050 -0.000360 -0.000740  \n",
       "TFP      -0.000218  0.000207  0.002838 -0.000555 -0.001917  \n",
       "Ltime    -0.001752 -0.001779 -0.000032  0.000837  0.001817  \n",
       "Btime     1.000000 -0.000861  0.001704 -0.000440  0.000039  \n",
       "Wtime    -0.000861  1.000000  0.000427 -0.001481 -0.000968  \n",
       "Tsleep    0.001704  0.000427  1.000000 -0.000574 -0.000334  \n",
       "Caloric  -0.000440 -0.001481 -0.000574  1.000000  0.877964  \n",
       "Steps     0.000039 -0.000968 -0.000334  0.877964  1.000000  "
      ]
     },
     "execution_count": 47,
     "metadata": {},
     "output_type": "execute_result"
    }
   ],
   "source": [
    "dataset_missing.corr()"
   ]
  },
  {
   "cell_type": "code",
   "execution_count": 48,
   "metadata": {},
   "outputs": [
    {
     "data": {
      "text/html": [
       "<div>\n",
       "<style scoped>\n",
       "    .dataframe tbody tr th:only-of-type {\n",
       "        vertical-align: middle;\n",
       "    }\n",
       "\n",
       "    .dataframe tbody tr th {\n",
       "        vertical-align: top;\n",
       "    }\n",
       "\n",
       "    .dataframe thead th {\n",
       "        text-align: right;\n",
       "    }\n",
       "</style>\n",
       "<table border=\"1\" class=\"dataframe\">\n",
       "  <thead>\n",
       "    <tr style=\"text-align: right;\">\n",
       "      <th></th>\n",
       "      <th>Age</th>\n",
       "      <th>Sex</th>\n",
       "      <th>M_income</th>\n",
       "      <th>Work</th>\n",
       "      <th>Color</th>\n",
       "      <th>Sibs</th>\n",
       "      <th>TFP</th>\n",
       "      <th>Ltime</th>\n",
       "      <th>Btime</th>\n",
       "      <th>Wtime</th>\n",
       "      <th>Tsleep</th>\n",
       "      <th>Caloric</th>\n",
       "      <th>Steps</th>\n",
       "    </tr>\n",
       "    <tr>\n",
       "      <th>ID</th>\n",
       "      <th></th>\n",
       "      <th></th>\n",
       "      <th></th>\n",
       "      <th></th>\n",
       "      <th></th>\n",
       "      <th></th>\n",
       "      <th></th>\n",
       "      <th></th>\n",
       "      <th></th>\n",
       "      <th></th>\n",
       "      <th></th>\n",
       "      <th></th>\n",
       "      <th></th>\n",
       "    </tr>\n",
       "  </thead>\n",
       "  <tbody>\n",
       "    <tr>\n",
       "      <th>1</th>\n",
       "      <td>11</td>\n",
       "      <td>Male</td>\n",
       "      <td>3058.0</td>\n",
       "      <td>19</td>\n",
       "      <td>green</td>\n",
       "      <td>4</td>\n",
       "      <td>5</td>\n",
       "      <td>27</td>\n",
       "      <td>23</td>\n",
       "      <td>10</td>\n",
       "      <td>5.01</td>\n",
       "      <td>2000</td>\n",
       "      <td>2000.0</td>\n",
       "    </tr>\n",
       "    <tr>\n",
       "      <th>2</th>\n",
       "      <td>33</td>\n",
       "      <td>Male</td>\n",
       "      <td>0.0</td>\n",
       "      <td>53</td>\n",
       "      <td>blue</td>\n",
       "      <td>5</td>\n",
       "      <td>1</td>\n",
       "      <td>29</td>\n",
       "      <td>20</td>\n",
       "      <td>8</td>\n",
       "      <td>8.35</td>\n",
       "      <td>3750</td>\n",
       "      <td>NaN</td>\n",
       "    </tr>\n",
       "    <tr>\n",
       "      <th>3</th>\n",
       "      <td>37</td>\n",
       "      <td>Male</td>\n",
       "      <td>3108.0</td>\n",
       "      <td>27</td>\n",
       "      <td>green</td>\n",
       "      <td>5</td>\n",
       "      <td>8</td>\n",
       "      <td>22</td>\n",
       "      <td>23</td>\n",
       "      <td>10</td>\n",
       "      <td>1.78</td>\n",
       "      <td>2250</td>\n",
       "      <td>2250.0</td>\n",
       "    </tr>\n",
       "    <tr>\n",
       "      <th>4</th>\n",
       "      <td>88</td>\n",
       "      <td>Male</td>\n",
       "      <td>23408.0</td>\n",
       "      <td>12</td>\n",
       "      <td>green</td>\n",
       "      <td>0</td>\n",
       "      <td>6</td>\n",
       "      <td>26</td>\n",
       "      <td>2</td>\n",
       "      <td>7</td>\n",
       "      <td>11.44</td>\n",
       "      <td>1750</td>\n",
       "      <td>1750.0</td>\n",
       "    </tr>\n",
       "    <tr>\n",
       "      <th>5</th>\n",
       "      <td>0</td>\n",
       "      <td>Male</td>\n",
       "      <td>17840.0</td>\n",
       "      <td>50</td>\n",
       "      <td>0</td>\n",
       "      <td>3</td>\n",
       "      <td>9</td>\n",
       "      <td>27</td>\n",
       "      <td>19</td>\n",
       "      <td>11</td>\n",
       "      <td>11.44</td>\n",
       "      <td>3750</td>\n",
       "      <td>3750.0</td>\n",
       "    </tr>\n",
       "  </tbody>\n",
       "</table>\n",
       "</div>"
      ],
      "text/plain": [
       "    Age   Sex  M_income  Work  Color  Sibs  TFP  Ltime  Btime  Wtime  Tsleep  \\\n",
       "ID                                                                             \n",
       "1    11  Male    3058.0    19  green     4    5     27     23     10    5.01   \n",
       "2    33  Male       0.0    53   blue     5    1     29     20      8    8.35   \n",
       "3    37  Male    3108.0    27  green     5    8     22     23     10    1.78   \n",
       "4    88  Male   23408.0    12  green     0    6     26      2      7   11.44   \n",
       "5     0  Male   17840.0    50      0     3    9     27     19     11   11.44   \n",
       "\n",
       "    Caloric   Steps  \n",
       "ID                   \n",
       "1      2000  2000.0  \n",
       "2      3750     NaN  \n",
       "3      2250  2250.0  \n",
       "4      1750  1750.0  \n",
       "5      3750  3750.0  "
      ]
     },
     "execution_count": 48,
     "metadata": {},
     "output_type": "execute_result"
    }
   ],
   "source": [
    "dataset_missing.head()"
   ]
  },
  {
   "cell_type": "markdown",
   "metadata": {},
   "source": [
    "- ### Steps"
   ]
  },
  {
   "cell_type": "markdown",
   "metadata": {},
   "source": [
    "The correlation table above shows that the `Caloric` has a strong correlation with `Steps`.\n",
    "And the values in `Caloric` and `Steps` are the same in a row. So I am going to use the values in `Caloric` to fill the missing values in `Steps`. Eventually, the two columns will end up having `1` correlation between them so I can get rid of one of them."
   ]
  },
  {
   "cell_type": "markdown",
   "metadata": {},
   "source": [
    "Just in case, create a scatter plot to see the relationship between `Caloric` and `Steps`."
   ]
  },
  {
   "cell_type": "code",
   "execution_count": 49,
   "metadata": {},
   "outputs": [
    {
     "data": {
      "image/png": "[encoded data removed]",
      "text/plain": [
       "<Figure size 432x288 with 1 Axes>"
      ]
     },
     "metadata": {
      "needs_background": "light"
     },
     "output_type": "display_data"
    }
   ],
   "source": [
    "cal_vals = dataset_missing[\"Caloric\"][dataset_missing[\"Steps\"].notnull()]\n",
    "steps_vals = dataset_missing[\"Steps\"][dataset_missing[\"Steps\"].notnull()]\n",
    "plt.scatter(steps_vals, cal_vals)\n",
    "plt.title(\"The relationship between Caloric and Steps\")\n",
    "plt.xlabel(\"Steps\")\n",
    "plt.ylabel(\"Caloric\");"
   ]
  },
  {
   "cell_type": "markdown",
   "metadata": {},
   "source": [
    "Interesting!!\n",
    "So the solution is shown in the table below."
   ]
  },
  {
   "cell_type": "markdown",
   "metadata": {},
   "source": [
    "|Caloric|Steps|Solution|\n",
    "|-|-|-|\n",
    "|values|values|When both columns have a value, they are exact the same with each other.|\n",
    "|0s|values|Assign the values in `Steps` to places where there are 0s in `Caloric` respectively.|\n",
    "|values|0s|Assign the values in `Caloric` to places where there are 0s in `Steps` respectively.|\n",
    "|0s|nans|Take the mean of `Caloric` (without 0s) and use that value to fix 0s in `Caloric` and blanks in `Steps`.|"
   ]
  },
  {
   "cell_type": "code",
   "execution_count": 50,
   "metadata": {},
   "outputs": [
    {
     "data": {
      "text/plain": [
       "330145"
      ]
     },
     "execution_count": 50,
     "metadata": {},
     "output_type": "execute_result"
    }
   ],
   "source": [
    "dataset_missing[\"Steps\"].isnull().sum()"
   ]
  },
  {
   "cell_type": "code",
   "execution_count": 51,
   "metadata": {},
   "outputs": [
    {
     "data": {
      "text/plain": [
       "0"
      ]
     },
     "execution_count": 51,
     "metadata": {},
     "output_type": "execute_result"
    }
   ],
   "source": [
    "dataset_missing[\"Caloric\"].isnull().sum()"
   ]
  },
  {
   "cell_type": "code",
   "execution_count": 52,
   "metadata": {},
   "outputs": [
    {
     "data": {
      "text/plain": [
       "(330145, 13)"
      ]
     },
     "execution_count": 52,
     "metadata": {},
     "output_type": "execute_result"
    }
   ],
   "source": [
    "df_tmp = dataset_missing[dataset_missing[\"Steps\"].isnull()]\n",
    "df_tmp[df_tmp[\"Caloric\"] == 0]\n",
    "df_tmp.shape"
   ]
  },
  {
   "cell_type": "markdown",
   "metadata": {},
   "source": [
    "OK, all the rows which have `nan`s in `Steps` have `0`s in `Caloric` column so I am going to replace the `nan`s to `0`s in `Steps` column."
   ]
  },
  {
   "cell_type": "code",
   "execution_count": 53,
   "metadata": {},
   "outputs": [
    {
     "data": {
      "text/plain": [
       "0"
      ]
     },
     "execution_count": 53,
     "metadata": {},
     "output_type": "execute_result"
    }
   ],
   "source": [
    "dataset_missing[\"Steps\"].fillna(0, inplace=True)\n",
    "dataset_missing[\"Steps\"].isnull().sum()"
   ]
  },
  {
   "cell_type": "markdown",
   "metadata": {},
   "source": [
    "Now we have the the columns like this"
   ]
  },
  {
   "cell_type": "markdown",
   "metadata": {},
   "source": [
    "|Caloric|Steps|\n",
    "|-|-|\n",
    "|values|values|\n",
    "|0s|values|\n",
    "|values|0s|\n",
    "|0s|0s|"
   ]
  },
  {
   "cell_type": "markdown",
   "metadata": {},
   "source": [
    "I just filled missing values and will deal with the `0`s in both columns in `Outliers`section, which is the next."
   ]
  },
  {
   "cell_type": "code",
   "execution_count": 54,
   "metadata": {},
   "outputs": [],
   "source": [
    "dataset = dataset_missing"
   ]
  },
  {
   "cell_type": "markdown",
   "metadata": {},
   "source": [
    "# Outliers"
   ]
  },
  {
   "cell_type": "code",
   "execution_count": 55,
   "metadata": {},
   "outputs": [],
   "source": [
    "dataset_outliers = dataset.copy()"
   ]
  },
  {
   "cell_type": "code",
   "execution_count": 56,
   "metadata": {},
   "outputs": [
    {
     "data": {
      "text/html": [
       "<div>\n",
       "<style scoped>\n",
       "    .dataframe tbody tr th:only-of-type {\n",
       "        vertical-align: middle;\n",
       "    }\n",
       "\n",
       "    .dataframe tbody tr th {\n",
       "        vertical-align: top;\n",
       "    }\n",
       "\n",
       "    .dataframe thead th {\n",
       "        text-align: right;\n",
       "    }\n",
       "</style>\n",
       "<table border=\"1\" class=\"dataframe\">\n",
       "  <thead>\n",
       "    <tr style=\"text-align: right;\">\n",
       "      <th></th>\n",
       "      <th>Age</th>\n",
       "      <th>Sex</th>\n",
       "      <th>M_income</th>\n",
       "      <th>Work</th>\n",
       "      <th>Color</th>\n",
       "      <th>Sibs</th>\n",
       "      <th>TFP</th>\n",
       "      <th>Ltime</th>\n",
       "      <th>Btime</th>\n",
       "      <th>Wtime</th>\n",
       "      <th>Tsleep</th>\n",
       "      <th>Caloric</th>\n",
       "      <th>Steps</th>\n",
       "    </tr>\n",
       "    <tr>\n",
       "      <th>ID</th>\n",
       "      <th></th>\n",
       "      <th></th>\n",
       "      <th></th>\n",
       "      <th></th>\n",
       "      <th></th>\n",
       "      <th></th>\n",
       "      <th></th>\n",
       "      <th></th>\n",
       "      <th></th>\n",
       "      <th></th>\n",
       "      <th></th>\n",
       "      <th></th>\n",
       "      <th></th>\n",
       "    </tr>\n",
       "  </thead>\n",
       "  <tbody>\n",
       "    <tr>\n",
       "      <th>1</th>\n",
       "      <td>11</td>\n",
       "      <td>Male</td>\n",
       "      <td>3058.0</td>\n",
       "      <td>19</td>\n",
       "      <td>green</td>\n",
       "      <td>4</td>\n",
       "      <td>5</td>\n",
       "      <td>27</td>\n",
       "      <td>23</td>\n",
       "      <td>10</td>\n",
       "      <td>5.01</td>\n",
       "      <td>2000</td>\n",
       "      <td>2000.0</td>\n",
       "    </tr>\n",
       "    <tr>\n",
       "      <th>2</th>\n",
       "      <td>33</td>\n",
       "      <td>Male</td>\n",
       "      <td>0.0</td>\n",
       "      <td>53</td>\n",
       "      <td>blue</td>\n",
       "      <td>5</td>\n",
       "      <td>1</td>\n",
       "      <td>29</td>\n",
       "      <td>20</td>\n",
       "      <td>8</td>\n",
       "      <td>8.35</td>\n",
       "      <td>3750</td>\n",
       "      <td>0.0</td>\n",
       "    </tr>\n",
       "    <tr>\n",
       "      <th>3</th>\n",
       "      <td>37</td>\n",
       "      <td>Male</td>\n",
       "      <td>3108.0</td>\n",
       "      <td>27</td>\n",
       "      <td>green</td>\n",
       "      <td>5</td>\n",
       "      <td>8</td>\n",
       "      <td>22</td>\n",
       "      <td>23</td>\n",
       "      <td>10</td>\n",
       "      <td>1.78</td>\n",
       "      <td>2250</td>\n",
       "      <td>2250.0</td>\n",
       "    </tr>\n",
       "    <tr>\n",
       "      <th>4</th>\n",
       "      <td>88</td>\n",
       "      <td>Male</td>\n",
       "      <td>23408.0</td>\n",
       "      <td>12</td>\n",
       "      <td>green</td>\n",
       "      <td>0</td>\n",
       "      <td>6</td>\n",
       "      <td>26</td>\n",
       "      <td>2</td>\n",
       "      <td>7</td>\n",
       "      <td>11.44</td>\n",
       "      <td>1750</td>\n",
       "      <td>1750.0</td>\n",
       "    </tr>\n",
       "    <tr>\n",
       "      <th>5</th>\n",
       "      <td>0</td>\n",
       "      <td>Male</td>\n",
       "      <td>17840.0</td>\n",
       "      <td>50</td>\n",
       "      <td>0</td>\n",
       "      <td>3</td>\n",
       "      <td>9</td>\n",
       "      <td>27</td>\n",
       "      <td>19</td>\n",
       "      <td>11</td>\n",
       "      <td>11.44</td>\n",
       "      <td>3750</td>\n",
       "      <td>3750.0</td>\n",
       "    </tr>\n",
       "  </tbody>\n",
       "</table>\n",
       "</div>"
      ],
      "text/plain": [
       "    Age   Sex  M_income  Work  Color  Sibs  TFP  Ltime  Btime  Wtime  Tsleep  \\\n",
       "ID                                                                             \n",
       "1    11  Male    3058.0    19  green     4    5     27     23     10    5.01   \n",
       "2    33  Male       0.0    53   blue     5    1     29     20      8    8.35   \n",
       "3    37  Male    3108.0    27  green     5    8     22     23     10    1.78   \n",
       "4    88  Male   23408.0    12  green     0    6     26      2      7   11.44   \n",
       "5     0  Male   17840.0    50      0     3    9     27     19     11   11.44   \n",
       "\n",
       "    Caloric   Steps  \n",
       "ID                   \n",
       "1      2000  2000.0  \n",
       "2      3750     0.0  \n",
       "3      2250  2250.0  \n",
       "4      1750  1750.0  \n",
       "5      3750  3750.0  "
      ]
     },
     "execution_count": 56,
     "metadata": {},
     "output_type": "execute_result"
    }
   ],
   "source": [
    "dataset_outliers.head()"
   ]
  },
  {
   "cell_type": "code",
   "execution_count": 57,
   "metadata": {},
   "outputs": [
    {
     "name": "stdout",
     "output_type": "stream",
     "text": [
      "<class 'pandas.core.frame.DataFrame'>\n",
      "Int64Index: 1000000 entries, 1 to 70496\n",
      "Data columns (total 13 columns):\n",
      "Age         1000000 non-null int64\n",
      "Sex         1000000 non-null object\n",
      "M_income    1000000 non-null float32\n",
      "Work        1000000 non-null int64\n",
      "Color       1000000 non-null object\n",
      "Sibs        1000000 non-null int64\n",
      "TFP         1000000 non-null int32\n",
      "Ltime       1000000 non-null int32\n",
      "Btime       1000000 non-null int64\n",
      "Wtime       1000000 non-null int64\n",
      "Tsleep      1000000 non-null float64\n",
      "Caloric     1000000 non-null int64\n",
      "Steps       1000000 non-null float32\n",
      "dtypes: float32(2), float64(1), int32(2), int64(6), object(2)\n",
      "memory usage: 91.6+ MB\n"
     ]
    }
   ],
   "source": [
    "dataset_outliers.info()"
   ]
  },
  {
   "cell_type": "code",
   "execution_count": 58,
   "metadata": {},
   "outputs": [
    {
     "data": {
      "text/html": [
       "<div>\n",
       "<style scoped>\n",
       "    .dataframe tbody tr th:only-of-type {\n",
       "        vertical-align: middle;\n",
       "    }\n",
       "\n",
       "    .dataframe tbody tr th {\n",
       "        vertical-align: top;\n",
       "    }\n",
       "\n",
       "    .dataframe thead th {\n",
       "        text-align: right;\n",
       "    }\n",
       "</style>\n",
       "<table border=\"1\" class=\"dataframe\">\n",
       "  <thead>\n",
       "    <tr style=\"text-align: right;\">\n",
       "      <th></th>\n",
       "      <th>Age</th>\n",
       "      <th>M_income</th>\n",
       "      <th>Work</th>\n",
       "      <th>Sibs</th>\n",
       "      <th>TFP</th>\n",
       "      <th>Ltime</th>\n",
       "      <th>Btime</th>\n",
       "      <th>Wtime</th>\n",
       "      <th>Tsleep</th>\n",
       "      <th>Caloric</th>\n",
       "      <th>Steps</th>\n",
       "    </tr>\n",
       "  </thead>\n",
       "  <tbody>\n",
       "    <tr>\n",
       "      <th>Age</th>\n",
       "      <td>1.000000</td>\n",
       "      <td>0.642688</td>\n",
       "      <td>-0.000267</td>\n",
       "      <td>0.001827</td>\n",
       "      <td>0.000075</td>\n",
       "      <td>-0.001050</td>\n",
       "      <td>-0.000935</td>\n",
       "      <td>0.000515</td>\n",
       "      <td>0.000182</td>\n",
       "      <td>-0.000123</td>\n",
       "      <td>0.001172</td>\n",
       "    </tr>\n",
       "    <tr>\n",
       "      <th>M_income</th>\n",
       "      <td>0.642688</td>\n",
       "      <td>1.000000</td>\n",
       "      <td>-0.000269</td>\n",
       "      <td>0.002367</td>\n",
       "      <td>-0.001172</td>\n",
       "      <td>-0.001307</td>\n",
       "      <td>-0.001882</td>\n",
       "      <td>0.000166</td>\n",
       "      <td>0.001571</td>\n",
       "      <td>-0.001160</td>\n",
       "      <td>0.001179</td>\n",
       "    </tr>\n",
       "    <tr>\n",
       "      <th>Work</th>\n",
       "      <td>-0.000267</td>\n",
       "      <td>-0.000269</td>\n",
       "      <td>1.000000</td>\n",
       "      <td>-0.001201</td>\n",
       "      <td>0.000862</td>\n",
       "      <td>0.000397</td>\n",
       "      <td>-0.001250</td>\n",
       "      <td>-0.000892</td>\n",
       "      <td>-0.001277</td>\n",
       "      <td>-0.001238</td>\n",
       "      <td>0.000047</td>\n",
       "    </tr>\n",
       "    <tr>\n",
       "      <th>Sibs</th>\n",
       "      <td>0.001827</td>\n",
       "      <td>0.002367</td>\n",
       "      <td>-0.001201</td>\n",
       "      <td>1.000000</td>\n",
       "      <td>-0.000250</td>\n",
       "      <td>0.000525</td>\n",
       "      <td>0.000319</td>\n",
       "      <td>0.000197</td>\n",
       "      <td>0.000050</td>\n",
       "      <td>-0.000360</td>\n",
       "      <td>-0.001933</td>\n",
       "    </tr>\n",
       "    <tr>\n",
       "      <th>TFP</th>\n",
       "      <td>0.000075</td>\n",
       "      <td>-0.001172</td>\n",
       "      <td>0.000862</td>\n",
       "      <td>-0.000250</td>\n",
       "      <td>1.000000</td>\n",
       "      <td>-0.000417</td>\n",
       "      <td>-0.000218</td>\n",
       "      <td>0.000207</td>\n",
       "      <td>0.002838</td>\n",
       "      <td>-0.000555</td>\n",
       "      <td>-0.000887</td>\n",
       "    </tr>\n",
       "    <tr>\n",
       "      <th>Ltime</th>\n",
       "      <td>-0.001050</td>\n",
       "      <td>-0.001307</td>\n",
       "      <td>0.000397</td>\n",
       "      <td>0.000525</td>\n",
       "      <td>-0.000417</td>\n",
       "      <td>1.000000</td>\n",
       "      <td>-0.001752</td>\n",
       "      <td>-0.001779</td>\n",
       "      <td>-0.000032</td>\n",
       "      <td>0.000837</td>\n",
       "      <td>0.001892</td>\n",
       "    </tr>\n",
       "    <tr>\n",
       "      <th>Btime</th>\n",
       "      <td>-0.000935</td>\n",
       "      <td>-0.001882</td>\n",
       "      <td>-0.001250</td>\n",
       "      <td>0.000319</td>\n",
       "      <td>-0.000218</td>\n",
       "      <td>-0.001752</td>\n",
       "      <td>1.000000</td>\n",
       "      <td>-0.000861</td>\n",
       "      <td>0.001704</td>\n",
       "      <td>-0.000440</td>\n",
       "      <td>-0.001095</td>\n",
       "    </tr>\n",
       "    <tr>\n",
       "      <th>Wtime</th>\n",
       "      <td>0.000515</td>\n",
       "      <td>0.000166</td>\n",
       "      <td>-0.000892</td>\n",
       "      <td>0.000197</td>\n",
       "      <td>0.000207</td>\n",
       "      <td>-0.001779</td>\n",
       "      <td>-0.000861</td>\n",
       "      <td>1.000000</td>\n",
       "      <td>0.000427</td>\n",
       "      <td>-0.001481</td>\n",
       "      <td>-0.002689</td>\n",
       "    </tr>\n",
       "    <tr>\n",
       "      <th>Tsleep</th>\n",
       "      <td>0.000182</td>\n",
       "      <td>0.001571</td>\n",
       "      <td>-0.001277</td>\n",
       "      <td>0.000050</td>\n",
       "      <td>0.002838</td>\n",
       "      <td>-0.000032</td>\n",
       "      <td>0.001704</td>\n",
       "      <td>0.000427</td>\n",
       "      <td>1.000000</td>\n",
       "      <td>-0.000574</td>\n",
       "      <td>0.000218</td>\n",
       "    </tr>\n",
       "    <tr>\n",
       "      <th>Caloric</th>\n",
       "      <td>-0.000123</td>\n",
       "      <td>-0.001160</td>\n",
       "      <td>-0.001238</td>\n",
       "      <td>-0.000360</td>\n",
       "      <td>-0.000555</td>\n",
       "      <td>0.000837</td>\n",
       "      <td>-0.000440</td>\n",
       "      <td>-0.001481</td>\n",
       "      <td>-0.000574</td>\n",
       "      <td>1.000000</td>\n",
       "      <td>0.329212</td>\n",
       "    </tr>\n",
       "    <tr>\n",
       "      <th>Steps</th>\n",
       "      <td>0.001172</td>\n",
       "      <td>0.001179</td>\n",
       "      <td>0.000047</td>\n",
       "      <td>-0.001933</td>\n",
       "      <td>-0.000887</td>\n",
       "      <td>0.001892</td>\n",
       "      <td>-0.001095</td>\n",
       "      <td>-0.002689</td>\n",
       "      <td>0.000218</td>\n",
       "      <td>0.329212</td>\n",
       "      <td>1.000000</td>\n",
       "    </tr>\n",
       "  </tbody>\n",
       "</table>\n",
       "</div>"
      ],
      "text/plain": [
       "               Age  M_income      Work      Sibs       TFP     Ltime  \\\n",
       "Age       1.000000  0.642688 -0.000267  0.001827  0.000075 -0.001050   \n",
       "M_income  0.642688  1.000000 -0.000269  0.002367 -0.001172 -0.001307   \n",
       "Work     -0.000267 -0.000269  1.000000 -0.001201  0.000862  0.000397   \n",
       "Sibs      0.001827  0.002367 -0.001201  1.000000 -0.000250  0.000525   \n",
       "TFP       0.000075 -0.001172  0.000862 -0.000250  1.000000 -0.000417   \n",
       "Ltime    -0.001050 -0.001307  0.000397  0.000525 -0.000417  1.000000   \n",
       "Btime    -0.000935 -0.001882 -0.001250  0.000319 -0.000218 -0.001752   \n",
       "Wtime     0.000515  0.000166 -0.000892  0.000197  0.000207 -0.001779   \n",
       "Tsleep    0.000182  0.001571 -0.001277  0.000050  0.002838 -0.000032   \n",
       "Caloric  -0.000123 -0.001160 -0.001238 -0.000360 -0.000555  0.000837   \n",
       "Steps     0.001172  0.001179  0.000047 -0.001933 -0.000887  0.001892   \n",
       "\n",
       "             Btime     Wtime    Tsleep   Caloric     Steps  \n",
       "Age      -0.000935  0.000515  0.000182 -0.000123  0.001172  \n",
       "M_income -0.001882  0.000166  0.001571 -0.001160  0.001179  \n",
       "Work     -0.001250 -0.000892 -0.001277 -0.001238  0.000047  \n",
       "Sibs      0.000319  0.000197  0.000050 -0.000360 -0.001933  \n",
       "TFP      -0.000218  0.000207  0.002838 -0.000555 -0.000887  \n",
       "Ltime    -0.001752 -0.001779 -0.000032  0.000837  0.001892  \n",
       "Btime     1.000000 -0.000861  0.001704 -0.000440 -0.001095  \n",
       "Wtime    -0.000861  1.000000  0.000427 -0.001481 -0.002689  \n",
       "Tsleep    0.001704  0.000427  1.000000 -0.000574  0.000218  \n",
       "Caloric  -0.000440 -0.001481 -0.000574  1.000000  0.329212  \n",
       "Steps    -0.001095 -0.002689  0.000218  0.329212  1.000000  "
      ]
     },
     "execution_count": 58,
     "metadata": {},
     "output_type": "execute_result"
    }
   ],
   "source": [
    "dataset_outliers.corr()"
   ]
  },
  {
   "cell_type": "code",
   "execution_count": 59,
   "metadata": {},
   "outputs": [
    {
     "data": {
      "text/html": [
       "<div>\n",
       "<style scoped>\n",
       "    .dataframe tbody tr th:only-of-type {\n",
       "        vertical-align: middle;\n",
       "    }\n",
       "\n",
       "    .dataframe tbody tr th {\n",
       "        vertical-align: top;\n",
       "    }\n",
       "\n",
       "    .dataframe thead th {\n",
       "        text-align: right;\n",
       "    }\n",
       "</style>\n",
       "<table border=\"1\" class=\"dataframe\">\n",
       "  <thead>\n",
       "    <tr style=\"text-align: right;\">\n",
       "      <th></th>\n",
       "      <th>Age</th>\n",
       "      <th>M_income</th>\n",
       "      <th>Work</th>\n",
       "      <th>Sibs</th>\n",
       "      <th>TFP</th>\n",
       "      <th>Ltime</th>\n",
       "      <th>Btime</th>\n",
       "      <th>Wtime</th>\n",
       "      <th>Tsleep</th>\n",
       "      <th>Caloric</th>\n",
       "      <th>Steps</th>\n",
       "    </tr>\n",
       "  </thead>\n",
       "  <tbody>\n",
       "    <tr>\n",
       "      <th>count</th>\n",
       "      <td>1000000.000000</td>\n",
       "      <td>1000000.000000</td>\n",
       "      <td>1000000.000000</td>\n",
       "      <td>1000000.000000</td>\n",
       "      <td>1000000.00000</td>\n",
       "      <td>1000000.000000</td>\n",
       "      <td>1000000.000000</td>\n",
       "      <td>1000000.000000</td>\n",
       "      <td>1000000.000000</td>\n",
       "      <td>1000000.000000</td>\n",
       "      <td>1000000.000000</td>\n",
       "    </tr>\n",
       "    <tr>\n",
       "      <th>mean</th>\n",
       "      <td>48.140979</td>\n",
       "      <td>7701.025879</td>\n",
       "      <td>41.700051</td>\n",
       "      <td>4.466983</td>\n",
       "      <td>4.96396</td>\n",
       "      <td>24.804120</td>\n",
       "      <td>12.603700</td>\n",
       "      <td>8.435807</td>\n",
       "      <td>6.195786</td>\n",
       "      <td>2604.819000</td>\n",
       "      <td>1738.743896</td>\n",
       "    </tr>\n",
       "    <tr>\n",
       "      <th>std</th>\n",
       "      <td>24.513761</td>\n",
       "      <td>5869.445312</td>\n",
       "      <td>21.876296</td>\n",
       "      <td>2.888980</td>\n",
       "      <td>2.60794</td>\n",
       "      <td>3.841054</td>\n",
       "      <td>8.846513</td>\n",
       "      <td>2.402210</td>\n",
       "      <td>3.632695</td>\n",
       "      <td>750.914137</td>\n",
       "      <td>1372.158936</td>\n",
       "    </tr>\n",
       "    <tr>\n",
       "      <th>min</th>\n",
       "      <td>0.000000</td>\n",
       "      <td>0.000000</td>\n",
       "      <td>0.000000</td>\n",
       "      <td>0.000000</td>\n",
       "      <td>0.00000</td>\n",
       "      <td>0.000000</td>\n",
       "      <td>0.000000</td>\n",
       "      <td>0.000000</td>\n",
       "      <td>0.000000</td>\n",
       "      <td>0.000000</td>\n",
       "      <td>0.000000</td>\n",
       "    </tr>\n",
       "    <tr>\n",
       "      <th>25%</th>\n",
       "      <td>27.000000</td>\n",
       "      <td>2898.000000</td>\n",
       "      <td>23.000000</td>\n",
       "      <td>2.000000</td>\n",
       "      <td>3.00000</td>\n",
       "      <td>22.000000</td>\n",
       "      <td>3.000000</td>\n",
       "      <td>6.000000</td>\n",
       "      <td>3.050000</td>\n",
       "      <td>2000.000000</td>\n",
       "      <td>0.000000</td>\n",
       "    </tr>\n",
       "    <tr>\n",
       "      <th>50%</th>\n",
       "      <td>48.000000</td>\n",
       "      <td>6160.000000</td>\n",
       "      <td>42.000000</td>\n",
       "      <td>4.000000</td>\n",
       "      <td>5.00000</td>\n",
       "      <td>25.000000</td>\n",
       "      <td>12.000000</td>\n",
       "      <td>8.000000</td>\n",
       "      <td>6.190000</td>\n",
       "      <td>2500.000000</td>\n",
       "      <td>2000.000000</td>\n",
       "    </tr>\n",
       "    <tr>\n",
       "      <th>75%</th>\n",
       "      <td>69.000000</td>\n",
       "      <td>11319.000000</td>\n",
       "      <td>61.000000</td>\n",
       "      <td>7.000000</td>\n",
       "      <td>7.00000</td>\n",
       "      <td>28.000000</td>\n",
       "      <td>21.000000</td>\n",
       "      <td>10.000000</td>\n",
       "      <td>9.340000</td>\n",
       "      <td>3250.000000</td>\n",
       "      <td>3000.000000</td>\n",
       "    </tr>\n",
       "    <tr>\n",
       "      <th>max</th>\n",
       "      <td>90.000000</td>\n",
       "      <td>27000.000000</td>\n",
       "      <td>79.000000</td>\n",
       "      <td>9.000000</td>\n",
       "      <td>9.00000</td>\n",
       "      <td>30.000000</td>\n",
       "      <td>23.000000</td>\n",
       "      <td>12.000000</td>\n",
       "      <td>12.500000</td>\n",
       "      <td>3750.000000</td>\n",
       "      <td>3750.000000</td>\n",
       "    </tr>\n",
       "  </tbody>\n",
       "</table>\n",
       "</div>"
      ],
      "text/plain": [
       "                  Age        M_income            Work            Sibs  \\\n",
       "count  1000000.000000  1000000.000000  1000000.000000  1000000.000000   \n",
       "mean        48.140979     7701.025879       41.700051        4.466983   \n",
       "std         24.513761     5869.445312       21.876296        2.888980   \n",
       "min          0.000000        0.000000        0.000000        0.000000   \n",
       "25%         27.000000     2898.000000       23.000000        2.000000   \n",
       "50%         48.000000     6160.000000       42.000000        4.000000   \n",
       "75%         69.000000    11319.000000       61.000000        7.000000   \n",
       "max         90.000000    27000.000000       79.000000        9.000000   \n",
       "\n",
       "                 TFP           Ltime           Btime           Wtime  \\\n",
       "count  1000000.00000  1000000.000000  1000000.000000  1000000.000000   \n",
       "mean         4.96396       24.804120       12.603700        8.435807   \n",
       "std          2.60794        3.841054        8.846513        2.402210   \n",
       "min          0.00000        0.000000        0.000000        0.000000   \n",
       "25%          3.00000       22.000000        3.000000        6.000000   \n",
       "50%          5.00000       25.000000       12.000000        8.000000   \n",
       "75%          7.00000       28.000000       21.000000       10.000000   \n",
       "max          9.00000       30.000000       23.000000       12.000000   \n",
       "\n",
       "               Tsleep         Caloric           Steps  \n",
       "count  1000000.000000  1000000.000000  1000000.000000  \n",
       "mean         6.195786     2604.819000     1738.743896  \n",
       "std          3.632695      750.914137     1372.158936  \n",
       "min          0.000000        0.000000        0.000000  \n",
       "25%          3.050000     2000.000000        0.000000  \n",
       "50%          6.190000     2500.000000     2000.000000  \n",
       "75%          9.340000     3250.000000     3000.000000  \n",
       "max         12.500000     3750.000000     3750.000000  "
      ]
     },
     "execution_count": 59,
     "metadata": {},
     "output_type": "execute_result"
    }
   ],
   "source": [
    "dataset_outliers.describe()"
   ]
  },
  {
   "cell_type": "markdown",
   "metadata": {},
   "source": [
    "I am going to check if there are any outliers in each column by creating a plot for each column."
   ]
  },
  {
   "cell_type": "markdown",
   "metadata": {},
   "source": [
    "- ### Age"
   ]
  },
  {
   "cell_type": "code",
   "execution_count": 60,
   "metadata": {},
   "outputs": [
    {
     "data": {
      "text/plain": [
       "(0, 13)"
      ]
     },
     "execution_count": 60,
     "metadata": {},
     "output_type": "execute_result"
    }
   ],
   "source": [
    "dataset[(dataset[\"Age\"] == 0) & (dataset[\"M_income\"] == 0)].shape"
   ]
  },
  {
   "cell_type": "code",
   "execution_count": 61,
   "metadata": {},
   "outputs": [
    {
     "data": {
      "image/png": "[encoded data removed]",
      "text/plain": [
       "<Figure size 432x288 with 1 Axes>"
      ]
     },
     "metadata": {
      "needs_background": "light"
     },
     "output_type": "display_data"
    }
   ],
   "source": [
    "plt.bar(dataset_outliers[\"Age\"].unique(), dataset_outliers[\"Age\"].value_counts())\n",
    "plt.title(\"The number of people per Age\")\n",
    "plt.xlabel(\"Age\")\n",
    "plt.ylabel(\"The number of people\");"
   ]
  },
  {
   "cell_type": "code",
   "execution_count": 62,
   "metadata": {
    "scrolled": true
   },
   "outputs": [
    {
     "data": {
      "text/html": [
       "<div>\n",
       "<style scoped>\n",
       "    .dataframe tbody tr th:only-of-type {\n",
       "        vertical-align: middle;\n",
       "    }\n",
       "\n",
       "    .dataframe tbody tr th {\n",
       "        vertical-align: top;\n",
       "    }\n",
       "\n",
       "    .dataframe thead th {\n",
       "        text-align: right;\n",
       "    }\n",
       "</style>\n",
       "<table border=\"1\" class=\"dataframe\">\n",
       "  <thead>\n",
       "    <tr style=\"text-align: right;\">\n",
       "      <th></th>\n",
       "      <th>M_income</th>\n",
       "      <th>Work</th>\n",
       "      <th>Sibs</th>\n",
       "      <th>TFP</th>\n",
       "      <th>Ltime</th>\n",
       "      <th>Btime</th>\n",
       "      <th>Wtime</th>\n",
       "      <th>Tsleep</th>\n",
       "      <th>Caloric</th>\n",
       "      <th>Steps</th>\n",
       "    </tr>\n",
       "    <tr>\n",
       "      <th>Age</th>\n",
       "      <th></th>\n",
       "      <th></th>\n",
       "      <th></th>\n",
       "      <th></th>\n",
       "      <th></th>\n",
       "      <th></th>\n",
       "      <th></th>\n",
       "      <th></th>\n",
       "      <th></th>\n",
       "      <th></th>\n",
       "    </tr>\n",
       "  </thead>\n",
       "  <tbody>\n",
       "    <tr>\n",
       "      <th>0</th>\n",
       "      <td>7738.124512</td>\n",
       "      <td>42.139843</td>\n",
       "      <td>4.481127</td>\n",
       "      <td>5.053866</td>\n",
       "      <td>25.063303</td>\n",
       "      <td>12.518349</td>\n",
       "      <td>8.521232</td>\n",
       "      <td>6.211588</td>\n",
       "      <td>2624.082569</td>\n",
       "      <td>1748.034058</td>\n",
       "    </tr>\n",
       "    <tr>\n",
       "      <th>7</th>\n",
       "      <td>1099.204834</td>\n",
       "      <td>41.885790</td>\n",
       "      <td>4.484990</td>\n",
       "      <td>5.000085</td>\n",
       "      <td>24.816481</td>\n",
       "      <td>12.775916</td>\n",
       "      <td>8.436602</td>\n",
       "      <td>6.165462</td>\n",
       "      <td>2603.069989</td>\n",
       "      <td>1744.706177</td>\n",
       "    </tr>\n",
       "    <tr>\n",
       "      <th>8</th>\n",
       "      <td>1279.829468</td>\n",
       "      <td>41.696022</td>\n",
       "      <td>4.454660</td>\n",
       "      <td>4.940755</td>\n",
       "      <td>24.782066</td>\n",
       "      <td>12.669139</td>\n",
       "      <td>8.418422</td>\n",
       "      <td>6.194992</td>\n",
       "      <td>2599.696612</td>\n",
       "      <td>1732.176025</td>\n",
       "    </tr>\n",
       "    <tr>\n",
       "      <th>9</th>\n",
       "      <td>1430.428955</td>\n",
       "      <td>41.534911</td>\n",
       "      <td>4.438822</td>\n",
       "      <td>4.955354</td>\n",
       "      <td>24.780715</td>\n",
       "      <td>12.521316</td>\n",
       "      <td>8.456109</td>\n",
       "      <td>6.216975</td>\n",
       "      <td>2602.970796</td>\n",
       "      <td>1756.210083</td>\n",
       "    </tr>\n",
       "    <tr>\n",
       "      <th>10</th>\n",
       "      <td>1592.564697</td>\n",
       "      <td>41.618126</td>\n",
       "      <td>4.448689</td>\n",
       "      <td>4.960082</td>\n",
       "      <td>24.788847</td>\n",
       "      <td>12.736251</td>\n",
       "      <td>8.420935</td>\n",
       "      <td>6.232084</td>\n",
       "      <td>2600.843755</td>\n",
       "      <td>1749.764404</td>\n",
       "    </tr>\n",
       "    <tr>\n",
       "      <th>11</th>\n",
       "      <td>1740.155029</td>\n",
       "      <td>42.044821</td>\n",
       "      <td>4.464590</td>\n",
       "      <td>4.950114</td>\n",
       "      <td>24.825779</td>\n",
       "      <td>12.583608</td>\n",
       "      <td>8.417068</td>\n",
       "      <td>6.218920</td>\n",
       "      <td>2604.372415</td>\n",
       "      <td>1736.072388</td>\n",
       "    </tr>\n",
       "    <tr>\n",
       "      <th>12</th>\n",
       "      <td>1902.896240</td>\n",
       "      <td>41.585916</td>\n",
       "      <td>4.428439</td>\n",
       "      <td>4.979313</td>\n",
       "      <td>24.761969</td>\n",
       "      <td>12.548510</td>\n",
       "      <td>8.438065</td>\n",
       "      <td>6.241754</td>\n",
       "      <td>2597.673731</td>\n",
       "      <td>1732.626831</td>\n",
       "    </tr>\n",
       "    <tr>\n",
       "      <th>13</th>\n",
       "      <td>2065.238525</td>\n",
       "      <td>41.784964</td>\n",
       "      <td>4.457924</td>\n",
       "      <td>4.942418</td>\n",
       "      <td>24.838274</td>\n",
       "      <td>12.593165</td>\n",
       "      <td>8.411448</td>\n",
       "      <td>6.192336</td>\n",
       "      <td>2603.246476</td>\n",
       "      <td>1736.843262</td>\n",
       "    </tr>\n",
       "    <tr>\n",
       "      <th>14</th>\n",
       "      <td>2214.750977</td>\n",
       "      <td>41.925529</td>\n",
       "      <td>4.448796</td>\n",
       "      <td>4.933585</td>\n",
       "      <td>24.837775</td>\n",
       "      <td>12.584626</td>\n",
       "      <td>8.362328</td>\n",
       "      <td>6.176062</td>\n",
       "      <td>2613.891507</td>\n",
       "      <td>1746.464966</td>\n",
       "    </tr>\n",
       "    <tr>\n",
       "      <th>15</th>\n",
       "      <td>2372.874268</td>\n",
       "      <td>41.641135</td>\n",
       "      <td>4.444066</td>\n",
       "      <td>4.977337</td>\n",
       "      <td>24.878845</td>\n",
       "      <td>12.585328</td>\n",
       "      <td>8.405385</td>\n",
       "      <td>6.154389</td>\n",
       "      <td>2607.097214</td>\n",
       "      <td>1734.855591</td>\n",
       "    </tr>\n",
       "    <tr>\n",
       "      <th>16</th>\n",
       "      <td>2536.779297</td>\n",
       "      <td>41.700759</td>\n",
       "      <td>4.445837</td>\n",
       "      <td>4.958578</td>\n",
       "      <td>24.806273</td>\n",
       "      <td>12.699054</td>\n",
       "      <td>8.419160</td>\n",
       "      <td>6.138084</td>\n",
       "      <td>2592.729907</td>\n",
       "      <td>1729.843140</td>\n",
       "    </tr>\n",
       "    <tr>\n",
       "      <th>17</th>\n",
       "      <td>2682.630371</td>\n",
       "      <td>41.645293</td>\n",
       "      <td>4.445462</td>\n",
       "      <td>4.947922</td>\n",
       "      <td>24.757337</td>\n",
       "      <td>12.646650</td>\n",
       "      <td>8.409160</td>\n",
       "      <td>6.211237</td>\n",
       "      <td>2608.863444</td>\n",
       "      <td>1724.872803</td>\n",
       "    </tr>\n",
       "    <tr>\n",
       "      <th>18</th>\n",
       "      <td>2872.689697</td>\n",
       "      <td>41.625883</td>\n",
       "      <td>4.460451</td>\n",
       "      <td>4.959302</td>\n",
       "      <td>24.864879</td>\n",
       "      <td>12.683951</td>\n",
       "      <td>8.435590</td>\n",
       "      <td>6.212098</td>\n",
       "      <td>2608.045977</td>\n",
       "      <td>1754.746704</td>\n",
       "    </tr>\n",
       "    <tr>\n",
       "      <th>19</th>\n",
       "      <td>3030.952881</td>\n",
       "      <td>41.862307</td>\n",
       "      <td>4.451104</td>\n",
       "      <td>4.971012</td>\n",
       "      <td>24.828204</td>\n",
       "      <td>12.625885</td>\n",
       "      <td>8.427487</td>\n",
       "      <td>6.169226</td>\n",
       "      <td>2604.441981</td>\n",
       "      <td>1743.541626</td>\n",
       "    </tr>\n",
       "    <tr>\n",
       "      <th>20</th>\n",
       "      <td>3167.656006</td>\n",
       "      <td>41.645126</td>\n",
       "      <td>4.484121</td>\n",
       "      <td>4.954108</td>\n",
       "      <td>24.829204</td>\n",
       "      <td>12.513836</td>\n",
       "      <td>8.454662</td>\n",
       "      <td>6.170297</td>\n",
       "      <td>2599.829715</td>\n",
       "      <td>1726.053589</td>\n",
       "    </tr>\n",
       "    <tr>\n",
       "      <th>21</th>\n",
       "      <td>3357.252930</td>\n",
       "      <td>41.548518</td>\n",
       "      <td>4.425302</td>\n",
       "      <td>4.951271</td>\n",
       "      <td>24.741745</td>\n",
       "      <td>12.448780</td>\n",
       "      <td>8.433747</td>\n",
       "      <td>6.195065</td>\n",
       "      <td>2599.125918</td>\n",
       "      <td>1733.193970</td>\n",
       "    </tr>\n",
       "    <tr>\n",
       "      <th>22</th>\n",
       "      <td>3498.865967</td>\n",
       "      <td>41.889507</td>\n",
       "      <td>4.516730</td>\n",
       "      <td>4.983481</td>\n",
       "      <td>24.752212</td>\n",
       "      <td>12.693805</td>\n",
       "      <td>8.419300</td>\n",
       "      <td>6.211386</td>\n",
       "      <td>2609.544880</td>\n",
       "      <td>1750.674194</td>\n",
       "    </tr>\n",
       "    <tr>\n",
       "      <th>23</th>\n",
       "      <td>3649.059082</td>\n",
       "      <td>41.991778</td>\n",
       "      <td>4.431974</td>\n",
       "      <td>4.955073</td>\n",
       "      <td>24.774858</td>\n",
       "      <td>12.643977</td>\n",
       "      <td>8.421633</td>\n",
       "      <td>6.240959</td>\n",
       "      <td>2609.031957</td>\n",
       "      <td>1719.017578</td>\n",
       "    </tr>\n",
       "    <tr>\n",
       "      <th>24</th>\n",
       "      <td>3804.837158</td>\n",
       "      <td>41.899546</td>\n",
       "      <td>4.488147</td>\n",
       "      <td>4.942502</td>\n",
       "      <td>24.803463</td>\n",
       "      <td>12.638534</td>\n",
       "      <td>8.433171</td>\n",
       "      <td>6.187903</td>\n",
       "      <td>2607.494116</td>\n",
       "      <td>1737.790039</td>\n",
       "    </tr>\n",
       "    <tr>\n",
       "      <th>25</th>\n",
       "      <td>3948.995361</td>\n",
       "      <td>41.553426</td>\n",
       "      <td>4.454140</td>\n",
       "      <td>4.962673</td>\n",
       "      <td>24.765448</td>\n",
       "      <td>12.624716</td>\n",
       "      <td>8.469609</td>\n",
       "      <td>6.188451</td>\n",
       "      <td>2611.853720</td>\n",
       "      <td>1728.814575</td>\n",
       "    </tr>\n",
       "    <tr>\n",
       "      <th>26</th>\n",
       "      <td>4145.413086</td>\n",
       "      <td>41.444064</td>\n",
       "      <td>4.484972</td>\n",
       "      <td>4.956253</td>\n",
       "      <td>24.708716</td>\n",
       "      <td>12.592586</td>\n",
       "      <td>8.473869</td>\n",
       "      <td>6.202026</td>\n",
       "      <td>2608.407080</td>\n",
       "      <td>1733.803589</td>\n",
       "    </tr>\n",
       "    <tr>\n",
       "      <th>27</th>\n",
       "      <td>4292.037109</td>\n",
       "      <td>41.317009</td>\n",
       "      <td>4.495448</td>\n",
       "      <td>4.955580</td>\n",
       "      <td>24.850978</td>\n",
       "      <td>12.552175</td>\n",
       "      <td>8.410233</td>\n",
       "      <td>6.295422</td>\n",
       "      <td>2610.965947</td>\n",
       "      <td>1746.796997</td>\n",
       "    </tr>\n",
       "    <tr>\n",
       "      <th>28</th>\n",
       "      <td>4470.213379</td>\n",
       "      <td>41.720055</td>\n",
       "      <td>4.474601</td>\n",
       "      <td>4.977973</td>\n",
       "      <td>24.784257</td>\n",
       "      <td>12.516520</td>\n",
       "      <td>8.497567</td>\n",
       "      <td>6.239910</td>\n",
       "      <td>2611.841544</td>\n",
       "      <td>1741.526489</td>\n",
       "    </tr>\n",
       "    <tr>\n",
       "      <th>29</th>\n",
       "      <td>4617.854004</td>\n",
       "      <td>41.350859</td>\n",
       "      <td>4.454078</td>\n",
       "      <td>4.920037</td>\n",
       "      <td>24.843445</td>\n",
       "      <td>12.589569</td>\n",
       "      <td>8.452899</td>\n",
       "      <td>6.180034</td>\n",
       "      <td>2599.637681</td>\n",
       "      <td>1739.678101</td>\n",
       "    </tr>\n",
       "    <tr>\n",
       "      <th>30</th>\n",
       "      <td>4738.441895</td>\n",
       "      <td>41.799188</td>\n",
       "      <td>4.443918</td>\n",
       "      <td>4.974539</td>\n",
       "      <td>24.802149</td>\n",
       "      <td>12.630519</td>\n",
       "      <td>8.429454</td>\n",
       "      <td>6.159723</td>\n",
       "      <td>2605.925393</td>\n",
       "      <td>1744.480591</td>\n",
       "    </tr>\n",
       "    <tr>\n",
       "      <th>31</th>\n",
       "      <td>4906.244141</td>\n",
       "      <td>41.720817</td>\n",
       "      <td>4.444881</td>\n",
       "      <td>4.953170</td>\n",
       "      <td>24.787558</td>\n",
       "      <td>12.565715</td>\n",
       "      <td>8.399675</td>\n",
       "      <td>6.186632</td>\n",
       "      <td>2594.193300</td>\n",
       "      <td>1707.336304</td>\n",
       "    </tr>\n",
       "    <tr>\n",
       "      <th>32</th>\n",
       "      <td>5079.377930</td>\n",
       "      <td>41.584824</td>\n",
       "      <td>4.507758</td>\n",
       "      <td>4.976939</td>\n",
       "      <td>24.820432</td>\n",
       "      <td>12.615345</td>\n",
       "      <td>8.427384</td>\n",
       "      <td>6.163886</td>\n",
       "      <td>2609.580331</td>\n",
       "      <td>1756.676514</td>\n",
       "    </tr>\n",
       "    <tr>\n",
       "      <th>33</th>\n",
       "      <td>5228.870605</td>\n",
       "      <td>41.641180</td>\n",
       "      <td>4.414906</td>\n",
       "      <td>4.968478</td>\n",
       "      <td>24.811871</td>\n",
       "      <td>12.589873</td>\n",
       "      <td>8.428823</td>\n",
       "      <td>6.171014</td>\n",
       "      <td>2610.140007</td>\n",
       "      <td>1732.834473</td>\n",
       "    </tr>\n",
       "    <tr>\n",
       "      <th>34</th>\n",
       "      <td>5395.294434</td>\n",
       "      <td>41.499205</td>\n",
       "      <td>4.469668</td>\n",
       "      <td>4.958916</td>\n",
       "      <td>24.775165</td>\n",
       "      <td>12.586896</td>\n",
       "      <td>8.430424</td>\n",
       "      <td>6.158062</td>\n",
       "      <td>2608.400971</td>\n",
       "      <td>1737.908936</td>\n",
       "    </tr>\n",
       "    <tr>\n",
       "      <th>35</th>\n",
       "      <td>5550.534180</td>\n",
       "      <td>41.751175</td>\n",
       "      <td>4.474572</td>\n",
       "      <td>4.954683</td>\n",
       "      <td>24.764770</td>\n",
       "      <td>12.567221</td>\n",
       "      <td>8.474488</td>\n",
       "      <td>6.226309</td>\n",
       "      <td>2607.607419</td>\n",
       "      <td>1732.061890</td>\n",
       "    </tr>\n",
       "    <tr>\n",
       "      <th>...</th>\n",
       "      <td>...</td>\n",
       "      <td>...</td>\n",
       "      <td>...</td>\n",
       "      <td>...</td>\n",
       "      <td>...</td>\n",
       "      <td>...</td>\n",
       "      <td>...</td>\n",
       "      <td>...</td>\n",
       "      <td>...</td>\n",
       "      <td>...</td>\n",
       "    </tr>\n",
       "    <tr>\n",
       "      <th>61</th>\n",
       "      <td>9667.634766</td>\n",
       "      <td>41.658473</td>\n",
       "      <td>4.479866</td>\n",
       "      <td>4.938003</td>\n",
       "      <td>24.807383</td>\n",
       "      <td>12.553859</td>\n",
       "      <td>8.442366</td>\n",
       "      <td>6.215733</td>\n",
       "      <td>2613.632550</td>\n",
       "      <td>1729.236572</td>\n",
       "    </tr>\n",
       "    <tr>\n",
       "      <th>62</th>\n",
       "      <td>9849.724609</td>\n",
       "      <td>41.614050</td>\n",
       "      <td>4.458908</td>\n",
       "      <td>4.992213</td>\n",
       "      <td>24.716801</td>\n",
       "      <td>12.793991</td>\n",
       "      <td>8.456200</td>\n",
       "      <td>6.153101</td>\n",
       "      <td>2602.962336</td>\n",
       "      <td>1736.965698</td>\n",
       "    </tr>\n",
       "    <tr>\n",
       "      <th>63</th>\n",
       "      <td>10007.751953</td>\n",
       "      <td>41.589032</td>\n",
       "      <td>4.460291</td>\n",
       "      <td>4.966143</td>\n",
       "      <td>24.785738</td>\n",
       "      <td>12.598729</td>\n",
       "      <td>8.440144</td>\n",
       "      <td>6.196658</td>\n",
       "      <td>2600.902859</td>\n",
       "      <td>1748.725098</td>\n",
       "    </tr>\n",
       "    <tr>\n",
       "      <th>64</th>\n",
       "      <td>10149.856445</td>\n",
       "      <td>41.929652</td>\n",
       "      <td>4.478420</td>\n",
       "      <td>4.939337</td>\n",
       "      <td>24.783772</td>\n",
       "      <td>12.692608</td>\n",
       "      <td>8.459558</td>\n",
       "      <td>6.219337</td>\n",
       "      <td>2600.509771</td>\n",
       "      <td>1742.863159</td>\n",
       "    </tr>\n",
       "    <tr>\n",
       "      <th>65</th>\n",
       "      <td>10270.529297</td>\n",
       "      <td>41.516621</td>\n",
       "      <td>4.464383</td>\n",
       "      <td>4.960566</td>\n",
       "      <td>24.772812</td>\n",
       "      <td>12.618131</td>\n",
       "      <td>8.443606</td>\n",
       "      <td>6.247614</td>\n",
       "      <td>2621.417062</td>\n",
       "      <td>1762.254028</td>\n",
       "    </tr>\n",
       "    <tr>\n",
       "      <th>66</th>\n",
       "      <td>10456.240234</td>\n",
       "      <td>41.390768</td>\n",
       "      <td>4.433801</td>\n",
       "      <td>4.980724</td>\n",
       "      <td>24.790497</td>\n",
       "      <td>12.542526</td>\n",
       "      <td>8.456121</td>\n",
       "      <td>6.156276</td>\n",
       "      <td>2607.816199</td>\n",
       "      <td>1740.636597</td>\n",
       "    </tr>\n",
       "    <tr>\n",
       "      <th>67</th>\n",
       "      <td>10749.250000</td>\n",
       "      <td>41.944370</td>\n",
       "      <td>4.473905</td>\n",
       "      <td>4.968283</td>\n",
       "      <td>24.802316</td>\n",
       "      <td>12.590871</td>\n",
       "      <td>8.424652</td>\n",
       "      <td>6.171678</td>\n",
       "      <td>2607.610337</td>\n",
       "      <td>1744.378296</td>\n",
       "    </tr>\n",
       "    <tr>\n",
       "      <th>68</th>\n",
       "      <td>10862.996094</td>\n",
       "      <td>41.815313</td>\n",
       "      <td>4.451950</td>\n",
       "      <td>4.973783</td>\n",
       "      <td>24.803540</td>\n",
       "      <td>12.666778</td>\n",
       "      <td>8.433915</td>\n",
       "      <td>6.168219</td>\n",
       "      <td>2608.687484</td>\n",
       "      <td>1745.470459</td>\n",
       "    </tr>\n",
       "    <tr>\n",
       "      <th>69</th>\n",
       "      <td>10901.216797</td>\n",
       "      <td>41.741872</td>\n",
       "      <td>4.499531</td>\n",
       "      <td>4.968427</td>\n",
       "      <td>24.780783</td>\n",
       "      <td>12.438860</td>\n",
       "      <td>8.427938</td>\n",
       "      <td>6.186687</td>\n",
       "      <td>2600.605854</td>\n",
       "      <td>1726.683105</td>\n",
       "    </tr>\n",
       "    <tr>\n",
       "      <th>70</th>\n",
       "      <td>11149.036133</td>\n",
       "      <td>41.863136</td>\n",
       "      <td>4.481610</td>\n",
       "      <td>4.966271</td>\n",
       "      <td>24.808729</td>\n",
       "      <td>12.604322</td>\n",
       "      <td>8.408814</td>\n",
       "      <td>6.186317</td>\n",
       "      <td>2613.008475</td>\n",
       "      <td>1756.694946</td>\n",
       "    </tr>\n",
       "    <tr>\n",
       "      <th>71</th>\n",
       "      <td>11271.001953</td>\n",
       "      <td>41.844329</td>\n",
       "      <td>4.444715</td>\n",
       "      <td>4.952217</td>\n",
       "      <td>24.784810</td>\n",
       "      <td>12.559142</td>\n",
       "      <td>8.400788</td>\n",
       "      <td>6.239183</td>\n",
       "      <td>2613.043843</td>\n",
       "      <td>1766.807739</td>\n",
       "    </tr>\n",
       "    <tr>\n",
       "      <th>72</th>\n",
       "      <td>11390.674805</td>\n",
       "      <td>41.334061</td>\n",
       "      <td>4.433658</td>\n",
       "      <td>4.980601</td>\n",
       "      <td>24.914259</td>\n",
       "      <td>12.615301</td>\n",
       "      <td>8.432650</td>\n",
       "      <td>6.171922</td>\n",
       "      <td>2599.261001</td>\n",
       "      <td>1740.909424</td>\n",
       "    </tr>\n",
       "    <tr>\n",
       "      <th>73</th>\n",
       "      <td>11641.314453</td>\n",
       "      <td>41.670753</td>\n",
       "      <td>4.517172</td>\n",
       "      <td>4.952053</td>\n",
       "      <td>24.756235</td>\n",
       "      <td>12.609035</td>\n",
       "      <td>8.409354</td>\n",
       "      <td>6.168041</td>\n",
       "      <td>2612.498950</td>\n",
       "      <td>1753.022949</td>\n",
       "    </tr>\n",
       "    <tr>\n",
       "      <th>74</th>\n",
       "      <td>11912.754883</td>\n",
       "      <td>41.810196</td>\n",
       "      <td>4.447667</td>\n",
       "      <td>4.957136</td>\n",
       "      <td>24.735543</td>\n",
       "      <td>12.537876</td>\n",
       "      <td>8.442763</td>\n",
       "      <td>6.211671</td>\n",
       "      <td>2593.401251</td>\n",
       "      <td>1741.756836</td>\n",
       "    </tr>\n",
       "    <tr>\n",
       "      <th>75</th>\n",
       "      <td>11926.084961</td>\n",
       "      <td>41.957191</td>\n",
       "      <td>4.449362</td>\n",
       "      <td>4.987234</td>\n",
       "      <td>24.808085</td>\n",
       "      <td>12.629191</td>\n",
       "      <td>8.433106</td>\n",
       "      <td>6.180430</td>\n",
       "      <td>2607.106383</td>\n",
       "      <td>1729.638306</td>\n",
       "    </tr>\n",
       "    <tr>\n",
       "      <th>76</th>\n",
       "      <td>12015.772461</td>\n",
       "      <td>41.621380</td>\n",
       "      <td>4.482239</td>\n",
       "      <td>4.938973</td>\n",
       "      <td>24.830640</td>\n",
       "      <td>12.629209</td>\n",
       "      <td>8.460101</td>\n",
       "      <td>6.245215</td>\n",
       "      <td>2606.102694</td>\n",
       "      <td>1736.868652</td>\n",
       "    </tr>\n",
       "    <tr>\n",
       "      <th>77</th>\n",
       "      <td>12207.500000</td>\n",
       "      <td>41.833419</td>\n",
       "      <td>4.550554</td>\n",
       "      <td>4.971100</td>\n",
       "      <td>24.825661</td>\n",
       "      <td>12.694714</td>\n",
       "      <td>8.445439</td>\n",
       "      <td>6.221207</td>\n",
       "      <td>2599.637681</td>\n",
       "      <td>1722.399780</td>\n",
       "    </tr>\n",
       "    <tr>\n",
       "      <th>78</th>\n",
       "      <td>12400.520508</td>\n",
       "      <td>41.094199</td>\n",
       "      <td>4.479809</td>\n",
       "      <td>4.931912</td>\n",
       "      <td>24.658131</td>\n",
       "      <td>12.500965</td>\n",
       "      <td>8.460163</td>\n",
       "      <td>6.249258</td>\n",
       "      <td>2600.663252</td>\n",
       "      <td>1734.048340</td>\n",
       "    </tr>\n",
       "    <tr>\n",
       "      <th>79</th>\n",
       "      <td>12584.954102</td>\n",
       "      <td>41.725523</td>\n",
       "      <td>4.464949</td>\n",
       "      <td>4.982707</td>\n",
       "      <td>24.850216</td>\n",
       "      <td>12.633042</td>\n",
       "      <td>8.439858</td>\n",
       "      <td>6.172531</td>\n",
       "      <td>2598.118166</td>\n",
       "      <td>1724.760498</td>\n",
       "    </tr>\n",
       "    <tr>\n",
       "      <th>80</th>\n",
       "      <td>12756.341797</td>\n",
       "      <td>41.823205</td>\n",
       "      <td>4.425222</td>\n",
       "      <td>4.947332</td>\n",
       "      <td>24.788380</td>\n",
       "      <td>12.515473</td>\n",
       "      <td>8.452633</td>\n",
       "      <td>6.188909</td>\n",
       "      <td>2605.939143</td>\n",
       "      <td>1748.211304</td>\n",
       "    </tr>\n",
       "    <tr>\n",
       "      <th>81</th>\n",
       "      <td>12856.253906</td>\n",
       "      <td>41.410659</td>\n",
       "      <td>4.443014</td>\n",
       "      <td>4.941898</td>\n",
       "      <td>24.837968</td>\n",
       "      <td>12.811964</td>\n",
       "      <td>8.448249</td>\n",
       "      <td>6.179098</td>\n",
       "      <td>2596.313938</td>\n",
       "      <td>1729.767456</td>\n",
       "    </tr>\n",
       "    <tr>\n",
       "      <th>82</th>\n",
       "      <td>13054.899414</td>\n",
       "      <td>41.398261</td>\n",
       "      <td>4.444613</td>\n",
       "      <td>4.987420</td>\n",
       "      <td>24.711162</td>\n",
       "      <td>12.540611</td>\n",
       "      <td>8.454407</td>\n",
       "      <td>6.170928</td>\n",
       "      <td>2610.794495</td>\n",
       "      <td>1731.003052</td>\n",
       "    </tr>\n",
       "    <tr>\n",
       "      <th>83</th>\n",
       "      <td>13073.350586</td>\n",
       "      <td>41.516804</td>\n",
       "      <td>4.511259</td>\n",
       "      <td>4.972442</td>\n",
       "      <td>24.796673</td>\n",
       "      <td>12.634683</td>\n",
       "      <td>8.434381</td>\n",
       "      <td>6.199385</td>\n",
       "      <td>2591.518232</td>\n",
       "      <td>1742.354248</td>\n",
       "    </tr>\n",
       "    <tr>\n",
       "      <th>84</th>\n",
       "      <td>13328.669922</td>\n",
       "      <td>41.775596</td>\n",
       "      <td>4.462543</td>\n",
       "      <td>4.975057</td>\n",
       "      <td>24.831213</td>\n",
       "      <td>12.601500</td>\n",
       "      <td>8.468105</td>\n",
       "      <td>6.172504</td>\n",
       "      <td>2601.858094</td>\n",
       "      <td>1732.409180</td>\n",
       "    </tr>\n",
       "    <tr>\n",
       "      <th>85</th>\n",
       "      <td>13416.183594</td>\n",
       "      <td>41.937542</td>\n",
       "      <td>4.471262</td>\n",
       "      <td>4.936960</td>\n",
       "      <td>24.863787</td>\n",
       "      <td>12.489535</td>\n",
       "      <td>8.408887</td>\n",
       "      <td>6.201699</td>\n",
       "      <td>2605.357143</td>\n",
       "      <td>1741.798218</td>\n",
       "    </tr>\n",
       "    <tr>\n",
       "      <th>86</th>\n",
       "      <td>13657.176758</td>\n",
       "      <td>42.006774</td>\n",
       "      <td>4.462359</td>\n",
       "      <td>5.008553</td>\n",
       "      <td>24.851639</td>\n",
       "      <td>12.530358</td>\n",
       "      <td>8.413837</td>\n",
       "      <td>6.226345</td>\n",
       "      <td>2613.599797</td>\n",
       "      <td>1765.538940</td>\n",
       "    </tr>\n",
       "    <tr>\n",
       "      <th>87</th>\n",
       "      <td>13755.871094</td>\n",
       "      <td>41.749261</td>\n",
       "      <td>4.500549</td>\n",
       "      <td>4.979063</td>\n",
       "      <td>24.790713</td>\n",
       "      <td>12.560321</td>\n",
       "      <td>8.428704</td>\n",
       "      <td>6.188838</td>\n",
       "      <td>2600.970874</td>\n",
       "      <td>1748.374878</td>\n",
       "    </tr>\n",
       "    <tr>\n",
       "      <th>88</th>\n",
       "      <td>13948.357422</td>\n",
       "      <td>41.686328</td>\n",
       "      <td>4.463664</td>\n",
       "      <td>4.983945</td>\n",
       "      <td>24.862261</td>\n",
       "      <td>12.567686</td>\n",
       "      <td>8.417357</td>\n",
       "      <td>6.266397</td>\n",
       "      <td>2614.373838</td>\n",
       "      <td>1752.746338</td>\n",
       "    </tr>\n",
       "    <tr>\n",
       "      <th>89</th>\n",
       "      <td>14004.519531</td>\n",
       "      <td>41.967265</td>\n",
       "      <td>4.484578</td>\n",
       "      <td>4.915714</td>\n",
       "      <td>24.765702</td>\n",
       "      <td>12.628233</td>\n",
       "      <td>8.443509</td>\n",
       "      <td>6.169345</td>\n",
       "      <td>2607.612338</td>\n",
       "      <td>1755.219482</td>\n",
       "    </tr>\n",
       "    <tr>\n",
       "      <th>90</th>\n",
       "      <td>14211.425781</td>\n",
       "      <td>41.791078</td>\n",
       "      <td>4.493530</td>\n",
       "      <td>4.961689</td>\n",
       "      <td>24.798825</td>\n",
       "      <td>12.466116</td>\n",
       "      <td>8.434616</td>\n",
       "      <td>6.240347</td>\n",
       "      <td>2610.143879</td>\n",
       "      <td>1750.340576</td>\n",
       "    </tr>\n",
       "  </tbody>\n",
       "</table>\n",
       "<p>85 rows × 10 columns</p>\n",
       "</div>"
      ],
      "text/plain": [
       "         M_income       Work      Sibs       TFP      Ltime      Btime  \\\n",
       "Age                                                                      \n",
       "0     7738.124512  42.139843  4.481127  5.053866  25.063303  12.518349   \n",
       "7     1099.204834  41.885790  4.484990  5.000085  24.816481  12.775916   \n",
       "8     1279.829468  41.696022  4.454660  4.940755  24.782066  12.669139   \n",
       "9     1430.428955  41.534911  4.438822  4.955354  24.780715  12.521316   \n",
       "10    1592.564697  41.618126  4.448689  4.960082  24.788847  12.736251   \n",
       "11    1740.155029  42.044821  4.464590  4.950114  24.825779  12.583608   \n",
       "12    1902.896240  41.585916  4.428439  4.979313  24.761969  12.548510   \n",
       "13    2065.238525  41.784964  4.457924  4.942418  24.838274  12.593165   \n",
       "14    2214.750977  41.925529  4.448796  4.933585  24.837775  12.584626   \n",
       "15    2372.874268  41.641135  4.444066  4.977337  24.878845  12.585328   \n",
       "16    2536.779297  41.700759  4.445837  4.958578  24.806273  12.699054   \n",
       "17    2682.630371  41.645293  4.445462  4.947922  24.757337  12.646650   \n",
       "18    2872.689697  41.625883  4.460451  4.959302  24.864879  12.683951   \n",
       "19    3030.952881  41.862307  4.451104  4.971012  24.828204  12.625885   \n",
       "20    3167.656006  41.645126  4.484121  4.954108  24.829204  12.513836   \n",
       "21    3357.252930  41.548518  4.425302  4.951271  24.741745  12.448780   \n",
       "22    3498.865967  41.889507  4.516730  4.983481  24.752212  12.693805   \n",
       "23    3649.059082  41.991778  4.431974  4.955073  24.774858  12.643977   \n",
       "24    3804.837158  41.899546  4.488147  4.942502  24.803463  12.638534   \n",
       "25    3948.995361  41.553426  4.454140  4.962673  24.765448  12.624716   \n",
       "26    4145.413086  41.444064  4.484972  4.956253  24.708716  12.592586   \n",
       "27    4292.037109  41.317009  4.495448  4.955580  24.850978  12.552175   \n",
       "28    4470.213379  41.720055  4.474601  4.977973  24.784257  12.516520   \n",
       "29    4617.854004  41.350859  4.454078  4.920037  24.843445  12.589569   \n",
       "30    4738.441895  41.799188  4.443918  4.974539  24.802149  12.630519   \n",
       "31    4906.244141  41.720817  4.444881  4.953170  24.787558  12.565715   \n",
       "32    5079.377930  41.584824  4.507758  4.976939  24.820432  12.615345   \n",
       "33    5228.870605  41.641180  4.414906  4.968478  24.811871  12.589873   \n",
       "34    5395.294434  41.499205  4.469668  4.958916  24.775165  12.586896   \n",
       "35    5550.534180  41.751175  4.474572  4.954683  24.764770  12.567221   \n",
       "..            ...        ...       ...       ...        ...        ...   \n",
       "61    9667.634766  41.658473  4.479866  4.938003  24.807383  12.553859   \n",
       "62    9849.724609  41.614050  4.458908  4.992213  24.716801  12.793991   \n",
       "63   10007.751953  41.589032  4.460291  4.966143  24.785738  12.598729   \n",
       "64   10149.856445  41.929652  4.478420  4.939337  24.783772  12.692608   \n",
       "65   10270.529297  41.516621  4.464383  4.960566  24.772812  12.618131   \n",
       "66   10456.240234  41.390768  4.433801  4.980724  24.790497  12.542526   \n",
       "67   10749.250000  41.944370  4.473905  4.968283  24.802316  12.590871   \n",
       "68   10862.996094  41.815313  4.451950  4.973783  24.803540  12.666778   \n",
       "69   10901.216797  41.741872  4.499531  4.968427  24.780783  12.438860   \n",
       "70   11149.036133  41.863136  4.481610  4.966271  24.808729  12.604322   \n",
       "71   11271.001953  41.844329  4.444715  4.952217  24.784810  12.559142   \n",
       "72   11390.674805  41.334061  4.433658  4.980601  24.914259  12.615301   \n",
       "73   11641.314453  41.670753  4.517172  4.952053  24.756235  12.609035   \n",
       "74   11912.754883  41.810196  4.447667  4.957136  24.735543  12.537876   \n",
       "75   11926.084961  41.957191  4.449362  4.987234  24.808085  12.629191   \n",
       "76   12015.772461  41.621380  4.482239  4.938973  24.830640  12.629209   \n",
       "77   12207.500000  41.833419  4.550554  4.971100  24.825661  12.694714   \n",
       "78   12400.520508  41.094199  4.479809  4.931912  24.658131  12.500965   \n",
       "79   12584.954102  41.725523  4.464949  4.982707  24.850216  12.633042   \n",
       "80   12756.341797  41.823205  4.425222  4.947332  24.788380  12.515473   \n",
       "81   12856.253906  41.410659  4.443014  4.941898  24.837968  12.811964   \n",
       "82   13054.899414  41.398261  4.444613  4.987420  24.711162  12.540611   \n",
       "83   13073.350586  41.516804  4.511259  4.972442  24.796673  12.634683   \n",
       "84   13328.669922  41.775596  4.462543  4.975057  24.831213  12.601500   \n",
       "85   13416.183594  41.937542  4.471262  4.936960  24.863787  12.489535   \n",
       "86   13657.176758  42.006774  4.462359  5.008553  24.851639  12.530358   \n",
       "87   13755.871094  41.749261  4.500549  4.979063  24.790713  12.560321   \n",
       "88   13948.357422  41.686328  4.463664  4.983945  24.862261  12.567686   \n",
       "89   14004.519531  41.967265  4.484578  4.915714  24.765702  12.628233   \n",
       "90   14211.425781  41.791078  4.493530  4.961689  24.798825  12.466116   \n",
       "\n",
       "        Wtime    Tsleep      Caloric        Steps  \n",
       "Age                                                \n",
       "0    8.521232  6.211588  2624.082569  1748.034058  \n",
       "7    8.436602  6.165462  2603.069989  1744.706177  \n",
       "8    8.418422  6.194992  2599.696612  1732.176025  \n",
       "9    8.456109  6.216975  2602.970796  1756.210083  \n",
       "10   8.420935  6.232084  2600.843755  1749.764404  \n",
       "11   8.417068  6.218920  2604.372415  1736.072388  \n",
       "12   8.438065  6.241754  2597.673731  1732.626831  \n",
       "13   8.411448  6.192336  2603.246476  1736.843262  \n",
       "14   8.362328  6.176062  2613.891507  1746.464966  \n",
       "15   8.405385  6.154389  2607.097214  1734.855591  \n",
       "16   8.419160  6.138084  2592.729907  1729.843140  \n",
       "17   8.409160  6.211237  2608.863444  1724.872803  \n",
       "18   8.435590  6.212098  2608.045977  1754.746704  \n",
       "19   8.427487  6.169226  2604.441981  1743.541626  \n",
       "20   8.454662  6.170297  2599.829715  1726.053589  \n",
       "21   8.433747  6.195065  2599.125918  1733.193970  \n",
       "22   8.419300  6.211386  2609.544880  1750.674194  \n",
       "23   8.421633  6.240959  2609.031957  1719.017578  \n",
       "24   8.433171  6.187903  2607.494116  1737.790039  \n",
       "25   8.469609  6.188451  2611.853720  1728.814575  \n",
       "26   8.473869  6.202026  2608.407080  1733.803589  \n",
       "27   8.410233  6.295422  2610.965947  1746.796997  \n",
       "28   8.497567  6.239910  2611.841544  1741.526489  \n",
       "29   8.452899  6.180034  2599.637681  1739.678101  \n",
       "30   8.429454  6.159723  2605.925393  1744.480591  \n",
       "31   8.399675  6.186632  2594.193300  1707.336304  \n",
       "32   8.427384  6.163886  2609.580331  1756.676514  \n",
       "33   8.428823  6.171014  2610.140007  1732.834473  \n",
       "34   8.430424  6.158062  2608.400971  1737.908936  \n",
       "35   8.474488  6.226309  2607.607419  1732.061890  \n",
       "..        ...       ...          ...          ...  \n",
       "61   8.442366  6.215733  2613.632550  1729.236572  \n",
       "62   8.456200  6.153101  2602.962336  1736.965698  \n",
       "63   8.440144  6.196658  2600.902859  1748.725098  \n",
       "64   8.459558  6.219337  2600.509771  1742.863159  \n",
       "65   8.443606  6.247614  2621.417062  1762.254028  \n",
       "66   8.456121  6.156276  2607.816199  1740.636597  \n",
       "67   8.424652  6.171678  2607.610337  1744.378296  \n",
       "68   8.433915  6.168219  2608.687484  1745.470459  \n",
       "69   8.427938  6.186687  2600.605854  1726.683105  \n",
       "70   8.408814  6.186317  2613.008475  1756.694946  \n",
       "71   8.400788  6.239183  2613.043843  1766.807739  \n",
       "72   8.432650  6.171922  2599.261001  1740.909424  \n",
       "73   8.409354  6.168041  2612.498950  1753.022949  \n",
       "74   8.442763  6.211671  2593.401251  1741.756836  \n",
       "75   8.433106  6.180430  2607.106383  1729.638306  \n",
       "76   8.460101  6.245215  2606.102694  1736.868652  \n",
       "77   8.445439  6.221207  2599.637681  1722.399780  \n",
       "78   8.460163  6.249258  2600.663252  1734.048340  \n",
       "79   8.439858  6.172531  2598.118166  1724.760498  \n",
       "80   8.452633  6.188909  2605.939143  1748.211304  \n",
       "81   8.448249  6.179098  2596.313938  1729.767456  \n",
       "82   8.454407  6.170928  2610.794495  1731.003052  \n",
       "83   8.434381  6.199385  2591.518232  1742.354248  \n",
       "84   8.468105  6.172504  2601.858094  1732.409180  \n",
       "85   8.408887  6.201699  2605.357143  1741.798218  \n",
       "86   8.413837  6.226345  2613.599797  1765.538940  \n",
       "87   8.428704  6.188838  2600.970874  1748.374878  \n",
       "88   8.417357  6.266397  2614.373838  1752.746338  \n",
       "89   8.443509  6.169345  2607.612338  1755.219482  \n",
       "90   8.434616  6.240347  2610.143879  1750.340576  \n",
       "\n",
       "[85 rows x 10 columns]"
      ]
     },
     "execution_count": 62,
     "metadata": {},
     "output_type": "execute_result"
    }
   ],
   "source": [
    "dataset_outliers.groupby(\"Age\").mean()"
   ]
  },
  {
   "cell_type": "code",
   "execution_count": 63,
   "metadata": {},
   "outputs": [
    {
     "data": {
      "image/png": "[encoded data removed]",
      "text/plain": [
       "<Figure size 432x288 with 1 Axes>"
      ]
     },
     "metadata": {
      "needs_background": "light"
     },
     "output_type": "display_data"
    }
   ],
   "source": [
    "plt.scatter(sorted(dataset_outliers[\"Age\"].unique()), dataset_outliers.groupby(\"Age\").mean()[\"M_income\"])\n",
    "plt.xlabel(\"Age\")\n",
    "plt.ylabel(\"Mean of Monthly Income\")\n",
    "plt.title(\"Mean of Monthly Income grouped by Age\");"
   ]
  },
  {
   "cell_type": "markdown",
   "metadata": {},
   "source": [
    "**About the `Age` column**<br>\n",
    "The range of `Age` is between 7 and 90, and there is no missing age between the range. I am not sure why it is started from 7. If it starts from 20 or something like, and then I have 7, it could be an outlier.\n",
    "But in this case, I define only `Age` 0 as an outlier because I don't have any reasons to define younger ages as outliers."
   ]
  },
  {
   "cell_type": "markdown",
   "metadata": {},
   "source": [
    "**Solution**<br>\n",
    "Create a function that calculates the difference between a value of `M_income` in a row and each average of `M_income` per `Age`.\n",
    "Then replace the age `0` to an age whose average is the most closest to actual `M_income` value.\n",
    "*For example:*\n",
    "Observation1:\n",
    "Age: 0\n",
    "M_income: 3000.0\n",
    "\n",
    "The M_income is close to the average `19`, which you can see the table above.\n",
    "So I will replace the `Age` of `Observation1` to `19`."
   ]
  },
  {
   "cell_type": "code",
   "execution_count": 64,
   "metadata": {},
   "outputs": [],
   "source": [
    "ages = dataset_outliers[\"Age\"].value_counts().sort_index().index.tolist()[1:]"
   ]
  },
  {
   "cell_type": "code",
   "execution_count": 65,
   "metadata": {},
   "outputs": [],
   "source": [
    "income_avg = dataset_outliers.groupby(\"Age\").mean()[\"M_income\"].tolist()[1:]\n",
    "income_avg = np.array(income_avg)"
   ]
  },
  {
   "cell_type": "code",
   "execution_count": 66,
   "metadata": {},
   "outputs": [],
   "source": [
    "def replace_age(x):\n",
    "    \"\"\"\n",
    "    Guess age of an observation based on their M_income.\n",
    "    Calculates the difference between a value of M_income in a row and each average of M_income per Age.\n",
    "    Then replace the age 0 to an age whose average is the most closest to actual M_income value.\n",
    "    \n",
    "    Parameters\n",
    "    ----------------\n",
    "    x: int\n",
    "        A value of M_income\n",
    "        \n",
    "    Return\n",
    "    ---------\n",
    "    age: int\n",
    "        Age of an observation\n",
    "    \"\"\"\n",
    "    \n",
    "    income_diff = income_avg - x\n",
    "    income_diff_abs = np.abs(income_diff)\n",
    "    idx = np.argmin(income_diff_abs)\n",
    "    age = ages[idx]\n",
    "    return age"
   ]
  },
  {
   "cell_type": "code",
   "execution_count": 67,
   "metadata": {},
   "outputs": [
    {
     "data": {
      "application/vnd.jupyter.widget-view+json": {
       "model_id": "63859e461e6b4e05b2dc9429fa6ff5bd",
       "version_major": 2,
       "version_minor": 0
      },
      "text/plain": [
       "HBox(children=(IntProgress(value=0, max=7630), HTML(value='')))"
      ]
     },
     "metadata": {},
     "output_type": "display_data"
    },
    {
     "name": "stdout",
     "output_type": "stream",
     "text": [
      "\n"
     ]
    }
   ],
   "source": [
    "for idx in tqdm(dataset_outliers[dataset_outliers[\"Age\"] == 0].index):\n",
    "    dataset_outliers.loc[idx, \"Age\"] = replace_age(dataset_outliers.loc[idx, \"M_income\"])"
   ]
  },
  {
   "cell_type": "code",
   "execution_count": 68,
   "metadata": {},
   "outputs": [
    {
     "data": {
      "text/plain": [
       "7"
      ]
     },
     "execution_count": 68,
     "metadata": {},
     "output_type": "execute_result"
    }
   ],
   "source": [
    "dataset_outliers[\"Age\"].min()"
   ]
  },
  {
   "cell_type": "code",
   "execution_count": 69,
   "metadata": {},
   "outputs": [
    {
     "data": {
      "image/png": "[encoded data removed]",
      "text/plain": [
       "<Figure size 432x288 with 1 Axes>"
      ]
     },
     "metadata": {
      "needs_background": "light"
     },
     "output_type": "display_data"
    }
   ],
   "source": [
    "plt.bar(dataset_outliers[\"Age\"].unique(), dataset_outliers[\"Age\"].value_counts())\n",
    "plt.title(\"The number of people per Age\")\n",
    "plt.xlabel(\"Age\")\n",
    "plt.ylabel(\"The number of people\");"
   ]
  },
  {
   "cell_type": "code",
   "execution_count": 70,
   "metadata": {},
   "outputs": [
    {
     "data": {
      "image/png": "[encoded data removed]",
      "text/plain": [
       "<Figure size 432x288 with 1 Axes>"
      ]
     },
     "metadata": {
      "needs_background": "light"
     },
     "output_type": "display_data"
    }
   ],
   "source": [
    "plt.scatter(sorted(dataset_outliers[\"Age\"].unique()), dataset_outliers.groupby(\"Age\").mean()[\"M_income\"])\n",
    "plt.xlabel(\"Age\")\n",
    "plt.ylabel(\"Mean of Monthly Income\")\n",
    "plt.title(\"Mean of Monthly Income grouped by Age\");"
   ]
  },
  {
   "cell_type": "markdown",
   "metadata": {},
   "source": [
    "There is a point at the top right but I won't deal with the point as an outlier at the moment."
   ]
  },
  {
   "cell_type": "markdown",
   "metadata": {},
   "source": [
    "- ### Sex"
   ]
  },
  {
   "cell_type": "code",
   "execution_count": 71,
   "metadata": {},
   "outputs": [
    {
     "data": {
      "text/plain": [
       "Female    442193\n",
       "Male      440138\n",
       "X         117669\n",
       "Name: Sex, dtype: int64"
      ]
     },
     "execution_count": 71,
     "metadata": {},
     "output_type": "execute_result"
    }
   ],
   "source": [
    "dataset_outliers[\"Sex\"].value_counts()"
   ]
  },
  {
   "cell_type": "markdown",
   "metadata": {},
   "source": [
    "I will randomly replace 50% of X to Female and the rest to Male "
   ]
  },
  {
   "cell_type": "code",
   "execution_count": 72,
   "metadata": {},
   "outputs": [
    {
     "data": {
      "text/plain": [
       "Female    501027\n",
       "Male      498973\n",
       "Name: Sex, dtype: int64"
      ]
     },
     "execution_count": 72,
     "metadata": {},
     "output_type": "execute_result"
    }
   ],
   "source": [
    "dataset_outliers.loc[\n",
    "    dataset_outliers.query('Sex == \"X\"').sample(frac=.5).index,\n",
    "    \"Sex\"\n",
    "] = \"Female\"\n",
    "dataset_outliers[\"Sex\"].replace(\"X\", \"Male\", inplace=True)\n",
    "dataset_outliers[\"Sex\"].value_counts()"
   ]
  },
  {
   "cell_type": "markdown",
   "metadata": {},
   "source": [
    "- ### M_income"
   ]
  },
  {
   "cell_type": "code",
   "execution_count": 73,
   "metadata": {},
   "outputs": [
    {
     "data": {
      "text/plain": [
       "[0.0, 140.0, 147.0, 154.0, 160.0, 161.0, 168.0, 175.0, 176.0, 180.0]"
      ]
     },
     "execution_count": 73,
     "metadata": {},
     "output_type": "execute_result"
    }
   ],
   "source": [
    "dataset_outliers[\"M_income\"].value_counts().sort_index().index.tolist()[:10]"
   ]
  },
  {
   "cell_type": "markdown",
   "metadata": {},
   "source": [
    "These are the first 10 examples of \"M_income\" in Ascending order. Except for `0`, they start from 140.0 and seem continuous values.\n",
    "So I will deal with only `0`s as outliers."
   ]
  },
  {
   "cell_type": "code",
   "execution_count": 74,
   "metadata": {},
   "outputs": [
    {
     "data": {
      "text/html": [
       "<div>\n",
       "<style scoped>\n",
       "    .dataframe tbody tr th:only-of-type {\n",
       "        vertical-align: middle;\n",
       "    }\n",
       "\n",
       "    .dataframe tbody tr th {\n",
       "        vertical-align: top;\n",
       "    }\n",
       "\n",
       "    .dataframe thead th {\n",
       "        text-align: right;\n",
       "    }\n",
       "</style>\n",
       "<table border=\"1\" class=\"dataframe\">\n",
       "  <thead>\n",
       "    <tr style=\"text-align: right;\">\n",
       "      <th></th>\n",
       "      <th>Age</th>\n",
       "      <th>Sex</th>\n",
       "      <th>M_income</th>\n",
       "      <th>Work</th>\n",
       "      <th>Color</th>\n",
       "      <th>Sibs</th>\n",
       "      <th>TFP</th>\n",
       "      <th>Ltime</th>\n",
       "      <th>Btime</th>\n",
       "      <th>Wtime</th>\n",
       "      <th>Tsleep</th>\n",
       "      <th>Caloric</th>\n",
       "      <th>Steps</th>\n",
       "    </tr>\n",
       "    <tr>\n",
       "      <th>ID</th>\n",
       "      <th></th>\n",
       "      <th></th>\n",
       "      <th></th>\n",
       "      <th></th>\n",
       "      <th></th>\n",
       "      <th></th>\n",
       "      <th></th>\n",
       "      <th></th>\n",
       "      <th></th>\n",
       "      <th></th>\n",
       "      <th></th>\n",
       "      <th></th>\n",
       "      <th></th>\n",
       "    </tr>\n",
       "  </thead>\n",
       "  <tbody>\n",
       "    <tr>\n",
       "      <th>2</th>\n",
       "      <td>33</td>\n",
       "      <td>Male</td>\n",
       "      <td>0.0</td>\n",
       "      <td>53</td>\n",
       "      <td>blue</td>\n",
       "      <td>5</td>\n",
       "      <td>1</td>\n",
       "      <td>29</td>\n",
       "      <td>20</td>\n",
       "      <td>8</td>\n",
       "      <td>8.35</td>\n",
       "      <td>3750</td>\n",
       "      <td>0.0</td>\n",
       "    </tr>\n",
       "    <tr>\n",
       "      <th>54</th>\n",
       "      <td>24</td>\n",
       "      <td>Male</td>\n",
       "      <td>0.0</td>\n",
       "      <td>39</td>\n",
       "      <td>red</td>\n",
       "      <td>9</td>\n",
       "      <td>7</td>\n",
       "      <td>27</td>\n",
       "      <td>21</td>\n",
       "      <td>8</td>\n",
       "      <td>1.48</td>\n",
       "      <td>3500</td>\n",
       "      <td>3500.0</td>\n",
       "    </tr>\n",
       "    <tr>\n",
       "      <th>240</th>\n",
       "      <td>41</td>\n",
       "      <td>Female</td>\n",
       "      <td>0.0</td>\n",
       "      <td>53</td>\n",
       "      <td>yellow</td>\n",
       "      <td>1</td>\n",
       "      <td>5</td>\n",
       "      <td>27</td>\n",
       "      <td>20</td>\n",
       "      <td>12</td>\n",
       "      <td>2.25</td>\n",
       "      <td>3000</td>\n",
       "      <td>0.0</td>\n",
       "    </tr>\n",
       "    <tr>\n",
       "      <th>311</th>\n",
       "      <td>63</td>\n",
       "      <td>Female</td>\n",
       "      <td>0.0</td>\n",
       "      <td>19</td>\n",
       "      <td>0</td>\n",
       "      <td>9</td>\n",
       "      <td>7</td>\n",
       "      <td>29</td>\n",
       "      <td>2</td>\n",
       "      <td>7</td>\n",
       "      <td>2.89</td>\n",
       "      <td>2500</td>\n",
       "      <td>0.0</td>\n",
       "    </tr>\n",
       "    <tr>\n",
       "      <th>398</th>\n",
       "      <td>38</td>\n",
       "      <td>Female</td>\n",
       "      <td>0.0</td>\n",
       "      <td>6</td>\n",
       "      <td>0</td>\n",
       "      <td>1</td>\n",
       "      <td>1</td>\n",
       "      <td>30</td>\n",
       "      <td>20</td>\n",
       "      <td>9</td>\n",
       "      <td>10.44</td>\n",
       "      <td>2000</td>\n",
       "      <td>0.0</td>\n",
       "    </tr>\n",
       "  </tbody>\n",
       "</table>\n",
       "</div>"
      ],
      "text/plain": [
       "     Age     Sex  M_income  Work   Color  Sibs  TFP  Ltime  Btime  Wtime  \\\n",
       "ID                                                                         \n",
       "2     33    Male       0.0    53    blue     5    1     29     20      8   \n",
       "54    24    Male       0.0    39     red     9    7     27     21      8   \n",
       "240   41  Female       0.0    53  yellow     1    5     27     20     12   \n",
       "311   63  Female       0.0    19       0     9    7     29      2      7   \n",
       "398   38  Female       0.0     6       0     1    1     30     20      9   \n",
       "\n",
       "     Tsleep  Caloric   Steps  \n",
       "ID                            \n",
       "2      8.35     3750     0.0  \n",
       "54     1.48     3500  3500.0  \n",
       "240    2.25     3000     0.0  \n",
       "311    2.89     2500     0.0  \n",
       "398   10.44     2000     0.0  "
      ]
     },
     "execution_count": 74,
     "metadata": {},
     "output_type": "execute_result"
    }
   ],
   "source": [
    "dataset[dataset_outliers[\"M_income\"] == 0].head()"
   ]
  },
  {
   "cell_type": "markdown",
   "metadata": {},
   "source": [
    "**Solution**<br>\n",
    "Replace the `0`s to the average of `M_income` of the age of the observation.\n",
    "*For example*\n",
    "ID: 2\n",
    "Age: 33\n",
    "M_income: 0\n",
    "\n",
    "In this case, I will replace the 0 to the mean of M_income of 33 years old."
   ]
  },
  {
   "cell_type": "code",
   "execution_count": 75,
   "metadata": {},
   "outputs": [],
   "source": [
    "def replace_income(x):\n",
    "    idx = ages.index(x)\n",
    "    income = income_avg[idx]\n",
    "    return income"
   ]
  },
  {
   "cell_type": "code",
   "execution_count": 76,
   "metadata": {},
   "outputs": [
    {
     "data": {
      "application/vnd.jupyter.widget-view+json": {
       "model_id": "2d380e522fef4a16a509cc52eebe17d3",
       "version_major": 2,
       "version_minor": 0
      },
      "text/plain": [
       "HBox(children=(IntProgress(value=0, max=7654), HTML(value='')))"
      ]
     },
     "metadata": {},
     "output_type": "display_data"
    },
    {
     "name": "stdout",
     "output_type": "stream",
     "text": [
      "\n"
     ]
    }
   ],
   "source": [
    "for idx in tqdm(dataset_outliers[dataset_outliers[\"M_income\"] == 0].index):\n",
    "    dataset_outliers.loc[idx, \"M_income\"] = replace_income(dataset_outliers.loc[idx, \"Age\"])"
   ]
  },
  {
   "cell_type": "code",
   "execution_count": 77,
   "metadata": {},
   "outputs": [
    {
     "data": {
      "text/plain": [
       "[140.0, 147.0, 154.0, 160.0, 161.0, 168.0, 175.0, 176.0, 180.0, 182.0]"
      ]
     },
     "execution_count": 77,
     "metadata": {},
     "output_type": "execute_result"
    }
   ],
   "source": [
    "dataset_outliers[\"M_income\"].value_counts().sort_index().index.tolist()[:10]"
   ]
  },
  {
   "cell_type": "markdown",
   "metadata": {},
   "source": [
    "- ### Work"
   ]
  },
  {
   "cell_type": "code",
   "execution_count": 78,
   "metadata": {},
   "outputs": [
    {
     "data": {
      "image/png": "[encoded data removed]",
      "text/plain": [
       "<Figure size 432x288 with 1 Axes>"
      ]
     },
     "metadata": {
      "needs_background": "light"
     },
     "output_type": "display_data"
    }
   ],
   "source": [
    "plt.bar(dataset_outliers[\"Work\"].value_counts().sort_index().index, dataset_outliers[\"Work\"].value_counts().sort_index());"
   ]
  },
  {
   "cell_type": "code",
   "execution_count": 79,
   "metadata": {},
   "outputs": [
    {
     "name": "stdout",
     "output_type": "stream",
     "text": [
      "The number of rows that have 0s in Work column: 7601\n"
     ]
    }
   ],
   "source": [
    "print(\"The number of rows that have 0s in Work column: {}\".format(dataset_outliers[dataset_outliers[\"Work\"] == 0].shape[0]))"
   ]
  },
  {
   "cell_type": "markdown",
   "metadata": {},
   "source": [
    "As far as I can tell, 0s in `Work` column seem outliers. \n",
    "`Work` column doesn't have any correlations with any cother columns. So I will just randomly replace 0 to one of other values that are already in `Work` column. "
   ]
  },
  {
   "cell_type": "code",
   "execution_count": 80,
   "metadata": {},
   "outputs": [
    {
     "data": {
      "text/plain": [
       "75"
      ]
     },
     "execution_count": 80,
     "metadata": {},
     "output_type": "execute_result"
    }
   ],
   "source": [
    "work_uniques = sorted(dataset_outliers[\"Work\"].value_counts().index.tolist())\n",
    "work_uniques = work_uniques[1:]\n",
    "len(work_uniques)"
   ]
  },
  {
   "cell_type": "code",
   "execution_count": 81,
   "metadata": {
    "scrolled": true
   },
   "outputs": [
    {
     "data": {
      "application/vnd.jupyter.widget-view+json": {
       "model_id": "6c6a2ae41473431eb2a64ca9e3688d5f",
       "version_major": 2,
       "version_minor": 0
      },
      "text/plain": [
       "HBox(children=(IntProgress(value=0, max=75), HTML(value='')))"
      ]
     },
     "metadata": {},
     "output_type": "display_data"
    },
    {
     "name": "stdout",
     "output_type": "stream",
     "text": [
      "\n"
     ]
    }
   ],
   "source": [
    "n_sample = dataset_outliers[dataset_outliers[\"Work\"] == 0].shape[0] / len(work_uniques)\n",
    "for i, work in enumerate(tqdm(work_uniques)):\n",
    "    dataset_outliers.loc[\n",
    "        dataset_outliers.query('Work == 0').sample(n=int(n_sample)).index,\n",
    "        \"Work\"\n",
    "    ] = work"
   ]
  },
  {
   "cell_type": "code",
   "execution_count": 82,
   "metadata": {},
   "outputs": [
    {
     "data": {
      "image/png": "[encoded data removed]",
      "text/plain": [
       "<Figure size 432x288 with 1 Axes>"
      ]
     },
     "metadata": {
      "needs_background": "light"
     },
     "output_type": "display_data"
    }
   ],
   "source": [
    "plt.bar(dataset_outliers[\"Work\"].value_counts().sort_index().index, dataset_outliers[\"Work\"].value_counts().sort_index());"
   ]
  },
  {
   "cell_type": "code",
   "execution_count": 83,
   "metadata": {},
   "outputs": [],
   "source": [
    "rest_idxs = dataset_outliers[dataset_outliers[\"Work\"] == 0].index"
   ]
  },
  {
   "cell_type": "code",
   "execution_count": 84,
   "metadata": {},
   "outputs": [],
   "source": [
    "for idx in rest_idxs:\n",
    "    random_idx = np.random.randint(len(work_uniques))\n",
    "    dataset_outliers.loc[idx, \"Work\"] = work_uniques[random_idx]"
   ]
  },
  {
   "cell_type": "code",
   "execution_count": 85,
   "metadata": {},
   "outputs": [
    {
     "data": {
      "image/png": "[encoded data removed]",
      "text/plain": [
       "<Figure size 432x288 with 1 Axes>"
      ]
     },
     "metadata": {
      "needs_background": "light"
     },
     "output_type": "display_data"
    }
   ],
   "source": [
    "plt.bar(dataset_outliers[\"Work\"].value_counts().sort_index().index, dataset_outliers[\"Work\"].value_counts().sort_index());"
   ]
  },
  {
   "cell_type": "markdown",
   "metadata": {},
   "source": [
    "- ### Color"
   ]
  },
  {
   "cell_type": "code",
   "execution_count": 86,
   "metadata": {},
   "outputs": [
    {
     "data": {
      "image/png": "[encoded data removed]",
      "text/plain": [
       "<Figure size 432x288 with 1 Axes>"
      ]
     },
     "metadata": {
      "needs_background": "light"
     },
     "output_type": "display_data"
    }
   ],
   "source": [
    "plt.bar(dataset_outliers[\"Color\"].value_counts().index, dataset_outliers[\"Color\"].value_counts())\n",
    "plt.title(\"The number of people per Color\")\n",
    "plt.xlabel(\"Color\")\n",
    "plt.ylabel(\"The number of people\");"
   ]
  },
  {
   "cell_type": "markdown",
   "metadata": {},
   "source": [
    "As far as I can tell from this graph, `0`s should be replaced `yellow`. "
   ]
  },
  {
   "cell_type": "code",
   "execution_count": 87,
   "metadata": {},
   "outputs": [
    {
     "data": {
      "text/plain": [
       "blue      248198\n",
       "red       248160\n",
       "green     248051\n",
       "0         131158\n",
       "yellow    124433\n",
       "Name: Color, dtype: int64"
      ]
     },
     "execution_count": 87,
     "metadata": {},
     "output_type": "execute_result"
    }
   ],
   "source": [
    "dataset_outliers[\"Color\"].value_counts()"
   ]
  },
  {
   "cell_type": "code",
   "execution_count": 88,
   "metadata": {},
   "outputs": [
    {
     "data": {
      "text/plain": [
       "yellow    255591\n",
       "blue      248198\n",
       "red       248160\n",
       "green     248051\n",
       "Name: Color, dtype: int64"
      ]
     },
     "execution_count": 88,
     "metadata": {},
     "output_type": "execute_result"
    }
   ],
   "source": [
    "dataset_outliers[\"Color\"] = dataset_outliers[\"Color\"].replace(\"0\", \"yellow\")\n",
    "dataset_outliers[\"Color\"].value_counts()"
   ]
  },
  {
   "cell_type": "code",
   "execution_count": 89,
   "metadata": {},
   "outputs": [
    {
     "data": {
      "image/png": "[encoded data removed]",
      "text/plain": [
       "<Figure size 432x288 with 1 Axes>"
      ]
     },
     "metadata": {
      "needs_background": "light"
     },
     "output_type": "display_data"
    }
   ],
   "source": [
    "plt.bar(dataset_outliers[\"Color\"].value_counts().index, dataset_outliers[\"Color\"].value_counts())\n",
    "plt.title(\"The number of people per Color\")\n",
    "plt.xlabel(\"Color\")\n",
    "plt.ylabel(\"The number of people\");"
   ]
  },
  {
   "cell_type": "markdown",
   "metadata": {},
   "source": [
    "- ### Sibs"
   ]
  },
  {
   "cell_type": "code",
   "execution_count": 90,
   "metadata": {},
   "outputs": [
    {
     "data": {
      "image/png": "[encoded data removed]",
      "text/plain": [
       "<Figure size 432x288 with 1 Axes>"
      ]
     },
     "metadata": {
      "needs_background": "light"
     },
     "output_type": "display_data"
    }
   ],
   "source": [
    "plt.bar(dataset_outliers[\"Sibs\"].value_counts().sort_index().index, dataset_outliers[\"Sibs\"].value_counts().sort_index());"
   ]
  },
  {
   "cell_type": "markdown",
   "metadata": {},
   "source": [
    "Seems good."
   ]
  },
  {
   "cell_type": "markdown",
   "metadata": {},
   "source": [
    "- ### TFP"
   ]
  },
  {
   "cell_type": "code",
   "execution_count": 91,
   "metadata": {},
   "outputs": [
    {
     "data": {
      "text/plain": [
       "0      7652\n",
       "1    109901\n",
       "2    110364\n",
       "3    110091\n",
       "4    110112\n",
       "5    110452\n",
       "6    110607\n",
       "7    110100\n",
       "8    110481\n",
       "9    110240\n",
       "Name: TFP, dtype: int64"
      ]
     },
     "execution_count": 91,
     "metadata": {},
     "output_type": "execute_result"
    }
   ],
   "source": [
    "dataset_outliers[\"TFP\"].value_counts(sort=False)"
   ]
  },
  {
   "cell_type": "code",
   "execution_count": 92,
   "metadata": {},
   "outputs": [
    {
     "data": {
      "image/png": "[encoded data removed]",
      "text/plain": [
       "<Figure size 432x288 with 1 Axes>"
      ]
     },
     "metadata": {
      "needs_background": "light"
     },
     "output_type": "display_data"
    }
   ],
   "source": [
    "plt.bar(dataset_outliers[\"TFP\"].value_counts().sort_index().index, dataset_outliers[\"TFP\"].value_counts().sort_index());"
   ]
  },
  {
   "cell_type": "markdown",
   "metadata": {},
   "source": [
    "TFP is short for Top Finish Placement so it shouldn't be 0. What I am going to do is randomly replace the `0`s to one of the other integers in the column already."
   ]
  },
  {
   "cell_type": "code",
   "execution_count": 93,
   "metadata": {},
   "outputs": [
    {
     "data": {
      "text/plain": [
       "9"
      ]
     },
     "execution_count": 93,
     "metadata": {},
     "output_type": "execute_result"
    }
   ],
   "source": [
    "tfp_uniques = sorted(dataset_outliers[\"TFP\"].value_counts().index.tolist())\n",
    "tfp_uniques = tfp_uniques[1:]\n",
    "len(tfp_uniques)"
   ]
  },
  {
   "cell_type": "code",
   "execution_count": 94,
   "metadata": {},
   "outputs": [
    {
     "data": {
      "text/html": [
       "<div>\n",
       "<style scoped>\n",
       "    .dataframe tbody tr th:only-of-type {\n",
       "        vertical-align: middle;\n",
       "    }\n",
       "\n",
       "    .dataframe tbody tr th {\n",
       "        vertical-align: top;\n",
       "    }\n",
       "\n",
       "    .dataframe thead th {\n",
       "        text-align: right;\n",
       "    }\n",
       "</style>\n",
       "<table border=\"1\" class=\"dataframe\">\n",
       "  <thead>\n",
       "    <tr style=\"text-align: right;\">\n",
       "      <th></th>\n",
       "      <th>Age</th>\n",
       "      <th>Sex</th>\n",
       "      <th>M_income</th>\n",
       "      <th>Work</th>\n",
       "      <th>Color</th>\n",
       "      <th>Sibs</th>\n",
       "      <th>TFP</th>\n",
       "      <th>Ltime</th>\n",
       "      <th>Btime</th>\n",
       "      <th>Wtime</th>\n",
       "      <th>Tsleep</th>\n",
       "      <th>Caloric</th>\n",
       "      <th>Steps</th>\n",
       "    </tr>\n",
       "    <tr>\n",
       "      <th>ID</th>\n",
       "      <th></th>\n",
       "      <th></th>\n",
       "      <th></th>\n",
       "      <th></th>\n",
       "      <th></th>\n",
       "      <th></th>\n",
       "      <th></th>\n",
       "      <th></th>\n",
       "      <th></th>\n",
       "      <th></th>\n",
       "      <th></th>\n",
       "      <th></th>\n",
       "      <th></th>\n",
       "    </tr>\n",
       "  </thead>\n",
       "  <tbody>\n",
       "    <tr>\n",
       "      <th>131</th>\n",
       "      <td>22</td>\n",
       "      <td>Male</td>\n",
       "      <td>5830.0</td>\n",
       "      <td>42</td>\n",
       "      <td>green</td>\n",
       "      <td>6</td>\n",
       "      <td>0</td>\n",
       "      <td>20</td>\n",
       "      <td>21</td>\n",
       "      <td>10</td>\n",
       "      <td>3.53</td>\n",
       "      <td>3000</td>\n",
       "      <td>3000.0</td>\n",
       "    </tr>\n",
       "    <tr>\n",
       "      <th>312</th>\n",
       "      <td>41</td>\n",
       "      <td>Male</td>\n",
       "      <td>5248.0</td>\n",
       "      <td>35</td>\n",
       "      <td>blue</td>\n",
       "      <td>4</td>\n",
       "      <td>0</td>\n",
       "      <td>21</td>\n",
       "      <td>3</td>\n",
       "      <td>11</td>\n",
       "      <td>1.44</td>\n",
       "      <td>1500</td>\n",
       "      <td>0.0</td>\n",
       "    </tr>\n",
       "    <tr>\n",
       "      <th>517</th>\n",
       "      <td>20</td>\n",
       "      <td>X</td>\n",
       "      <td>2840.0</td>\n",
       "      <td>47</td>\n",
       "      <td>blue</td>\n",
       "      <td>2</td>\n",
       "      <td>0</td>\n",
       "      <td>20</td>\n",
       "      <td>3</td>\n",
       "      <td>6</td>\n",
       "      <td>4.12</td>\n",
       "      <td>3000</td>\n",
       "      <td>0.0</td>\n",
       "    </tr>\n",
       "    <tr>\n",
       "      <th>735</th>\n",
       "      <td>60</td>\n",
       "      <td>Female</td>\n",
       "      <td>15360.0</td>\n",
       "      <td>20</td>\n",
       "      <td>green</td>\n",
       "      <td>0</td>\n",
       "      <td>0</td>\n",
       "      <td>28</td>\n",
       "      <td>20</td>\n",
       "      <td>6</td>\n",
       "      <td>5.21</td>\n",
       "      <td>2750</td>\n",
       "      <td>0.0</td>\n",
       "    </tr>\n",
       "    <tr>\n",
       "      <th>817</th>\n",
       "      <td>89</td>\n",
       "      <td>Male</td>\n",
       "      <td>18156.0</td>\n",
       "      <td>34</td>\n",
       "      <td>red</td>\n",
       "      <td>0</td>\n",
       "      <td>0</td>\n",
       "      <td>20</td>\n",
       "      <td>21</td>\n",
       "      <td>11</td>\n",
       "      <td>1.84</td>\n",
       "      <td>3000</td>\n",
       "      <td>0.0</td>\n",
       "    </tr>\n",
       "  </tbody>\n",
       "</table>\n",
       "</div>"
      ],
      "text/plain": [
       "     Age     Sex  M_income  Work  Color  Sibs  TFP  Ltime  Btime  Wtime  \\\n",
       "ID                                                                        \n",
       "131   22    Male    5830.0    42  green     6    0     20     21     10   \n",
       "312   41    Male    5248.0    35   blue     4    0     21      3     11   \n",
       "517   20       X    2840.0    47   blue     2    0     20      3      6   \n",
       "735   60  Female   15360.0    20  green     0    0     28     20      6   \n",
       "817   89    Male   18156.0    34    red     0    0     20     21     11   \n",
       "\n",
       "     Tsleep  Caloric   Steps  \n",
       "ID                            \n",
       "131    3.53     3000  3000.0  \n",
       "312    1.44     1500     0.0  \n",
       "517    4.12     3000     0.0  \n",
       "735    5.21     2750     0.0  \n",
       "817    1.84     3000     0.0  "
      ]
     },
     "execution_count": 94,
     "metadata": {},
     "output_type": "execute_result"
    }
   ],
   "source": [
    "dataset[dataset_outliers[\"TFP\"] == 0].head()"
   ]
  },
  {
   "cell_type": "code",
   "execution_count": 95,
   "metadata": {},
   "outputs": [
    {
     "data": {
      "application/vnd.jupyter.widget-view+json": {
       "model_id": "b1bbf7fa39c447e2a9757125b8fd6c60",
       "version_major": 2,
       "version_minor": 0
      },
      "text/plain": [
       "HBox(children=(IntProgress(value=0, max=9), HTML(value='')))"
      ]
     },
     "metadata": {},
     "output_type": "display_data"
    },
    {
     "name": "stdout",
     "output_type": "stream",
     "text": [
      "\n"
     ]
    }
   ],
   "source": [
    "n_sample = dataset_outliers[dataset_outliers[\"TFP\"] == 0].shape[0] / len(tfp_uniques)\n",
    "for i, tfp in enumerate(tqdm(tfp_uniques)):\n",
    "    dataset_outliers.loc[\n",
    "        dataset_outliers.query('TFP == 0').sample(n=int(n_sample)).index,\n",
    "        \"TFP\"\n",
    "    ] = tfp"
   ]
  },
  {
   "cell_type": "code",
   "execution_count": 96,
   "metadata": {},
   "outputs": [
    {
     "data": {
      "image/png": "[encoded data removed]",
      "text/plain": [
       "<Figure size 432x288 with 1 Axes>"
      ]
     },
     "metadata": {
      "needs_background": "light"
     },
     "output_type": "display_data"
    }
   ],
   "source": [
    "plt.bar(dataset_outliers[\"TFP\"].value_counts().sort_index().index, dataset_outliers[\"TFP\"].value_counts().sort_index());"
   ]
  },
  {
   "cell_type": "code",
   "execution_count": 97,
   "metadata": {},
   "outputs": [
    {
     "data": {
      "text/plain": [
       "Int64Index([731553, 755950], dtype='int64', name='ID')"
      ]
     },
     "execution_count": 97,
     "metadata": {},
     "output_type": "execute_result"
    }
   ],
   "source": [
    "rest_idxs = dataset_outliers[dataset_outliers[\"TFP\"] == 0].index\n",
    "rest_idxs"
   ]
  },
  {
   "cell_type": "code",
   "execution_count": 98,
   "metadata": {},
   "outputs": [],
   "source": [
    "for idx in rest_idxs:\n",
    "    random_idx = np.random.randint(len(tfp_uniques))\n",
    "    dataset_outliers.loc[idx, \"TFP\"] = tfp_uniques[random_idx]"
   ]
  },
  {
   "cell_type": "code",
   "execution_count": 99,
   "metadata": {},
   "outputs": [
    {
     "data": {
      "image/png": "[encoded data removed]",
      "text/plain": [
       "<Figure size 432x288 with 1 Axes>"
      ]
     },
     "metadata": {
      "needs_background": "light"
     },
     "output_type": "display_data"
    }
   ],
   "source": [
    "plt.bar(dataset_outliers[\"TFP\"].value_counts().sort_index().index, dataset_outliers[\"TFP\"].value_counts().sort_index());"
   ]
  },
  {
   "cell_type": "markdown",
   "metadata": {},
   "source": [
    "- ### Ltime"
   ]
  },
  {
   "cell_type": "code",
   "execution_count": 100,
   "metadata": {},
   "outputs": [
    {
     "data": {
      "text/plain": [
       "27    90793\n",
       "21    90585\n",
       "23    90409\n",
       "28    90310\n",
       "29    90272\n",
       "20    90269\n",
       "22    90014\n",
       "26    89966\n",
       "30    89914\n",
       "25    89857\n",
       "24    89825\n",
       "0      7786\n",
       "Name: Ltime, dtype: int64"
      ]
     },
     "execution_count": 100,
     "metadata": {},
     "output_type": "execute_result"
    }
   ],
   "source": [
    "dataset_outliers[\"Ltime\"].value_counts()"
   ]
  },
  {
   "cell_type": "code",
   "execution_count": 101,
   "metadata": {},
   "outputs": [
    {
     "data": {
      "image/png": "[encoded data removed]",
      "text/plain": [
       "<Figure size 432x288 with 1 Axes>"
      ]
     },
     "metadata": {
      "needs_background": "light"
     },
     "output_type": "display_data"
    }
   ],
   "source": [
    "plt.bar(dataset_outliers[\"Ltime\"].value_counts().sort_index().index, dataset_outliers[\"Ltime\"].value_counts().sort_index());"
   ]
  },
  {
   "cell_type": "markdown",
   "metadata": {},
   "source": [
    "Seems `0`s are outliers in this column. So again will randomly replace `0`s to one the other values in the column already."
   ]
  },
  {
   "cell_type": "code",
   "execution_count": 102,
   "metadata": {},
   "outputs": [
    {
     "data": {
      "text/plain": [
       "11"
      ]
     },
     "execution_count": 102,
     "metadata": {},
     "output_type": "execute_result"
    }
   ],
   "source": [
    "ltime_uniques = sorted(dataset_outliers[\"Ltime\"].value_counts().index.tolist())\n",
    "ltime_uniques = ltime_uniques[1:]\n",
    "len(ltime_uniques)"
   ]
  },
  {
   "cell_type": "code",
   "execution_count": 103,
   "metadata": {},
   "outputs": [
    {
     "data": {
      "application/vnd.jupyter.widget-view+json": {
       "model_id": "9394ae41f53e4d1f8537b8530ecee152",
       "version_major": 2,
       "version_minor": 0
      },
      "text/plain": [
       "HBox(children=(IntProgress(value=0, max=11), HTML(value='')))"
      ]
     },
     "metadata": {},
     "output_type": "display_data"
    },
    {
     "name": "stdout",
     "output_type": "stream",
     "text": [
      "\n"
     ]
    }
   ],
   "source": [
    "n_sample = dataset_outliers[dataset_outliers[\"Ltime\"] == 0].shape[0] / len(ltime_uniques)\n",
    "for i, ltime in enumerate(tqdm(ltime_uniques)):\n",
    "    dataset_outliers.loc[\n",
    "        dataset_outliers.query('Ltime == 0').sample(n=int(n_sample)).index,\n",
    "        \"Ltime\"\n",
    "    ] = ltime"
   ]
  },
  {
   "cell_type": "code",
   "execution_count": 104,
   "metadata": {},
   "outputs": [
    {
     "data": {
      "image/png": "[encoded data removed]",
      "text/plain": [
       "<Figure size 432x288 with 1 Axes>"
      ]
     },
     "metadata": {
      "needs_background": "light"
     },
     "output_type": "display_data"
    }
   ],
   "source": [
    "plt.bar(dataset_outliers[\"Ltime\"].value_counts().sort_index().index, dataset_outliers[\"Ltime\"].value_counts().sort_index());"
   ]
  },
  {
   "cell_type": "code",
   "execution_count": 105,
   "metadata": {},
   "outputs": [
    {
     "data": {
      "text/plain": [
       "Int64Index([200127, 429576, 508893, 517801, 634110, 671290, 690228, 794160,\n",
       "            893929],\n",
       "           dtype='int64', name='ID')"
      ]
     },
     "execution_count": 105,
     "metadata": {},
     "output_type": "execute_result"
    }
   ],
   "source": [
    "rest_idxs = dataset_outliers[dataset_outliers[\"Ltime\"] == 0].index\n",
    "rest_idxs"
   ]
  },
  {
   "cell_type": "code",
   "execution_count": 106,
   "metadata": {},
   "outputs": [],
   "source": [
    "for idx in rest_idxs:\n",
    "    random_idx = np.random.randint(len(ltime_uniques))\n",
    "    dataset_outliers.loc[idx, \"Ltime\"] = ltime_uniques[random_idx]"
   ]
  },
  {
   "cell_type": "code",
   "execution_count": 107,
   "metadata": {},
   "outputs": [
    {
     "data": {
      "image/png": "[encoded data removed]",
      "text/plain": [
       "<Figure size 432x288 with 1 Axes>"
      ]
     },
     "metadata": {
      "needs_background": "light"
     },
     "output_type": "display_data"
    }
   ],
   "source": [
    "plt.bar(dataset_outliers[\"Ltime\"].value_counts().sort_index().index, dataset_outliers[\"Ltime\"].value_counts().sort_index());"
   ]
  },
  {
   "cell_type": "markdown",
   "metadata": {},
   "source": [
    "- ### Btime"
   ]
  },
  {
   "cell_type": "code",
   "execution_count": 108,
   "metadata": {},
   "outputs": [
    {
     "data": {
      "text/plain": [
       "19    99685\n",
       "22    99621\n",
       "1     99551\n",
       "2     99314\n",
       "23    99220\n",
       "4     99139\n",
       "12    99125\n",
       "3     98920\n",
       "21    98908\n",
       "20    98895\n",
       "0      7622\n",
       "Name: Btime, dtype: int64"
      ]
     },
     "execution_count": 108,
     "metadata": {},
     "output_type": "execute_result"
    }
   ],
   "source": [
    "dataset_outliers[\"Btime\"].value_counts()"
   ]
  },
  {
   "cell_type": "code",
   "execution_count": 109,
   "metadata": {},
   "outputs": [
    {
     "data": {
      "image/png": "[encoded data removed]",
      "text/plain": [
       "<Figure size 432x288 with 1 Axes>"
      ]
     },
     "metadata": {
      "needs_background": "light"
     },
     "output_type": "display_data"
    }
   ],
   "source": [
    "plt.bar(dataset_outliers[\"Btime\"].value_counts().sort_index().index, dataset_outliers[\"Btime\"].value_counts().sort_index());"
   ]
  },
  {
   "cell_type": "markdown",
   "metadata": {},
   "source": [
    "`Btime` is a column for `bed time` and contains time in military time. So the time `12` should be 0."
   ]
  },
  {
   "cell_type": "code",
   "execution_count": 110,
   "metadata": {},
   "outputs": [],
   "source": [
    "dataset_outliers[\"Btime\"] = dataset_outliers[\"Btime\"].replace(12, 0)"
   ]
  },
  {
   "cell_type": "code",
   "execution_count": 111,
   "metadata": {},
   "outputs": [
    {
     "data": {
      "image/png": "[encoded data removed]",
      "text/plain": [
       "<Figure size 432x288 with 1 Axes>"
      ]
     },
     "metadata": {
      "needs_background": "light"
     },
     "output_type": "display_data"
    }
   ],
   "source": [
    "plt.bar(dataset_outliers[\"Btime\"].value_counts().sort_index().index, dataset_outliers[\"Btime\"].value_counts().sort_index());"
   ]
  },
  {
   "cell_type": "markdown",
   "metadata": {},
   "source": [
    "Now seems good."
   ]
  },
  {
   "cell_type": "markdown",
   "metadata": {},
   "source": [
    "- ### Wtime"
   ]
  },
  {
   "cell_type": "code",
   "execution_count": 112,
   "metadata": {},
   "outputs": [
    {
     "data": {
      "text/plain": [
       "10    124428\n",
       "11    124344\n",
       "9     124321\n",
       "7     124232\n",
       "5     124200\n",
       "12    123995\n",
       "6     123579\n",
       "8     123102\n",
       "0       7799\n",
       "Name: Wtime, dtype: int64"
      ]
     },
     "execution_count": 112,
     "metadata": {},
     "output_type": "execute_result"
    }
   ],
   "source": [
    "dataset_outliers[\"Wtime\"].value_counts()"
   ]
  },
  {
   "cell_type": "code",
   "execution_count": 113,
   "metadata": {},
   "outputs": [
    {
     "data": {
      "image/png": "[encoded data removed]",
      "text/plain": [
       "<Figure size 432x288 with 1 Axes>"
      ]
     },
     "metadata": {
      "needs_background": "light"
     },
     "output_type": "display_data"
    }
   ],
   "source": [
    "plt.bar(dataset_outliers[\"Wtime\"].value_counts().sort_index().index, dataset_outliers[\"Wtime\"].value_counts().sort_index());"
   ]
  },
  {
   "cell_type": "markdown",
   "metadata": {},
   "source": [
    "`Wtime` is a column for `wake up time` so I guess `0`s should be something wrong. I can think of those `0`s are made by accident which could be placing `AM` instead of `PM`. So I will replace the `0`s to `12`."
   ]
  },
  {
   "cell_type": "code",
   "execution_count": 114,
   "metadata": {},
   "outputs": [],
   "source": [
    "dataset_outliers[\"Wtime\"] = dataset_outliers[\"Wtime\"].replace(0, 12)"
   ]
  },
  {
   "cell_type": "code",
   "execution_count": 115,
   "metadata": {},
   "outputs": [
    {
     "data": {
      "image/png": "[encoded data removed]",
      "text/plain": [
       "<Figure size 432x288 with 1 Axes>"
      ]
     },
     "metadata": {
      "needs_background": "light"
     },
     "output_type": "display_data"
    }
   ],
   "source": [
    "plt.bar(dataset_outliers[\"Wtime\"].value_counts().sort_index().index, dataset_outliers[\"Wtime\"].value_counts().sort_index());"
   ]
  },
  {
   "cell_type": "markdown",
   "metadata": {},
   "source": [
    "- ### Tsleep"
   ]
  },
  {
   "cell_type": "code",
   "execution_count": 116,
   "metadata": {},
   "outputs": [
    {
     "data": {
      "image/png": "[encoded data removed]",
      "text/plain": [
       "<Figure size 432x288 with 1 Axes>"
      ]
     },
     "metadata": {
      "needs_background": "light"
     },
     "output_type": "display_data"
    }
   ],
   "source": [
    "dataset_outliers[\"Tsleep\"].plot(\"box\");"
   ]
  },
  {
   "cell_type": "code",
   "execution_count": 117,
   "metadata": {},
   "outputs": [
    {
     "data": {
      "image/png": "[encoded data removed]",
      "text/plain": [
       "<Figure size 432x288 with 1 Axes>"
      ]
     },
     "metadata": {
      "needs_background": "light"
     },
     "output_type": "display_data"
    }
   ],
   "source": [
    "plt.bar(dataset_outliers[\"Tsleep\"].value_counts().sort_index().index, dataset_outliers[\"Tsleep\"].value_counts().sort_index(), width=0.1);"
   ]
  },
  {
   "cell_type": "code",
   "execution_count": 118,
   "metadata": {},
   "outputs": [
    {
     "data": {
      "text/plain": [
       "0.01"
      ]
     },
     "execution_count": 118,
     "metadata": {},
     "output_type": "execute_result"
    }
   ],
   "source": [
    "dataset_outliers[dataset_outliers[\"Tsleep\"] != 0].min()[\"Tsleep\"]"
   ]
  },
  {
   "cell_type": "markdown",
   "metadata": {},
   "source": [
    "Well, `Tsleep` is a column for `total sleep/night`. From the plot above, I can't say that the `0`s are outliers. Because it could be happened that don't sleep a night. And also the minimum value of `Tsleep` except for `0` is `0.01` which you can see the result in above cell.\n",
    "So I will deal these `0`s as valid values."
   ]
  },
  {
   "cell_type": "markdown",
   "metadata": {},
   "source": [
    "- ### Caloric and Steps"
   ]
  },
  {
   "cell_type": "code",
   "execution_count": 119,
   "metadata": {},
   "outputs": [
    {
     "data": {
      "text/plain": [
       "0        7679\n",
       "1500    99481\n",
       "1750    98731\n",
       "2000    99255\n",
       "2250    99384\n",
       "2500    99350\n",
       "2750    98871\n",
       "3000    99585\n",
       "3250    99451\n",
       "3500    99382\n",
       "3750    98831\n",
       "Name: Caloric, dtype: int64"
      ]
     },
     "execution_count": 119,
     "metadata": {},
     "output_type": "execute_result"
    }
   ],
   "source": [
    "dataset_outliers[\"Caloric\"].value_counts().sort_index()"
   ]
  },
  {
   "cell_type": "markdown",
   "metadata": {},
   "source": [
    "|Caloric|Steps|\n",
    "|-|-|\n",
    "|values|values|\n",
    "|0s|values|\n",
    "|values|0s|\n",
    "|0s|0s|"
   ]
  },
  {
   "cell_type": "markdown",
   "metadata": {},
   "source": [
    "As I mentioned previously, I will deal with the columns `Caloric` and `Steps` at the same time.\n",
    "1. I will compensate the `0`s in `Caloric` with values in `Steps` of the same rows.\n",
    "2. Randomly replace the rest `0`s to one of the other values that are already in `Caloric`.\n",
    "3. Drop `Steps` column because `Caloric` will end up having correlation `1` with `Steps` column. For more information, please take a look the `Missing Values` section."
   ]
  },
  {
   "cell_type": "code",
   "execution_count": 120,
   "metadata": {},
   "outputs": [
    {
     "data": {
      "text/plain": [
       "(5105, 13)"
      ]
     },
     "execution_count": 120,
     "metadata": {},
     "output_type": "execute_result"
    }
   ],
   "source": [
    "dataset_outliers[(dataset[\"Caloric\"] == 0) & (dataset_outliers[\"Steps\"] != 0)].shape"
   ]
  },
  {
   "cell_type": "code",
   "execution_count": 121,
   "metadata": {},
   "outputs": [],
   "source": [
    "steps_vals = dataset_outliers[(dataset[\"Caloric\"] == 0) & (dataset_outliers[\"Steps\"] != 0)][\"Steps\"].values"
   ]
  },
  {
   "cell_type": "code",
   "execution_count": 122,
   "metadata": {},
   "outputs": [
    {
     "data": {
      "text/plain": [
       "Int64Index([103, 599, 851, 1154, 1552], dtype='int64', name='ID')"
      ]
     },
     "execution_count": 122,
     "metadata": {},
     "output_type": "execute_result"
    }
   ],
   "source": [
    "idxs = dataset_outliers[(dataset[\"Caloric\"] == 0) & (dataset_outliers[\"Steps\"] != 0)].index\n",
    "idxs[:5]"
   ]
  },
  {
   "cell_type": "code",
   "execution_count": 123,
   "metadata": {},
   "outputs": [
    {
     "data": {
      "application/vnd.jupyter.widget-view+json": {
       "model_id": "57aac9c0052f454c8a7e85075421a811",
       "version_major": 2,
       "version_minor": 0
      },
      "text/plain": [
       "HBox(children=(IntProgress(value=0, max=5105), HTML(value='')))"
      ]
     },
     "metadata": {},
     "output_type": "display_data"
    },
    {
     "name": "stdout",
     "output_type": "stream",
     "text": [
      "\n"
     ]
    }
   ],
   "source": [
    "for i, idx in enumerate(tqdm(idxs)):\n",
    "    dataset_outliers.loc[idx, \"Caloric\"] = steps_vals[i]"
   ]
  },
  {
   "cell_type": "code",
   "execution_count": 124,
   "metadata": {},
   "outputs": [
    {
     "data": {
      "text/plain": [
       "0.0         2574\n",
       "1500.0     99971\n",
       "1750.0     99244\n",
       "2000.0     99795\n",
       "2250.0     99889\n",
       "2500.0     99871\n",
       "2750.0     99399\n",
       "3000.0    100094\n",
       "3250.0     99931\n",
       "3500.0     99876\n",
       "3750.0     99356\n",
       "Name: Caloric, dtype: int64"
      ]
     },
     "execution_count": 124,
     "metadata": {},
     "output_type": "execute_result"
    }
   ],
   "source": [
    "dataset_outliers[\"Caloric\"].value_counts().sort_index()"
   ]
  },
  {
   "cell_type": "code",
   "execution_count": 125,
   "metadata": {},
   "outputs": [
    {
     "data": {
      "text/plain": [
       "10"
      ]
     },
     "execution_count": 125,
     "metadata": {},
     "output_type": "execute_result"
    }
   ],
   "source": [
    "caloric_uniques = sorted(dataset_outliers[\"Caloric\"].value_counts().index.tolist())\n",
    "caloric_uniques = caloric_uniques[1:]\n",
    "len(caloric_uniques)"
   ]
  },
  {
   "cell_type": "code",
   "execution_count": 126,
   "metadata": {},
   "outputs": [
    {
     "data": {
      "application/vnd.jupyter.widget-view+json": {
       "model_id": "07ca077a767a4dbdad4b80fd84d2b8b5",
       "version_major": 2,
       "version_minor": 0
      },
      "text/plain": [
       "HBox(children=(IntProgress(value=0, max=10), HTML(value='')))"
      ]
     },
     "metadata": {},
     "output_type": "display_data"
    },
    {
     "name": "stdout",
     "output_type": "stream",
     "text": [
      "\n"
     ]
    }
   ],
   "source": [
    "n_sample = dataset_outliers[dataset_outliers[\"Caloric\"] == 0].shape[0] / len(caloric_uniques)\n",
    "for i, caloric in enumerate(tqdm(caloric_uniques)):\n",
    "    dataset_outliers.loc[\n",
    "        dataset_outliers.query('Caloric == 0').sample(n=int(n_sample)).index,\n",
    "        \"Caloric\"\n",
    "    ] = caloric"
   ]
  },
  {
   "cell_type": "code",
   "execution_count": 127,
   "metadata": {},
   "outputs": [
    {
     "data": {
      "text/plain": [
       "Int64Index([373060, 23588, 512086, 910566], dtype='int64', name='ID')"
      ]
     },
     "execution_count": 127,
     "metadata": {},
     "output_type": "execute_result"
    }
   ],
   "source": [
    "rest_idxs = dataset_outliers[dataset_outliers[\"Caloric\"] == 0].index\n",
    "rest_idxs"
   ]
  },
  {
   "cell_type": "code",
   "execution_count": 128,
   "metadata": {},
   "outputs": [],
   "source": [
    "for idx in rest_idxs:\n",
    "    random_idx = np.random.randint(len(caloric_uniques))\n",
    "    dataset_outliers.loc[idx, \"Caloric\"] = caloric_uniques[random_idx]"
   ]
  },
  {
   "cell_type": "code",
   "execution_count": 129,
   "metadata": {},
   "outputs": [
    {
     "data": {
      "text/plain": [
       "1500.0    100229\n",
       "1750.0     99501\n",
       "2000.0    100052\n",
       "2250.0    100146\n",
       "2500.0    100129\n",
       "2750.0     99656\n",
       "3000.0    100352\n",
       "3250.0    100189\n",
       "3500.0    100133\n",
       "3750.0     99613\n",
       "Name: Caloric, dtype: int64"
      ]
     },
     "execution_count": 129,
     "metadata": {},
     "output_type": "execute_result"
    }
   ],
   "source": [
    "dataset_outliers[\"Caloric\"].value_counts().sort_index()"
   ]
  },
  {
   "cell_type": "markdown",
   "metadata": {},
   "source": [
    "- ### Drop `Steps` column"
   ]
  },
  {
   "cell_type": "code",
   "execution_count": 130,
   "metadata": {},
   "outputs": [],
   "source": [
    "dataset_outliers = dataset_outliers.drop(\"Steps\", axis=1)"
   ]
  },
  {
   "cell_type": "code",
   "execution_count": 131,
   "metadata": {},
   "outputs": [],
   "source": [
    "dataset = dataset_outliers"
   ]
  },
  {
   "cell_type": "markdown",
   "metadata": {},
   "source": [
    "- ### Check the whole dataset"
   ]
  },
  {
   "cell_type": "code",
   "execution_count": 132,
   "metadata": {},
   "outputs": [
    {
     "data": {
      "text/html": [
       "<div>\n",
       "<style scoped>\n",
       "    .dataframe tbody tr th:only-of-type {\n",
       "        vertical-align: middle;\n",
       "    }\n",
       "\n",
       "    .dataframe tbody tr th {\n",
       "        vertical-align: top;\n",
       "    }\n",
       "\n",
       "    .dataframe thead th {\n",
       "        text-align: right;\n",
       "    }\n",
       "</style>\n",
       "<table border=\"1\" class=\"dataframe\">\n",
       "  <thead>\n",
       "    <tr style=\"text-align: right;\">\n",
       "      <th></th>\n",
       "      <th>Age</th>\n",
       "      <th>M_income</th>\n",
       "      <th>Work</th>\n",
       "      <th>Sibs</th>\n",
       "      <th>TFP</th>\n",
       "      <th>Ltime</th>\n",
       "      <th>Btime</th>\n",
       "      <th>Wtime</th>\n",
       "      <th>Tsleep</th>\n",
       "      <th>Caloric</th>\n",
       "    </tr>\n",
       "  </thead>\n",
       "  <tbody>\n",
       "    <tr>\n",
       "      <th>count</th>\n",
       "      <td>1000000.000000</td>\n",
       "      <td>1000000.000000</td>\n",
       "      <td>1000000.000000</td>\n",
       "      <td>1000000.000000</td>\n",
       "      <td>1000000.000000</td>\n",
       "      <td>1000000.000000</td>\n",
       "      <td>1000000.000000</td>\n",
       "      <td>1000000.000000</td>\n",
       "      <td>1000000.000000</td>\n",
       "      <td>1000000.00000</td>\n",
       "    </tr>\n",
       "    <tr>\n",
       "      <th>mean</th>\n",
       "      <td>48.483133</td>\n",
       "      <td>7760.276367</td>\n",
       "      <td>42.019234</td>\n",
       "      <td>4.466983</td>\n",
       "      <td>5.002215</td>\n",
       "      <td>24.998775</td>\n",
       "      <td>11.414200</td>\n",
       "      <td>8.529395</td>\n",
       "      <td>6.195786</td>\n",
       "      <td>2624.96375</td>\n",
       "    </tr>\n",
       "    <tr>\n",
       "      <th>std</th>\n",
       "      <td>24.284768</td>\n",
       "      <td>5840.091797</td>\n",
       "      <td>21.652200</td>\n",
       "      <td>2.888980</td>\n",
       "      <td>2.581155</td>\n",
       "      <td>3.162859</td>\n",
       "      <td>9.620608</td>\n",
       "      <td>2.303460</td>\n",
       "      <td>3.632695</td>\n",
       "      <td>717.84827</td>\n",
       "    </tr>\n",
       "    <tr>\n",
       "      <th>min</th>\n",
       "      <td>7.000000</td>\n",
       "      <td>140.000000</td>\n",
       "      <td>5.000000</td>\n",
       "      <td>0.000000</td>\n",
       "      <td>1.000000</td>\n",
       "      <td>20.000000</td>\n",
       "      <td>0.000000</td>\n",
       "      <td>5.000000</td>\n",
       "      <td>0.000000</td>\n",
       "      <td>1500.00000</td>\n",
       "    </tr>\n",
       "    <tr>\n",
       "      <th>25%</th>\n",
       "      <td>27.000000</td>\n",
       "      <td>2968.000000</td>\n",
       "      <td>23.000000</td>\n",
       "      <td>2.000000</td>\n",
       "      <td>3.000000</td>\n",
       "      <td>22.000000</td>\n",
       "      <td>2.000000</td>\n",
       "      <td>7.000000</td>\n",
       "      <td>3.050000</td>\n",
       "      <td>2000.00000</td>\n",
       "    </tr>\n",
       "    <tr>\n",
       "      <th>50%</th>\n",
       "      <td>48.000000</td>\n",
       "      <td>6237.000000</td>\n",
       "      <td>42.000000</td>\n",
       "      <td>4.000000</td>\n",
       "      <td>5.000000</td>\n",
       "      <td>25.000000</td>\n",
       "      <td>4.000000</td>\n",
       "      <td>9.000000</td>\n",
       "      <td>6.190000</td>\n",
       "      <td>2500.00000</td>\n",
       "    </tr>\n",
       "    <tr>\n",
       "      <th>75%</th>\n",
       "      <td>70.000000</td>\n",
       "      <td>11368.000000</td>\n",
       "      <td>61.000000</td>\n",
       "      <td>7.000000</td>\n",
       "      <td>7.000000</td>\n",
       "      <td>28.000000</td>\n",
       "      <td>21.000000</td>\n",
       "      <td>11.000000</td>\n",
       "      <td>9.340000</td>\n",
       "      <td>3250.00000</td>\n",
       "    </tr>\n",
       "    <tr>\n",
       "      <th>max</th>\n",
       "      <td>90.000000</td>\n",
       "      <td>27000.000000</td>\n",
       "      <td>79.000000</td>\n",
       "      <td>9.000000</td>\n",
       "      <td>9.000000</td>\n",
       "      <td>30.000000</td>\n",
       "      <td>23.000000</td>\n",
       "      <td>12.000000</td>\n",
       "      <td>12.500000</td>\n",
       "      <td>3750.00000</td>\n",
       "    </tr>\n",
       "  </tbody>\n",
       "</table>\n",
       "</div>"
      ],
      "text/plain": [
       "                  Age        M_income            Work            Sibs  \\\n",
       "count  1000000.000000  1000000.000000  1000000.000000  1000000.000000   \n",
       "mean        48.483133     7760.276367       42.019234        4.466983   \n",
       "std         24.284768     5840.091797       21.652200        2.888980   \n",
       "min          7.000000      140.000000        5.000000        0.000000   \n",
       "25%         27.000000     2968.000000       23.000000        2.000000   \n",
       "50%         48.000000     6237.000000       42.000000        4.000000   \n",
       "75%         70.000000    11368.000000       61.000000        7.000000   \n",
       "max         90.000000    27000.000000       79.000000        9.000000   \n",
       "\n",
       "                  TFP           Ltime           Btime           Wtime  \\\n",
       "count  1000000.000000  1000000.000000  1000000.000000  1000000.000000   \n",
       "mean         5.002215       24.998775       11.414200        8.529395   \n",
       "std          2.581155        3.162859        9.620608        2.303460   \n",
       "min          1.000000       20.000000        0.000000        5.000000   \n",
       "25%          3.000000       22.000000        2.000000        7.000000   \n",
       "50%          5.000000       25.000000        4.000000        9.000000   \n",
       "75%          7.000000       28.000000       21.000000       11.000000   \n",
       "max          9.000000       30.000000       23.000000       12.000000   \n",
       "\n",
       "               Tsleep        Caloric  \n",
       "count  1000000.000000  1000000.00000  \n",
       "mean         6.195786     2624.96375  \n",
       "std          3.632695      717.84827  \n",
       "min          0.000000     1500.00000  \n",
       "25%          3.050000     2000.00000  \n",
       "50%          6.190000     2500.00000  \n",
       "75%          9.340000     3250.00000  \n",
       "max         12.500000     3750.00000  "
      ]
     },
     "execution_count": 132,
     "metadata": {},
     "output_type": "execute_result"
    }
   ],
   "source": [
    "dataset.describe()"
   ]
  },
  {
   "cell_type": "markdown",
   "metadata": {},
   "source": [
    "# Categorical Variables"
   ]
  },
  {
   "cell_type": "markdown",
   "metadata": {},
   "source": [
    "In this section, I will work on categorical variables."
   ]
  },
  {
   "cell_type": "code",
   "execution_count": 133,
   "metadata": {},
   "outputs": [
    {
     "data": {
      "text/html": [
       "<div>\n",
       "<style scoped>\n",
       "    .dataframe tbody tr th:only-of-type {\n",
       "        vertical-align: middle;\n",
       "    }\n",
       "\n",
       "    .dataframe tbody tr th {\n",
       "        vertical-align: top;\n",
       "    }\n",
       "\n",
       "    .dataframe thead th {\n",
       "        text-align: right;\n",
       "    }\n",
       "</style>\n",
       "<table border=\"1\" class=\"dataframe\">\n",
       "  <thead>\n",
       "    <tr style=\"text-align: right;\">\n",
       "      <th></th>\n",
       "      <th>Age</th>\n",
       "      <th>Sex</th>\n",
       "      <th>M_income</th>\n",
       "      <th>Work</th>\n",
       "      <th>Color</th>\n",
       "      <th>Sibs</th>\n",
       "      <th>TFP</th>\n",
       "      <th>Ltime</th>\n",
       "      <th>Btime</th>\n",
       "      <th>Wtime</th>\n",
       "      <th>Tsleep</th>\n",
       "      <th>Caloric</th>\n",
       "    </tr>\n",
       "    <tr>\n",
       "      <th>ID</th>\n",
       "      <th></th>\n",
       "      <th></th>\n",
       "      <th></th>\n",
       "      <th></th>\n",
       "      <th></th>\n",
       "      <th></th>\n",
       "      <th></th>\n",
       "      <th></th>\n",
       "      <th></th>\n",
       "      <th></th>\n",
       "      <th></th>\n",
       "      <th></th>\n",
       "    </tr>\n",
       "  </thead>\n",
       "  <tbody>\n",
       "    <tr>\n",
       "      <th>1</th>\n",
       "      <td>11</td>\n",
       "      <td>Male</td>\n",
       "      <td>3058.000000</td>\n",
       "      <td>19</td>\n",
       "      <td>green</td>\n",
       "      <td>4</td>\n",
       "      <td>5</td>\n",
       "      <td>27</td>\n",
       "      <td>23</td>\n",
       "      <td>10</td>\n",
       "      <td>5.01</td>\n",
       "      <td>2000.0</td>\n",
       "    </tr>\n",
       "    <tr>\n",
       "      <th>2</th>\n",
       "      <td>33</td>\n",
       "      <td>Male</td>\n",
       "      <td>5228.870605</td>\n",
       "      <td>53</td>\n",
       "      <td>blue</td>\n",
       "      <td>5</td>\n",
       "      <td>1</td>\n",
       "      <td>29</td>\n",
       "      <td>20</td>\n",
       "      <td>8</td>\n",
       "      <td>8.35</td>\n",
       "      <td>3750.0</td>\n",
       "    </tr>\n",
       "    <tr>\n",
       "      <th>3</th>\n",
       "      <td>37</td>\n",
       "      <td>Male</td>\n",
       "      <td>3108.000000</td>\n",
       "      <td>27</td>\n",
       "      <td>green</td>\n",
       "      <td>5</td>\n",
       "      <td>8</td>\n",
       "      <td>22</td>\n",
       "      <td>23</td>\n",
       "      <td>10</td>\n",
       "      <td>1.78</td>\n",
       "      <td>2250.0</td>\n",
       "    </tr>\n",
       "    <tr>\n",
       "      <th>4</th>\n",
       "      <td>88</td>\n",
       "      <td>Male</td>\n",
       "      <td>23408.000000</td>\n",
       "      <td>12</td>\n",
       "      <td>green</td>\n",
       "      <td>0</td>\n",
       "      <td>6</td>\n",
       "      <td>26</td>\n",
       "      <td>2</td>\n",
       "      <td>7</td>\n",
       "      <td>11.44</td>\n",
       "      <td>1750.0</td>\n",
       "    </tr>\n",
       "    <tr>\n",
       "      <th>5</th>\n",
       "      <td>90</td>\n",
       "      <td>Male</td>\n",
       "      <td>17840.000000</td>\n",
       "      <td>50</td>\n",
       "      <td>yellow</td>\n",
       "      <td>3</td>\n",
       "      <td>9</td>\n",
       "      <td>27</td>\n",
       "      <td>19</td>\n",
       "      <td>11</td>\n",
       "      <td>11.44</td>\n",
       "      <td>3750.0</td>\n",
       "    </tr>\n",
       "  </tbody>\n",
       "</table>\n",
       "</div>"
      ],
      "text/plain": [
       "    Age   Sex      M_income  Work   Color  Sibs  TFP  Ltime  Btime  Wtime  \\\n",
       "ID                                                                          \n",
       "1    11  Male   3058.000000    19   green     4    5     27     23     10   \n",
       "2    33  Male   5228.870605    53    blue     5    1     29     20      8   \n",
       "3    37  Male   3108.000000    27   green     5    8     22     23     10   \n",
       "4    88  Male  23408.000000    12   green     0    6     26      2      7   \n",
       "5    90  Male  17840.000000    50  yellow     3    9     27     19     11   \n",
       "\n",
       "    Tsleep  Caloric  \n",
       "ID                   \n",
       "1     5.01   2000.0  \n",
       "2     8.35   3750.0  \n",
       "3     1.78   2250.0  \n",
       "4    11.44   1750.0  \n",
       "5    11.44   3750.0  "
      ]
     },
     "execution_count": 133,
     "metadata": {},
     "output_type": "execute_result"
    }
   ],
   "source": [
    "dataset.head()"
   ]
  },
  {
   "cell_type": "code",
   "execution_count": 134,
   "metadata": {},
   "outputs": [
    {
     "name": "stdout",
     "output_type": "stream",
     "text": [
      "<class 'pandas.core.frame.DataFrame'>\n",
      "Int64Index: 1000000 entries, 1 to 70496\n",
      "Data columns (total 12 columns):\n",
      "Age         1000000 non-null int64\n",
      "Sex         1000000 non-null object\n",
      "M_income    1000000 non-null float32\n",
      "Work        1000000 non-null int64\n",
      "Color       1000000 non-null object\n",
      "Sibs        1000000 non-null int64\n",
      "TFP         1000000 non-null int32\n",
      "Ltime       1000000 non-null int32\n",
      "Btime       1000000 non-null int64\n",
      "Wtime       1000000 non-null int64\n",
      "Tsleep      1000000 non-null float64\n",
      "Caloric     1000000 non-null float64\n",
      "dtypes: float32(1), float64(2), int32(2), int64(5), object(2)\n",
      "memory usage: 127.7+ MB\n"
     ]
    }
   ],
   "source": [
    "dataset.info()"
   ]
  },
  {
   "cell_type": "markdown",
   "metadata": {},
   "source": [
    "List of categorical variables\n",
    "- Sex: This is not an ordinal variable.\n",
    "- Color: This is not an ordinal variable.\n",
    "- TFP: This is an ordinal variable."
   ]
  },
  {
   "cell_type": "markdown",
   "metadata": {},
   "source": [
    "- ### Sex"
   ]
  },
  {
   "cell_type": "code",
   "execution_count": 135,
   "metadata": {},
   "outputs": [
    {
     "data": {
      "text/html": [
       "<div>\n",
       "<style scoped>\n",
       "    .dataframe tbody tr th:only-of-type {\n",
       "        vertical-align: middle;\n",
       "    }\n",
       "\n",
       "    .dataframe tbody tr th {\n",
       "        vertical-align: top;\n",
       "    }\n",
       "\n",
       "    .dataframe thead th {\n",
       "        text-align: right;\n",
       "    }\n",
       "</style>\n",
       "<table border=\"1\" class=\"dataframe\">\n",
       "  <thead>\n",
       "    <tr style=\"text-align: right;\">\n",
       "      <th></th>\n",
       "      <th>Age</th>\n",
       "      <th>M_income</th>\n",
       "      <th>Work</th>\n",
       "      <th>Color</th>\n",
       "      <th>Sibs</th>\n",
       "      <th>TFP</th>\n",
       "      <th>Ltime</th>\n",
       "      <th>Btime</th>\n",
       "      <th>Wtime</th>\n",
       "      <th>Tsleep</th>\n",
       "      <th>Caloric</th>\n",
       "      <th>Female</th>\n",
       "      <th>Male</th>\n",
       "    </tr>\n",
       "    <tr>\n",
       "      <th>ID</th>\n",
       "      <th></th>\n",
       "      <th></th>\n",
       "      <th></th>\n",
       "      <th></th>\n",
       "      <th></th>\n",
       "      <th></th>\n",
       "      <th></th>\n",
       "      <th></th>\n",
       "      <th></th>\n",
       "      <th></th>\n",
       "      <th></th>\n",
       "      <th></th>\n",
       "      <th></th>\n",
       "    </tr>\n",
       "  </thead>\n",
       "  <tbody>\n",
       "    <tr>\n",
       "      <th>1</th>\n",
       "      <td>11</td>\n",
       "      <td>3058.000000</td>\n",
       "      <td>19</td>\n",
       "      <td>green</td>\n",
       "      <td>4</td>\n",
       "      <td>5</td>\n",
       "      <td>27</td>\n",
       "      <td>23</td>\n",
       "      <td>10</td>\n",
       "      <td>5.01</td>\n",
       "      <td>2000.0</td>\n",
       "      <td>0</td>\n",
       "      <td>1</td>\n",
       "    </tr>\n",
       "    <tr>\n",
       "      <th>2</th>\n",
       "      <td>33</td>\n",
       "      <td>5228.870605</td>\n",
       "      <td>53</td>\n",
       "      <td>blue</td>\n",
       "      <td>5</td>\n",
       "      <td>1</td>\n",
       "      <td>29</td>\n",
       "      <td>20</td>\n",
       "      <td>8</td>\n",
       "      <td>8.35</td>\n",
       "      <td>3750.0</td>\n",
       "      <td>0</td>\n",
       "      <td>1</td>\n",
       "    </tr>\n",
       "    <tr>\n",
       "      <th>3</th>\n",
       "      <td>37</td>\n",
       "      <td>3108.000000</td>\n",
       "      <td>27</td>\n",
       "      <td>green</td>\n",
       "      <td>5</td>\n",
       "      <td>8</td>\n",
       "      <td>22</td>\n",
       "      <td>23</td>\n",
       "      <td>10</td>\n",
       "      <td>1.78</td>\n",
       "      <td>2250.0</td>\n",
       "      <td>0</td>\n",
       "      <td>1</td>\n",
       "    </tr>\n",
       "    <tr>\n",
       "      <th>4</th>\n",
       "      <td>88</td>\n",
       "      <td>23408.000000</td>\n",
       "      <td>12</td>\n",
       "      <td>green</td>\n",
       "      <td>0</td>\n",
       "      <td>6</td>\n",
       "      <td>26</td>\n",
       "      <td>2</td>\n",
       "      <td>7</td>\n",
       "      <td>11.44</td>\n",
       "      <td>1750.0</td>\n",
       "      <td>0</td>\n",
       "      <td>1</td>\n",
       "    </tr>\n",
       "    <tr>\n",
       "      <th>5</th>\n",
       "      <td>90</td>\n",
       "      <td>17840.000000</td>\n",
       "      <td>50</td>\n",
       "      <td>yellow</td>\n",
       "      <td>3</td>\n",
       "      <td>9</td>\n",
       "      <td>27</td>\n",
       "      <td>19</td>\n",
       "      <td>11</td>\n",
       "      <td>11.44</td>\n",
       "      <td>3750.0</td>\n",
       "      <td>0</td>\n",
       "      <td>1</td>\n",
       "    </tr>\n",
       "  </tbody>\n",
       "</table>\n",
       "</div>"
      ],
      "text/plain": [
       "    Age      M_income  Work   Color  Sibs  TFP  Ltime  Btime  Wtime  Tsleep  \\\n",
       "ID                                                                            \n",
       "1    11   3058.000000    19   green     4    5     27     23     10    5.01   \n",
       "2    33   5228.870605    53    blue     5    1     29     20      8    8.35   \n",
       "3    37   3108.000000    27   green     5    8     22     23     10    1.78   \n",
       "4    88  23408.000000    12   green     0    6     26      2      7   11.44   \n",
       "5    90  17840.000000    50  yellow     3    9     27     19     11   11.44   \n",
       "\n",
       "    Caloric  Female  Male  \n",
       "ID                         \n",
       "1    2000.0       0     1  \n",
       "2    3750.0       0     1  \n",
       "3    2250.0       0     1  \n",
       "4    1750.0       0     1  \n",
       "5    3750.0       0     1  "
      ]
     },
     "execution_count": 135,
     "metadata": {},
     "output_type": "execute_result"
    }
   ],
   "source": [
    "dummies_sex = pd.get_dummies(dataset[\"Sex\"])\n",
    "dataset = dataset.drop(\"Sex\", axis=1)\n",
    "dataset = dataset.join(dummies_sex)\n",
    "dataset.head()"
   ]
  },
  {
   "cell_type": "markdown",
   "metadata": {},
   "source": [
    "- ### Color"
   ]
  },
  {
   "cell_type": "code",
   "execution_count": 136,
   "metadata": {},
   "outputs": [
    {
     "data": {
      "text/html": [
       "<div>\n",
       "<style scoped>\n",
       "    .dataframe tbody tr th:only-of-type {\n",
       "        vertical-align: middle;\n",
       "    }\n",
       "\n",
       "    .dataframe tbody tr th {\n",
       "        vertical-align: top;\n",
       "    }\n",
       "\n",
       "    .dataframe thead th {\n",
       "        text-align: right;\n",
       "    }\n",
       "</style>\n",
       "<table border=\"1\" class=\"dataframe\">\n",
       "  <thead>\n",
       "    <tr style=\"text-align: right;\">\n",
       "      <th></th>\n",
       "      <th>Age</th>\n",
       "      <th>M_income</th>\n",
       "      <th>Work</th>\n",
       "      <th>Sibs</th>\n",
       "      <th>TFP</th>\n",
       "      <th>Ltime</th>\n",
       "      <th>Btime</th>\n",
       "      <th>Wtime</th>\n",
       "      <th>Tsleep</th>\n",
       "      <th>Caloric</th>\n",
       "      <th>Female</th>\n",
       "      <th>Male</th>\n",
       "      <th>blue</th>\n",
       "      <th>green</th>\n",
       "      <th>red</th>\n",
       "      <th>yellow</th>\n",
       "    </tr>\n",
       "    <tr>\n",
       "      <th>ID</th>\n",
       "      <th></th>\n",
       "      <th></th>\n",
       "      <th></th>\n",
       "      <th></th>\n",
       "      <th></th>\n",
       "      <th></th>\n",
       "      <th></th>\n",
       "      <th></th>\n",
       "      <th></th>\n",
       "      <th></th>\n",
       "      <th></th>\n",
       "      <th></th>\n",
       "      <th></th>\n",
       "      <th></th>\n",
       "      <th></th>\n",
       "      <th></th>\n",
       "    </tr>\n",
       "  </thead>\n",
       "  <tbody>\n",
       "    <tr>\n",
       "      <th>1</th>\n",
       "      <td>11</td>\n",
       "      <td>3058.000000</td>\n",
       "      <td>19</td>\n",
       "      <td>4</td>\n",
       "      <td>5</td>\n",
       "      <td>27</td>\n",
       "      <td>23</td>\n",
       "      <td>10</td>\n",
       "      <td>5.01</td>\n",
       "      <td>2000.0</td>\n",
       "      <td>0</td>\n",
       "      <td>1</td>\n",
       "      <td>0</td>\n",
       "      <td>1</td>\n",
       "      <td>0</td>\n",
       "      <td>0</td>\n",
       "    </tr>\n",
       "    <tr>\n",
       "      <th>2</th>\n",
       "      <td>33</td>\n",
       "      <td>5228.870605</td>\n",
       "      <td>53</td>\n",
       "      <td>5</td>\n",
       "      <td>1</td>\n",
       "      <td>29</td>\n",
       "      <td>20</td>\n",
       "      <td>8</td>\n",
       "      <td>8.35</td>\n",
       "      <td>3750.0</td>\n",
       "      <td>0</td>\n",
       "      <td>1</td>\n",
       "      <td>1</td>\n",
       "      <td>0</td>\n",
       "      <td>0</td>\n",
       "      <td>0</td>\n",
       "    </tr>\n",
       "    <tr>\n",
       "      <th>3</th>\n",
       "      <td>37</td>\n",
       "      <td>3108.000000</td>\n",
       "      <td>27</td>\n",
       "      <td>5</td>\n",
       "      <td>8</td>\n",
       "      <td>22</td>\n",
       "      <td>23</td>\n",
       "      <td>10</td>\n",
       "      <td>1.78</td>\n",
       "      <td>2250.0</td>\n",
       "      <td>0</td>\n",
       "      <td>1</td>\n",
       "      <td>0</td>\n",
       "      <td>1</td>\n",
       "      <td>0</td>\n",
       "      <td>0</td>\n",
       "    </tr>\n",
       "    <tr>\n",
       "      <th>4</th>\n",
       "      <td>88</td>\n",
       "      <td>23408.000000</td>\n",
       "      <td>12</td>\n",
       "      <td>0</td>\n",
       "      <td>6</td>\n",
       "      <td>26</td>\n",
       "      <td>2</td>\n",
       "      <td>7</td>\n",
       "      <td>11.44</td>\n",
       "      <td>1750.0</td>\n",
       "      <td>0</td>\n",
       "      <td>1</td>\n",
       "      <td>0</td>\n",
       "      <td>1</td>\n",
       "      <td>0</td>\n",
       "      <td>0</td>\n",
       "    </tr>\n",
       "    <tr>\n",
       "      <th>5</th>\n",
       "      <td>90</td>\n",
       "      <td>17840.000000</td>\n",
       "      <td>50</td>\n",
       "      <td>3</td>\n",
       "      <td>9</td>\n",
       "      <td>27</td>\n",
       "      <td>19</td>\n",
       "      <td>11</td>\n",
       "      <td>11.44</td>\n",
       "      <td>3750.0</td>\n",
       "      <td>0</td>\n",
       "      <td>1</td>\n",
       "      <td>0</td>\n",
       "      <td>0</td>\n",
       "      <td>0</td>\n",
       "      <td>1</td>\n",
       "    </tr>\n",
       "  </tbody>\n",
       "</table>\n",
       "</div>"
      ],
      "text/plain": [
       "    Age      M_income  Work  Sibs  TFP  Ltime  Btime  Wtime  Tsleep  Caloric  \\\n",
       "ID                                                                             \n",
       "1    11   3058.000000    19     4    5     27     23     10    5.01   2000.0   \n",
       "2    33   5228.870605    53     5    1     29     20      8    8.35   3750.0   \n",
       "3    37   3108.000000    27     5    8     22     23     10    1.78   2250.0   \n",
       "4    88  23408.000000    12     0    6     26      2      7   11.44   1750.0   \n",
       "5    90  17840.000000    50     3    9     27     19     11   11.44   3750.0   \n",
       "\n",
       "    Female  Male  blue  green  red  yellow  \n",
       "ID                                          \n",
       "1        0     1     0      1    0       0  \n",
       "2        0     1     1      0    0       0  \n",
       "3        0     1     0      1    0       0  \n",
       "4        0     1     0      1    0       0  \n",
       "5        0     1     0      0    0       1  "
      ]
     },
     "execution_count": 136,
     "metadata": {},
     "output_type": "execute_result"
    }
   ],
   "source": [
    "dummies_color = pd.get_dummies(dataset[\"Color\"])\n",
    "dataset = dataset.drop(\"Color\", axis=1)\n",
    "dataset = dataset.join(dummies_color)\n",
    "dataset.head()"
   ]
  },
  {
   "cell_type": "markdown",
   "metadata": {},
   "source": [
    "- ### TFP"
   ]
  },
  {
   "cell_type": "code",
   "execution_count": 137,
   "metadata": {},
   "outputs": [
    {
     "data": {
      "text/plain": [
       "[1, 2, 3, 4, 5, 6, 7, 8, 9]"
      ]
     },
     "execution_count": 137,
     "metadata": {},
     "output_type": "execute_result"
    }
   ],
   "source": [
    "dataset[\"TFP\"].value_counts().sort_index().index.tolist()"
   ]
  },
  {
   "cell_type": "markdown",
   "metadata": {},
   "source": [
    "Currently, 1st place corresponds to integer `1`. And `9th` place corresponds to integer `9`.\n",
    "So I will change the order to opposite."
   ]
  },
  {
   "cell_type": "markdown",
   "metadata": {},
   "source": [
    "|Current|Fixed|\n",
    "|-|-|\n",
    "|1st -> 1|1st -> 9|\n",
    "|2nd -> 2|2nd -> 8|\n",
    "|:|:|\n",
    "|8th -> 8|8th -> 2|\n",
    "|9th -> 9|9th -> 1|"
   ]
  },
  {
   "cell_type": "code",
   "execution_count": 138,
   "metadata": {},
   "outputs": [],
   "source": [
    "tfp_dict = {\n",
    "    1: 9,\n",
    "    2: 8,\n",
    "    3: 7,\n",
    "    4: 6,\n",
    "    5: 5,\n",
    "    6: 4,\n",
    "    7: 3,\n",
    "    8: 2,\n",
    "    9: 1,\n",
    "}"
   ]
  },
  {
   "cell_type": "code",
   "execution_count": 139,
   "metadata": {},
   "outputs": [],
   "source": [
    "f = lambda x: tfp_dict[x]\n",
    "dataset[\"TFP\"] = dataset[\"TFP\"].map(f)"
   ]
  },
  {
   "cell_type": "markdown",
   "metadata": {},
   "source": [
    "# Multiple Value Ranges"
   ]
  },
  {
   "cell_type": "markdown",
   "metadata": {},
   "source": [
    "I will normalize each column by using Min-Max Normalization."
   ]
  },
  {
   "cell_type": "markdown",
   "metadata": {},
   "source": [
    "## Min-Max Normalization\n",
    "$$\n",
    "y = \\frac{x-x_{min}}{x_{max} - x_{min}}\n",
    "$$"
   ]
  },
  {
   "cell_type": "markdown",
   "metadata": {},
   "source": [
    "Where<br>\n",
    "$y$: A normalized value.<br>\n",
    "$x$: A value before normalized.<br>\n",
    "$x_{min}$: The minimum in a column being normalized.<br>\n",
    "$x_{max}$: The maximum in  a column being normalized.<br>"
   ]
  },
  {
   "cell_type": "code",
   "execution_count": 140,
   "metadata": {},
   "outputs": [],
   "source": [
    "def minmax_norm(df_norm, column):\n",
    "    \"\"\"\n",
    "    Min-Max Normalization.\n",
    "    \n",
    "    Parameters\n",
    "    ----------------\n",
    "    df_norm: Pandas DataFrame\n",
    "    \n",
    "    column: str\n",
    "        The column name to normalize\n",
    "    \n",
    "    Return\n",
    "    ---------\n",
    "    df_norm: Pandas DataFrame \n",
    "    \"\"\"\n",
    "    x_min = df_norm[column].min()\n",
    "    x_max = df_norm[column].max()\n",
    "    f = lambda x: (x - x_min) / (x_max - x_min)\n",
    "    df_norm[column] = df_norm[column].map(f)\n",
    "    return df_norm"
   ]
  },
  {
   "cell_type": "code",
   "execution_count": 141,
   "metadata": {},
   "outputs": [
    {
     "data": {
      "text/html": [
       "<div>\n",
       "<style scoped>\n",
       "    .dataframe tbody tr th:only-of-type {\n",
       "        vertical-align: middle;\n",
       "    }\n",
       "\n",
       "    .dataframe tbody tr th {\n",
       "        vertical-align: top;\n",
       "    }\n",
       "\n",
       "    .dataframe thead th {\n",
       "        text-align: right;\n",
       "    }\n",
       "</style>\n",
       "<table border=\"1\" class=\"dataframe\">\n",
       "  <thead>\n",
       "    <tr style=\"text-align: right;\">\n",
       "      <th></th>\n",
       "      <th>Age</th>\n",
       "      <th>M_income</th>\n",
       "      <th>Work</th>\n",
       "      <th>Sibs</th>\n",
       "      <th>TFP</th>\n",
       "      <th>Ltime</th>\n",
       "      <th>Btime</th>\n",
       "      <th>Wtime</th>\n",
       "      <th>Tsleep</th>\n",
       "      <th>Caloric</th>\n",
       "      <th>Female</th>\n",
       "      <th>Male</th>\n",
       "      <th>blue</th>\n",
       "      <th>green</th>\n",
       "      <th>red</th>\n",
       "      <th>yellow</th>\n",
       "    </tr>\n",
       "    <tr>\n",
       "      <th>ID</th>\n",
       "      <th></th>\n",
       "      <th></th>\n",
       "      <th></th>\n",
       "      <th></th>\n",
       "      <th></th>\n",
       "      <th></th>\n",
       "      <th></th>\n",
       "      <th></th>\n",
       "      <th></th>\n",
       "      <th></th>\n",
       "      <th></th>\n",
       "      <th></th>\n",
       "      <th></th>\n",
       "      <th></th>\n",
       "      <th></th>\n",
       "      <th></th>\n",
       "    </tr>\n",
       "  </thead>\n",
       "  <tbody>\n",
       "    <tr>\n",
       "      <th>1</th>\n",
       "      <td>11</td>\n",
       "      <td>3058.000000</td>\n",
       "      <td>19</td>\n",
       "      <td>4</td>\n",
       "      <td>5</td>\n",
       "      <td>27</td>\n",
       "      <td>23</td>\n",
       "      <td>10</td>\n",
       "      <td>5.01</td>\n",
       "      <td>2000.0</td>\n",
       "      <td>0</td>\n",
       "      <td>1</td>\n",
       "      <td>0</td>\n",
       "      <td>1</td>\n",
       "      <td>0</td>\n",
       "      <td>0</td>\n",
       "    </tr>\n",
       "    <tr>\n",
       "      <th>2</th>\n",
       "      <td>33</td>\n",
       "      <td>5228.870605</td>\n",
       "      <td>53</td>\n",
       "      <td>5</td>\n",
       "      <td>9</td>\n",
       "      <td>29</td>\n",
       "      <td>20</td>\n",
       "      <td>8</td>\n",
       "      <td>8.35</td>\n",
       "      <td>3750.0</td>\n",
       "      <td>0</td>\n",
       "      <td>1</td>\n",
       "      <td>1</td>\n",
       "      <td>0</td>\n",
       "      <td>0</td>\n",
       "      <td>0</td>\n",
       "    </tr>\n",
       "    <tr>\n",
       "      <th>3</th>\n",
       "      <td>37</td>\n",
       "      <td>3108.000000</td>\n",
       "      <td>27</td>\n",
       "      <td>5</td>\n",
       "      <td>2</td>\n",
       "      <td>22</td>\n",
       "      <td>23</td>\n",
       "      <td>10</td>\n",
       "      <td>1.78</td>\n",
       "      <td>2250.0</td>\n",
       "      <td>0</td>\n",
       "      <td>1</td>\n",
       "      <td>0</td>\n",
       "      <td>1</td>\n",
       "      <td>0</td>\n",
       "      <td>0</td>\n",
       "    </tr>\n",
       "    <tr>\n",
       "      <th>4</th>\n",
       "      <td>88</td>\n",
       "      <td>23408.000000</td>\n",
       "      <td>12</td>\n",
       "      <td>0</td>\n",
       "      <td>4</td>\n",
       "      <td>26</td>\n",
       "      <td>2</td>\n",
       "      <td>7</td>\n",
       "      <td>11.44</td>\n",
       "      <td>1750.0</td>\n",
       "      <td>0</td>\n",
       "      <td>1</td>\n",
       "      <td>0</td>\n",
       "      <td>1</td>\n",
       "      <td>0</td>\n",
       "      <td>0</td>\n",
       "    </tr>\n",
       "    <tr>\n",
       "      <th>5</th>\n",
       "      <td>90</td>\n",
       "      <td>17840.000000</td>\n",
       "      <td>50</td>\n",
       "      <td>3</td>\n",
       "      <td>1</td>\n",
       "      <td>27</td>\n",
       "      <td>19</td>\n",
       "      <td>11</td>\n",
       "      <td>11.44</td>\n",
       "      <td>3750.0</td>\n",
       "      <td>0</td>\n",
       "      <td>1</td>\n",
       "      <td>0</td>\n",
       "      <td>0</td>\n",
       "      <td>0</td>\n",
       "      <td>1</td>\n",
       "    </tr>\n",
       "  </tbody>\n",
       "</table>\n",
       "</div>"
      ],
      "text/plain": [
       "    Age      M_income  Work  Sibs  TFP  Ltime  Btime  Wtime  Tsleep  Caloric  \\\n",
       "ID                                                                             \n",
       "1    11   3058.000000    19     4    5     27     23     10    5.01   2000.0   \n",
       "2    33   5228.870605    53     5    9     29     20      8    8.35   3750.0   \n",
       "3    37   3108.000000    27     5    2     22     23     10    1.78   2250.0   \n",
       "4    88  23408.000000    12     0    4     26      2      7   11.44   1750.0   \n",
       "5    90  17840.000000    50     3    1     27     19     11   11.44   3750.0   \n",
       "\n",
       "    Female  Male  blue  green  red  yellow  \n",
       "ID                                          \n",
       "1        0     1     0      1    0       0  \n",
       "2        0     1     1      0    0       0  \n",
       "3        0     1     0      1    0       0  \n",
       "4        0     1     0      1    0       0  \n",
       "5        0     1     0      0    0       1  "
      ]
     },
     "execution_count": 141,
     "metadata": {},
     "output_type": "execute_result"
    }
   ],
   "source": [
    "dataset .head()"
   ]
  },
  {
   "cell_type": "code",
   "execution_count": 142,
   "metadata": {},
   "outputs": [],
   "source": [
    "numeric_cols = [\"Age\",\n",
    "                        \"M_income\",\n",
    "                        \"Work\",\n",
    "                        \"Sibs\",\n",
    "                        \"TFP\",\n",
    "                        \"Ltime\",\n",
    "                        \"Btime\",\n",
    "                        \"Wtime\",\n",
    "                        \"Tsleep\",\n",
    "                        \"Caloric\"] "
   ]
  },
  {
   "cell_type": "code",
   "execution_count": 143,
   "metadata": {},
   "outputs": [
    {
     "data": {
      "application/vnd.jupyter.widget-view+json": {
       "model_id": "39b04ae558304326a363191c2cc99895",
       "version_major": 2,
       "version_minor": 0
      },
      "text/plain": [
       "HBox(children=(IntProgress(value=0, max=10), HTML(value='')))"
      ]
     },
     "metadata": {},
     "output_type": "display_data"
    },
    {
     "name": "stdout",
     "output_type": "stream",
     "text": [
      "\n"
     ]
    },
    {
     "data": {
      "text/html": [
       "<div>\n",
       "<style scoped>\n",
       "    .dataframe tbody tr th:only-of-type {\n",
       "        vertical-align: middle;\n",
       "    }\n",
       "\n",
       "    .dataframe tbody tr th {\n",
       "        vertical-align: top;\n",
       "    }\n",
       "\n",
       "    .dataframe thead th {\n",
       "        text-align: right;\n",
       "    }\n",
       "</style>\n",
       "<table border=\"1\" class=\"dataframe\">\n",
       "  <thead>\n",
       "    <tr style=\"text-align: right;\">\n",
       "      <th></th>\n",
       "      <th>Age</th>\n",
       "      <th>M_income</th>\n",
       "      <th>Work</th>\n",
       "      <th>Sibs</th>\n",
       "      <th>TFP</th>\n",
       "      <th>Ltime</th>\n",
       "      <th>Btime</th>\n",
       "      <th>Wtime</th>\n",
       "      <th>Tsleep</th>\n",
       "      <th>Caloric</th>\n",
       "      <th>Female</th>\n",
       "      <th>Male</th>\n",
       "      <th>blue</th>\n",
       "      <th>green</th>\n",
       "      <th>red</th>\n",
       "      <th>yellow</th>\n",
       "    </tr>\n",
       "    <tr>\n",
       "      <th>ID</th>\n",
       "      <th></th>\n",
       "      <th></th>\n",
       "      <th></th>\n",
       "      <th></th>\n",
       "      <th></th>\n",
       "      <th></th>\n",
       "      <th></th>\n",
       "      <th></th>\n",
       "      <th></th>\n",
       "      <th></th>\n",
       "      <th></th>\n",
       "      <th></th>\n",
       "      <th></th>\n",
       "      <th></th>\n",
       "      <th></th>\n",
       "      <th></th>\n",
       "    </tr>\n",
       "  </thead>\n",
       "  <tbody>\n",
       "    <tr>\n",
       "      <th>1</th>\n",
       "      <td>0.048193</td>\n",
       "      <td>0.108637</td>\n",
       "      <td>0.189189</td>\n",
       "      <td>0.444444</td>\n",
       "      <td>0.500</td>\n",
       "      <td>0.7</td>\n",
       "      <td>1.000000</td>\n",
       "      <td>0.714286</td>\n",
       "      <td>0.4008</td>\n",
       "      <td>0.222222</td>\n",
       "      <td>0</td>\n",
       "      <td>1</td>\n",
       "      <td>0</td>\n",
       "      <td>1</td>\n",
       "      <td>0</td>\n",
       "      <td>0</td>\n",
       "    </tr>\n",
       "    <tr>\n",
       "      <th>2</th>\n",
       "      <td>0.313253</td>\n",
       "      <td>0.189459</td>\n",
       "      <td>0.648649</td>\n",
       "      <td>0.555556</td>\n",
       "      <td>1.000</td>\n",
       "      <td>0.9</td>\n",
       "      <td>0.869565</td>\n",
       "      <td>0.428571</td>\n",
       "      <td>0.6680</td>\n",
       "      <td>1.000000</td>\n",
       "      <td>0</td>\n",
       "      <td>1</td>\n",
       "      <td>1</td>\n",
       "      <td>0</td>\n",
       "      <td>0</td>\n",
       "      <td>0</td>\n",
       "    </tr>\n",
       "    <tr>\n",
       "      <th>3</th>\n",
       "      <td>0.361446</td>\n",
       "      <td>0.110499</td>\n",
       "      <td>0.297297</td>\n",
       "      <td>0.555556</td>\n",
       "      <td>0.125</td>\n",
       "      <td>0.2</td>\n",
       "      <td>1.000000</td>\n",
       "      <td>0.714286</td>\n",
       "      <td>0.1424</td>\n",
       "      <td>0.333333</td>\n",
       "      <td>0</td>\n",
       "      <td>1</td>\n",
       "      <td>0</td>\n",
       "      <td>1</td>\n",
       "      <td>0</td>\n",
       "      <td>0</td>\n",
       "    </tr>\n",
       "    <tr>\n",
       "      <th>4</th>\n",
       "      <td>0.975904</td>\n",
       "      <td>0.866270</td>\n",
       "      <td>0.094595</td>\n",
       "      <td>0.000000</td>\n",
       "      <td>0.375</td>\n",
       "      <td>0.6</td>\n",
       "      <td>0.086957</td>\n",
       "      <td>0.285714</td>\n",
       "      <td>0.9152</td>\n",
       "      <td>0.111111</td>\n",
       "      <td>0</td>\n",
       "      <td>1</td>\n",
       "      <td>0</td>\n",
       "      <td>1</td>\n",
       "      <td>0</td>\n",
       "      <td>0</td>\n",
       "    </tr>\n",
       "    <tr>\n",
       "      <th>5</th>\n",
       "      <td>1.000000</td>\n",
       "      <td>0.658972</td>\n",
       "      <td>0.608108</td>\n",
       "      <td>0.333333</td>\n",
       "      <td>0.000</td>\n",
       "      <td>0.7</td>\n",
       "      <td>0.826087</td>\n",
       "      <td>0.857143</td>\n",
       "      <td>0.9152</td>\n",
       "      <td>1.000000</td>\n",
       "      <td>0</td>\n",
       "      <td>1</td>\n",
       "      <td>0</td>\n",
       "      <td>0</td>\n",
       "      <td>0</td>\n",
       "      <td>1</td>\n",
       "    </tr>\n",
       "  </tbody>\n",
       "</table>\n",
       "</div>"
      ],
      "text/plain": [
       "         Age  M_income      Work      Sibs    TFP  Ltime     Btime     Wtime  \\\n",
       "ID                                                                             \n",
       "1   0.048193  0.108637  0.189189  0.444444  0.500    0.7  1.000000  0.714286   \n",
       "2   0.313253  0.189459  0.648649  0.555556  1.000    0.9  0.869565  0.428571   \n",
       "3   0.361446  0.110499  0.297297  0.555556  0.125    0.2  1.000000  0.714286   \n",
       "4   0.975904  0.866270  0.094595  0.000000  0.375    0.6  0.086957  0.285714   \n",
       "5   1.000000  0.658972  0.608108  0.333333  0.000    0.7  0.826087  0.857143   \n",
       "\n",
       "    Tsleep   Caloric  Female  Male  blue  green  red  yellow  \n",
       "ID                                                            \n",
       "1   0.4008  0.222222       0     1     0      1    0       0  \n",
       "2   0.6680  1.000000       0     1     1      0    0       0  \n",
       "3   0.1424  0.333333       0     1     0      1    0       0  \n",
       "4   0.9152  0.111111       0     1     0      1    0       0  \n",
       "5   0.9152  1.000000       0     1     0      0    0       1  "
      ]
     },
     "execution_count": 143,
     "metadata": {},
     "output_type": "execute_result"
    }
   ],
   "source": [
    "for col in tqdm(numeric_cols):\n",
    "    dataset = minmax_norm(dataset, column=col)\n",
    "dataset.head()"
   ]
  },
  {
   "cell_type": "code",
   "execution_count": 144,
   "metadata": {},
   "outputs": [
    {
     "data": {
      "text/html": [
       "<div>\n",
       "<style scoped>\n",
       "    .dataframe tbody tr th:only-of-type {\n",
       "        vertical-align: middle;\n",
       "    }\n",
       "\n",
       "    .dataframe tbody tr th {\n",
       "        vertical-align: top;\n",
       "    }\n",
       "\n",
       "    .dataframe thead th {\n",
       "        text-align: right;\n",
       "    }\n",
       "</style>\n",
       "<table border=\"1\" class=\"dataframe\">\n",
       "  <thead>\n",
       "    <tr style=\"text-align: right;\">\n",
       "      <th></th>\n",
       "      <th>Age</th>\n",
       "      <th>M_income</th>\n",
       "      <th>Work</th>\n",
       "      <th>Sibs</th>\n",
       "      <th>TFP</th>\n",
       "      <th>Ltime</th>\n",
       "      <th>Btime</th>\n",
       "      <th>Wtime</th>\n",
       "      <th>Tsleep</th>\n",
       "      <th>Caloric</th>\n",
       "      <th>Female</th>\n",
       "      <th>Male</th>\n",
       "      <th>blue</th>\n",
       "      <th>green</th>\n",
       "      <th>red</th>\n",
       "      <th>yellow</th>\n",
       "    </tr>\n",
       "  </thead>\n",
       "  <tbody>\n",
       "    <tr>\n",
       "      <th>count</th>\n",
       "      <td>1000000.000000</td>\n",
       "      <td>1000000.000000</td>\n",
       "      <td>1000000.000000</td>\n",
       "      <td>1000000.000000</td>\n",
       "      <td>1000000.000000</td>\n",
       "      <td>1000000.000000</td>\n",
       "      <td>1000000.000000</td>\n",
       "      <td>1000000.000000</td>\n",
       "      <td>1000000.000000</td>\n",
       "      <td>1000000.000000</td>\n",
       "      <td>1000000.000000</td>\n",
       "      <td>1000000.000000</td>\n",
       "      <td>1000000.000000</td>\n",
       "      <td>1000000.000000</td>\n",
       "      <td>1000000.000000</td>\n",
       "      <td>1000000.000000</td>\n",
       "    </tr>\n",
       "    <tr>\n",
       "      <th>mean</th>\n",
       "      <td>0.499797</td>\n",
       "      <td>0.283704</td>\n",
       "      <td>0.500260</td>\n",
       "      <td>0.496331</td>\n",
       "      <td>0.499723</td>\n",
       "      <td>0.499877</td>\n",
       "      <td>0.496270</td>\n",
       "      <td>0.504199</td>\n",
       "      <td>0.495663</td>\n",
       "      <td>0.499984</td>\n",
       "      <td>0.501027</td>\n",
       "      <td>0.498973</td>\n",
       "      <td>0.248198</td>\n",
       "      <td>0.248051</td>\n",
       "      <td>0.248160</td>\n",
       "      <td>0.255591</td>\n",
       "    </tr>\n",
       "    <tr>\n",
       "      <th>std</th>\n",
       "      <td>0.292588</td>\n",
       "      <td>0.217427</td>\n",
       "      <td>0.292597</td>\n",
       "      <td>0.320998</td>\n",
       "      <td>0.322644</td>\n",
       "      <td>0.316286</td>\n",
       "      <td>0.418287</td>\n",
       "      <td>0.329066</td>\n",
       "      <td>0.290616</td>\n",
       "      <td>0.319044</td>\n",
       "      <td>0.499999</td>\n",
       "      <td>0.499999</td>\n",
       "      <td>0.431968</td>\n",
       "      <td>0.431882</td>\n",
       "      <td>0.431945</td>\n",
       "      <td>0.436193</td>\n",
       "    </tr>\n",
       "    <tr>\n",
       "      <th>min</th>\n",
       "      <td>0.000000</td>\n",
       "      <td>0.000000</td>\n",
       "      <td>0.000000</td>\n",
       "      <td>0.000000</td>\n",
       "      <td>0.000000</td>\n",
       "      <td>0.000000</td>\n",
       "      <td>0.000000</td>\n",
       "      <td>0.000000</td>\n",
       "      <td>0.000000</td>\n",
       "      <td>0.000000</td>\n",
       "      <td>0.000000</td>\n",
       "      <td>0.000000</td>\n",
       "      <td>0.000000</td>\n",
       "      <td>0.000000</td>\n",
       "      <td>0.000000</td>\n",
       "      <td>0.000000</td>\n",
       "    </tr>\n",
       "    <tr>\n",
       "      <th>25%</th>\n",
       "      <td>0.240964</td>\n",
       "      <td>0.105287</td>\n",
       "      <td>0.243243</td>\n",
       "      <td>0.222222</td>\n",
       "      <td>0.250000</td>\n",
       "      <td>0.200000</td>\n",
       "      <td>0.086957</td>\n",
       "      <td>0.285714</td>\n",
       "      <td>0.244000</td>\n",
       "      <td>0.222222</td>\n",
       "      <td>0.000000</td>\n",
       "      <td>0.000000</td>\n",
       "      <td>0.000000</td>\n",
       "      <td>0.000000</td>\n",
       "      <td>0.000000</td>\n",
       "      <td>0.000000</td>\n",
       "    </tr>\n",
       "    <tr>\n",
       "      <th>50%</th>\n",
       "      <td>0.493976</td>\n",
       "      <td>0.226992</td>\n",
       "      <td>0.500000</td>\n",
       "      <td>0.444444</td>\n",
       "      <td>0.500000</td>\n",
       "      <td>0.500000</td>\n",
       "      <td>0.173913</td>\n",
       "      <td>0.571429</td>\n",
       "      <td>0.495200</td>\n",
       "      <td>0.444444</td>\n",
       "      <td>1.000000</td>\n",
       "      <td>0.000000</td>\n",
       "      <td>0.000000</td>\n",
       "      <td>0.000000</td>\n",
       "      <td>0.000000</td>\n",
       "      <td>0.000000</td>\n",
       "    </tr>\n",
       "    <tr>\n",
       "      <th>75%</th>\n",
       "      <td>0.759036</td>\n",
       "      <td>0.418019</td>\n",
       "      <td>0.756757</td>\n",
       "      <td>0.777778</td>\n",
       "      <td>0.750000</td>\n",
       "      <td>0.800000</td>\n",
       "      <td>0.913043</td>\n",
       "      <td>0.857143</td>\n",
       "      <td>0.747200</td>\n",
       "      <td>0.777778</td>\n",
       "      <td>1.000000</td>\n",
       "      <td>1.000000</td>\n",
       "      <td>0.000000</td>\n",
       "      <td>0.000000</td>\n",
       "      <td>0.000000</td>\n",
       "      <td>1.000000</td>\n",
       "    </tr>\n",
       "    <tr>\n",
       "      <th>max</th>\n",
       "      <td>1.000000</td>\n",
       "      <td>1.000000</td>\n",
       "      <td>1.000000</td>\n",
       "      <td>1.000000</td>\n",
       "      <td>1.000000</td>\n",
       "      <td>1.000000</td>\n",
       "      <td>1.000000</td>\n",
       "      <td>1.000000</td>\n",
       "      <td>1.000000</td>\n",
       "      <td>1.000000</td>\n",
       "      <td>1.000000</td>\n",
       "      <td>1.000000</td>\n",
       "      <td>1.000000</td>\n",
       "      <td>1.000000</td>\n",
       "      <td>1.000000</td>\n",
       "      <td>1.000000</td>\n",
       "    </tr>\n",
       "  </tbody>\n",
       "</table>\n",
       "</div>"
      ],
      "text/plain": [
       "                  Age        M_income            Work            Sibs  \\\n",
       "count  1000000.000000  1000000.000000  1000000.000000  1000000.000000   \n",
       "mean         0.499797        0.283704        0.500260        0.496331   \n",
       "std          0.292588        0.217427        0.292597        0.320998   \n",
       "min          0.000000        0.000000        0.000000        0.000000   \n",
       "25%          0.240964        0.105287        0.243243        0.222222   \n",
       "50%          0.493976        0.226992        0.500000        0.444444   \n",
       "75%          0.759036        0.418019        0.756757        0.777778   \n",
       "max          1.000000        1.000000        1.000000        1.000000   \n",
       "\n",
       "                  TFP           Ltime           Btime           Wtime  \\\n",
       "count  1000000.000000  1000000.000000  1000000.000000  1000000.000000   \n",
       "mean         0.499723        0.499877        0.496270        0.504199   \n",
       "std          0.322644        0.316286        0.418287        0.329066   \n",
       "min          0.000000        0.000000        0.000000        0.000000   \n",
       "25%          0.250000        0.200000        0.086957        0.285714   \n",
       "50%          0.500000        0.500000        0.173913        0.571429   \n",
       "75%          0.750000        0.800000        0.913043        0.857143   \n",
       "max          1.000000        1.000000        1.000000        1.000000   \n",
       "\n",
       "               Tsleep         Caloric          Female            Male  \\\n",
       "count  1000000.000000  1000000.000000  1000000.000000  1000000.000000   \n",
       "mean         0.495663        0.499984        0.501027        0.498973   \n",
       "std          0.290616        0.319044        0.499999        0.499999   \n",
       "min          0.000000        0.000000        0.000000        0.000000   \n",
       "25%          0.244000        0.222222        0.000000        0.000000   \n",
       "50%          0.495200        0.444444        1.000000        0.000000   \n",
       "75%          0.747200        0.777778        1.000000        1.000000   \n",
       "max          1.000000        1.000000        1.000000        1.000000   \n",
       "\n",
       "                 blue           green             red          yellow  \n",
       "count  1000000.000000  1000000.000000  1000000.000000  1000000.000000  \n",
       "mean         0.248198        0.248051        0.248160        0.255591  \n",
       "std          0.431968        0.431882        0.431945        0.436193  \n",
       "min          0.000000        0.000000        0.000000        0.000000  \n",
       "25%          0.000000        0.000000        0.000000        0.000000  \n",
       "50%          0.000000        0.000000        0.000000        0.000000  \n",
       "75%          0.000000        0.000000        0.000000        1.000000  \n",
       "max          1.000000        1.000000        1.000000        1.000000  "
      ]
     },
     "execution_count": 144,
     "metadata": {},
     "output_type": "execute_result"
    }
   ],
   "source": [
    "dataset.describe()"
   ]
  },
  {
   "cell_type": "code",
   "execution_count": 145,
   "metadata": {},
   "outputs": [
    {
     "name": "stdout",
     "output_type": "stream",
     "text": [
      "<class 'pandas.core.frame.DataFrame'>\n",
      "Int64Index: 1000000 entries, 1 to 70496\n",
      "Data columns (total 16 columns):\n",
      "Age         1000000 non-null float64\n",
      "M_income    1000000 non-null float64\n",
      "Work        1000000 non-null float64\n",
      "Sibs        1000000 non-null float64\n",
      "TFP         1000000 non-null float64\n",
      "Ltime       1000000 non-null float64\n",
      "Btime       1000000 non-null float64\n",
      "Wtime       1000000 non-null float64\n",
      "Tsleep      1000000 non-null float64\n",
      "Caloric     1000000 non-null float64\n",
      "Female      1000000 non-null uint8\n",
      "Male        1000000 non-null uint8\n",
      "blue        1000000 non-null uint8\n",
      "green       1000000 non-null uint8\n",
      "red         1000000 non-null uint8\n",
      "yellow      1000000 non-null uint8\n",
      "dtypes: float64(10), uint8(6)\n",
      "memory usage: 129.6 MB\n"
     ]
    }
   ],
   "source": [
    "dataset.info()"
   ]
  },
  {
   "cell_type": "markdown",
   "metadata": {},
   "source": [
    "# Create a CSV"
   ]
  },
  {
   "cell_type": "code",
   "execution_count": 146,
   "metadata": {},
   "outputs": [],
   "source": [
    "dataset.to_csv(str(cleaned_csv_path))"
   ]
  },
  {
   "cell_type": "code",
   "execution_count": null,
   "metadata": {},
   "outputs": [],
   "source": []
  }
 ],
 "metadata": {
  "kernelspec": {
   "display_name": "Python 3",
   "language": "python",
   "name": "python3"
  },
  "language_info": {
   "codemirror_mode": {
    "name": "ipython",
    "version": 3
   },
   "file_extension": ".py",
   "mimetype": "text/x-python",
   "name": "python",
   "nbconvert_exporter": "python",
   "pygments_lexer": "ipython3",
   "version": "3.7.3"
  }
 },
 "nbformat": 4,
 "nbformat_minor": 2
}
