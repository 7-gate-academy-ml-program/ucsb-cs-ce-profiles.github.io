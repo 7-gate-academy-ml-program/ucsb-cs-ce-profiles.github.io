{
  "nbformat": 4,
  "nbformat_minor": 0,
  "metadata": {
    "colab": {
      "name": "L11 Data Preprocessing - Questions.ipynb",
      "provenance": [],
      "collapsed_sections": []
    },
    "kernelspec": {
      "name": "python3",
      "display_name": "Python 3"
    }
  },
  "cells": [
    {
      "cell_type": "markdown",
      "metadata": {
        "id": "M8I0cj-q1-YD",
        "colab_type": "text"
      },
      "source": [
        "# Data Preprocessing in Python"
      ]
    },
    {
      "cell_type": "markdown",
      "metadata": {
        "id": "3UFjGF8uF1ES",
        "colab_type": "text"
      },
      "source": [
        "## Importing Dependencies and uploading our data"
      ]
    },
    {
      "cell_type": "code",
      "metadata": {
        "id": "fT2K4dYw16ds",
        "colab_type": "code",
        "colab": {}
      },
      "source": [
        "import pandas as pd\n",
        "import numpy as np\n",
        "from google.colab import files\n",
        "import math"
      ],
      "execution_count": 0,
      "outputs": []
    },
    {
      "cell_type": "code",
      "metadata": {
        "id": "IGO_MPvnCGLR",
        "colab_type": "code",
        "colab": {}
      },
      "source": [
        "data = files.upload()"
      ],
      "execution_count": 0,
      "outputs": []
    },
    {
      "cell_type": "markdown",
      "metadata": {
        "id": "i5ZhnjkiGlDp",
        "colab_type": "text"
      },
      "source": [
        "### Sanity check to ensure our data was successfully uploaded"
      ]
    },
    {
      "cell_type": "code",
      "metadata": {
        "id": "JYYWV93t2TH7",
        "colab_type": "code",
        "outputId": "4778f465-b603-428c-bbc7-fe5e3e3da828",
        "colab": {
          "base_uri": "https://localhost:8080/",
          "height": 34
        }
      },
      "source": [
        "!ls"
      ],
      "execution_count": 0,
      "outputs": [
        {
          "output_type": "stream",
          "text": [
            "mock_data_preprocessing.csv  sample_data\n"
          ],
          "name": "stdout"
        }
      ]
    },
    {
      "cell_type": "markdown",
      "metadata": {
        "id": "5UlFTyDSJqMv",
        "colab_type": "text"
      },
      "source": [
        "## Data Exploration"
      ]
    },
    {
      "cell_type": "code",
      "metadata": {
        "id": "aDU68r8vBq2Y",
        "colab_type": "code",
        "colab": {}
      },
      "source": [
        "dataset = pd.read_csv('mock_data_preprocessing.csv')"
      ],
      "execution_count": 0,
      "outputs": []
    },
    {
      "cell_type": "code",
      "metadata": {
        "id": "rY-wOxkFDRgn",
        "colab_type": "code",
        "outputId": "248f7f52-2578-49c4-8383-43794466bd37",
        "colab": {
          "base_uri": "https://localhost:8080/",
          "height": 332
        }
      },
      "source": [
        "dataset.head(9)"
      ],
      "execution_count": 288,
      "outputs": [
        {
          "output_type": "execute_result",
          "data": {
            "text/html": [
              "<div>\n",
              "<style scoped>\n",
              "    .dataframe tbody tr th:only-of-type {\n",
              "        vertical-align: middle;\n",
              "    }\n",
              "\n",
              "    .dataframe tbody tr th {\n",
              "        vertical-align: top;\n",
              "    }\n",
              "\n",
              "    .dataframe thead th {\n",
              "        text-align: right;\n",
              "    }\n",
              "</style>\n",
              "<table border=\"1\" class=\"dataframe\">\n",
              "  <thead>\n",
              "    <tr style=\"text-align: right;\">\n",
              "      <th></th>\n",
              "      <th>Id</th>\n",
              "      <th>Age</th>\n",
              "      <th>Siblings</th>\n",
              "      <th>Height</th>\n",
              "      <th>Weight</th>\n",
              "      <th>BMI</th>\n",
              "      <th>Vehicle</th>\n",
              "      <th>Travel Distance</th>\n",
              "      <th>Education</th>\n",
              "      <th>Salary</th>\n",
              "    </tr>\n",
              "  </thead>\n",
              "  <tbody>\n",
              "    <tr>\n",
              "      <th>0</th>\n",
              "      <td>x1</td>\n",
              "      <td>23</td>\n",
              "      <td>None</td>\n",
              "      <td>5’5</td>\n",
              "      <td>140lbs</td>\n",
              "      <td>23.3</td>\n",
              "      <td>Car</td>\n",
              "      <td>60km</td>\n",
              "      <td>Bachelor’s</td>\n",
              "      <td>$60,000</td>\n",
              "    </tr>\n",
              "    <tr>\n",
              "      <th>1</th>\n",
              "      <td>x2</td>\n",
              "      <td>20</td>\n",
              "      <td>2</td>\n",
              "      <td>6’0</td>\n",
              "      <td>175lbs</td>\n",
              "      <td>23.7</td>\n",
              "      <td>Bicycle</td>\n",
              "      <td>20km</td>\n",
              "      <td>High-School</td>\n",
              "      <td>$20,000</td>\n",
              "    </tr>\n",
              "    <tr>\n",
              "      <th>2</th>\n",
              "      <td>x3</td>\n",
              "      <td>40</td>\n",
              "      <td>1</td>\n",
              "      <td>4’10</td>\n",
              "      <td>100lbs</td>\n",
              "      <td>999.0</td>\n",
              "      <td>Bus</td>\n",
              "      <td>40km</td>\n",
              "      <td>Master’s</td>\n",
              "      <td>$75,000</td>\n",
              "    </tr>\n",
              "    <tr>\n",
              "      <th>3</th>\n",
              "      <td>x4</td>\n",
              "      <td>21</td>\n",
              "      <td>6</td>\n",
              "      <td>0</td>\n",
              "      <td>130lbs</td>\n",
              "      <td>23.8</td>\n",
              "      <td>Taxi</td>\n",
              "      <td>50km</td>\n",
              "      <td>High-School</td>\n",
              "      <td>$2,000,000</td>\n",
              "    </tr>\n",
              "    <tr>\n",
              "      <th>4</th>\n",
              "      <td>x5</td>\n",
              "      <td>42</td>\n",
              "      <td>0</td>\n",
              "      <td>5’8</td>\n",
              "      <td>180</td>\n",
              "      <td>27.4</td>\n",
              "      <td>Bus</td>\n",
              "      <td>35km</td>\n",
              "      <td>Ph.D.</td>\n",
              "      <td>$80,000</td>\n",
              "    </tr>\n",
              "    <tr>\n",
              "      <th>5</th>\n",
              "      <td>x5</td>\n",
              "      <td>42</td>\n",
              "      <td>0</td>\n",
              "      <td>5’8</td>\n",
              "      <td>180</td>\n",
              "      <td>27.4</td>\n",
              "      <td>Bus</td>\n",
              "      <td>35km</td>\n",
              "      <td>Ph.D.</td>\n",
              "      <td>$80,000</td>\n",
              "    </tr>\n",
              "    <tr>\n",
              "      <th>6</th>\n",
              "      <td>x1</td>\n",
              "      <td>23</td>\n",
              "      <td>None</td>\n",
              "      <td>5’5</td>\n",
              "      <td>140lbs</td>\n",
              "      <td>23.3</td>\n",
              "      <td>Car</td>\n",
              "      <td>60km</td>\n",
              "      <td>Bachelor’s</td>\n",
              "      <td>$60,000</td>\n",
              "    </tr>\n",
              "    <tr>\n",
              "      <th>7</th>\n",
              "      <td>x7</td>\n",
              "      <td>24</td>\n",
              "      <td>1</td>\n",
              "      <td>5’8</td>\n",
              "      <td>155lbs</td>\n",
              "      <td>23.6</td>\n",
              "      <td>Foot</td>\n",
              "      <td>3km</td>\n",
              "      <td>Bachelor’s</td>\n",
              "      <td>$100,000</td>\n",
              "    </tr>\n",
              "    <tr>\n",
              "      <th>8</th>\n",
              "      <td>x8</td>\n",
              "      <td>35</td>\n",
              "      <td>4</td>\n",
              "      <td>5’3</td>\n",
              "      <td>100lbs</td>\n",
              "      <td>17.7</td>\n",
              "      <td>Bus</td>\n",
              "      <td>15km</td>\n",
              "      <td>Master’s</td>\n",
              "      <td>$50,000</td>\n",
              "    </tr>\n",
              "  </tbody>\n",
              "</table>\n",
              "</div>"
            ],
            "text/plain": [
              "   Id  Age Siblings Height  ...  Vehicle  Travel Distance    Education      Salary\n",
              "0  x1   23     None    5’5  ...      Car             60km   Bachelor’s     $60,000\n",
              "1  x2   20        2    6’0  ...  Bicycle             20km  High-School     $20,000\n",
              "2  x3   40        1   4’10  ...      Bus             40km     Master’s     $75,000\n",
              "3  x4   21        6      0  ...     Taxi             50km  High-School  $2,000,000\n",
              "4  x5   42        0    5’8  ...      Bus             35km        Ph.D.     $80,000\n",
              "5  x5   42        0    5’8  ...      Bus             35km        Ph.D.     $80,000\n",
              "6  x1   23     None    5’5  ...      Car             60km   Bachelor’s     $60,000\n",
              "7  x7   24        1    5’8  ...     Foot              3km   Bachelor’s    $100,000\n",
              "8  x8   35        4    5’3  ...      Bus             15km     Master’s     $50,000\n",
              "\n",
              "[9 rows x 10 columns]"
            ]
          },
          "metadata": {
            "tags": []
          },
          "execution_count": 288
        }
      ]
    },
    {
      "cell_type": "markdown",
      "metadata": {
        "id": "zmNbxdoaJ-q8",
        "colab_type": "text"
      },
      "source": [
        "### Note:\n",
        ".describe() is only showing us the Age and BMI columns because they are the only columns with only numbers in them. This is a sign that all the other columns will need to be processed to some degree as well."
      ]
    },
    {
      "cell_type": "code",
      "metadata": {
        "id": "m2YW1sX9DWDI",
        "colab_type": "code",
        "outputId": "d6b99c44-7404-457b-fb01-542b8ff69a9c",
        "colab": {
          "base_uri": "https://localhost:8080/",
          "height": 394
        }
      },
      "source": [
        "print(dataset.describe())\n",
        "print('============================')\n",
        "print(dataset.dtypes)"
      ],
      "execution_count": 289,
      "outputs": [
        {
          "output_type": "stream",
          "text": [
            "             Age         BMI\n",
            "count   9.000000    9.000000\n",
            "mean   30.000000  132.133333\n",
            "std     9.539392  325.087242\n",
            "min    20.000000   17.700000\n",
            "25%    23.000000   23.300000\n",
            "50%    24.000000   23.700000\n",
            "75%    40.000000   27.400000\n",
            "max    42.000000  999.000000\n",
            "============================\n",
            "Id                  object\n",
            "Age                  int64\n",
            "Siblings            object\n",
            "Height              object\n",
            "Weight              object\n",
            "BMI                float64\n",
            "Vehicle             object\n",
            "Travel Distance     object\n",
            "Education           object\n",
            "Salary              object\n",
            "dtype: object\n"
          ],
          "name": "stdout"
        }
      ]
    },
    {
      "cell_type": "markdown",
      "metadata": {
        "id": "iaxqG5MyLEmS",
        "colab_type": "text"
      },
      "source": [
        "## Data Preprocessing"
      ]
    },
    {
      "cell_type": "markdown",
      "metadata": {
        "id": "pu-OwFFwLwQ3",
        "colab_type": "text"
      },
      "source": [
        "### Duplicates\n",
        "\n",
        "To reduce the amount of computation required to clean the data we will first remove any existing duplicates.\n",
        "\n",
        "**TODO**\n",
        "\n",
        "1.) Check if there are any duplicate rows\n",
        "\n",
        "2.) Remove any duplicate rows\n",
        "\n",
        "**Note:** Make sure to keep one copy of any duplicates found in the dataset"
      ]
    },
    {
      "cell_type": "code",
      "metadata": {
        "id": "SX2BI0tJTj5H",
        "colab_type": "code",
        "colab": {}
      },
      "source": [
        "dataset=dataset.drop_duplicates()"
      ],
      "execution_count": 0,
      "outputs": []
    },
    {
      "cell_type": "markdown",
      "metadata": {
        "id": "WBwOUt5iLT_R",
        "colab_type": "text"
      },
      "source": [
        "### Age\n",
        "\n",
        "In order to prepare our data for training we will normalize all our data to be between 0 and 1.\n",
        "\n",
        "**Note:** When normalizing data only look at the values of the feature/column being normalized\n",
        "\n",
        "**TODO**\n",
        "\n",
        "1.) Find the minimum age\n",
        "\n",
        "2.) Find the maximum age\n",
        "\n",
        "3.) Normalize all the age values\n",
        "\n",
        "**Note**\n",
        "\n",
        "The normalize formula is as follows:\n",
        "\n",
        "$$ X_{new} = \\frac{X - X_{min}}  {X_{max} - X_{min}}$$\n",
        "\n"
      ]
    },
    {
      "cell_type": "code",
      "metadata": {
        "id": "sphmy8AgqEhR",
        "colab_type": "code",
        "colab": {}
      },
      "source": [
        "minimum=dataset.Age.min()\n",
        "maxi=dataset.Age.max()\n",
        "dataset.Age=dataset.Age.apply(lambda x:(x-minimum)/(maxi-minimum))"
      ],
      "execution_count": 0,
      "outputs": []
    },
    {
      "cell_type": "code",
      "metadata": {
        "id": "UyJ4-LseDkzM",
        "colab_type": "code",
        "colab": {
          "base_uri": "https://localhost:8080/",
          "height": 269
        },
        "outputId": "8445f3c9-1fa7-49ac-993e-3ef9c3640e96"
      },
      "source": [
        "dataset"
      ],
      "execution_count": 292,
      "outputs": [
        {
          "output_type": "execute_result",
          "data": {
            "text/html": [
              "<div>\n",
              "<style scoped>\n",
              "    .dataframe tbody tr th:only-of-type {\n",
              "        vertical-align: middle;\n",
              "    }\n",
              "\n",
              "    .dataframe tbody tr th {\n",
              "        vertical-align: top;\n",
              "    }\n",
              "\n",
              "    .dataframe thead th {\n",
              "        text-align: right;\n",
              "    }\n",
              "</style>\n",
              "<table border=\"1\" class=\"dataframe\">\n",
              "  <thead>\n",
              "    <tr style=\"text-align: right;\">\n",
              "      <th></th>\n",
              "      <th>Id</th>\n",
              "      <th>Age</th>\n",
              "      <th>Siblings</th>\n",
              "      <th>Height</th>\n",
              "      <th>Weight</th>\n",
              "      <th>BMI</th>\n",
              "      <th>Vehicle</th>\n",
              "      <th>Travel Distance</th>\n",
              "      <th>Education</th>\n",
              "      <th>Salary</th>\n",
              "    </tr>\n",
              "  </thead>\n",
              "  <tbody>\n",
              "    <tr>\n",
              "      <th>0</th>\n",
              "      <td>x1</td>\n",
              "      <td>0.136364</td>\n",
              "      <td>None</td>\n",
              "      <td>5’5</td>\n",
              "      <td>140lbs</td>\n",
              "      <td>23.3</td>\n",
              "      <td>Car</td>\n",
              "      <td>60km</td>\n",
              "      <td>Bachelor’s</td>\n",
              "      <td>$60,000</td>\n",
              "    </tr>\n",
              "    <tr>\n",
              "      <th>1</th>\n",
              "      <td>x2</td>\n",
              "      <td>0.000000</td>\n",
              "      <td>2</td>\n",
              "      <td>6’0</td>\n",
              "      <td>175lbs</td>\n",
              "      <td>23.7</td>\n",
              "      <td>Bicycle</td>\n",
              "      <td>20km</td>\n",
              "      <td>High-School</td>\n",
              "      <td>$20,000</td>\n",
              "    </tr>\n",
              "    <tr>\n",
              "      <th>2</th>\n",
              "      <td>x3</td>\n",
              "      <td>0.909091</td>\n",
              "      <td>1</td>\n",
              "      <td>4’10</td>\n",
              "      <td>100lbs</td>\n",
              "      <td>999.0</td>\n",
              "      <td>Bus</td>\n",
              "      <td>40km</td>\n",
              "      <td>Master’s</td>\n",
              "      <td>$75,000</td>\n",
              "    </tr>\n",
              "    <tr>\n",
              "      <th>3</th>\n",
              "      <td>x4</td>\n",
              "      <td>0.045455</td>\n",
              "      <td>6</td>\n",
              "      <td>0</td>\n",
              "      <td>130lbs</td>\n",
              "      <td>23.8</td>\n",
              "      <td>Taxi</td>\n",
              "      <td>50km</td>\n",
              "      <td>High-School</td>\n",
              "      <td>$2,000,000</td>\n",
              "    </tr>\n",
              "    <tr>\n",
              "      <th>4</th>\n",
              "      <td>x5</td>\n",
              "      <td>1.000000</td>\n",
              "      <td>0</td>\n",
              "      <td>5’8</td>\n",
              "      <td>180</td>\n",
              "      <td>27.4</td>\n",
              "      <td>Bus</td>\n",
              "      <td>35km</td>\n",
              "      <td>Ph.D.</td>\n",
              "      <td>$80,000</td>\n",
              "    </tr>\n",
              "    <tr>\n",
              "      <th>7</th>\n",
              "      <td>x7</td>\n",
              "      <td>0.181818</td>\n",
              "      <td>1</td>\n",
              "      <td>5’8</td>\n",
              "      <td>155lbs</td>\n",
              "      <td>23.6</td>\n",
              "      <td>Foot</td>\n",
              "      <td>3km</td>\n",
              "      <td>Bachelor’s</td>\n",
              "      <td>$100,000</td>\n",
              "    </tr>\n",
              "    <tr>\n",
              "      <th>8</th>\n",
              "      <td>x8</td>\n",
              "      <td>0.681818</td>\n",
              "      <td>4</td>\n",
              "      <td>5’3</td>\n",
              "      <td>100lbs</td>\n",
              "      <td>17.7</td>\n",
              "      <td>Bus</td>\n",
              "      <td>15km</td>\n",
              "      <td>Master’s</td>\n",
              "      <td>$50,000</td>\n",
              "    </tr>\n",
              "  </tbody>\n",
              "</table>\n",
              "</div>"
            ],
            "text/plain": [
              "   Id       Age Siblings  ... Travel Distance    Education      Salary\n",
              "0  x1  0.136364     None  ...            60km   Bachelor’s     $60,000\n",
              "1  x2  0.000000        2  ...            20km  High-School     $20,000\n",
              "2  x3  0.909091        1  ...            40km     Master’s     $75,000\n",
              "3  x4  0.045455        6  ...            50km  High-School  $2,000,000\n",
              "4  x5  1.000000        0  ...            35km        Ph.D.     $80,000\n",
              "7  x7  0.181818        1  ...             3km   Bachelor’s    $100,000\n",
              "8  x8  0.681818        4  ...            15km     Master’s     $50,000\n",
              "\n",
              "[7 rows x 10 columns]"
            ]
          },
          "metadata": {
            "tags": []
          },
          "execution_count": 292
        }
      ]
    },
    {
      "cell_type": "markdown",
      "metadata": {
        "id": "mLKy9pnQLWCx",
        "colab_type": "text"
      },
      "source": [
        "### Siblings\n",
        "\n",
        "Under Siblings we notice that we have a Value of \"None\". This could be due to an error or it could mean that they have no siblings. Either way we need to convert this to a number.\n",
        "\n",
        "**Todo**\n",
        "\n",
        "1.) Replace any None values in Siblings with 0\n",
        "\n",
        "2.) Find the minimum value\n",
        "\n",
        "3.) Find the maximum value\n",
        "\n",
        "4.) Normalize the siblings values\n",
        "\n",
        "**Note**\n",
        "\n",
        "Only numerical data types(ints, floats) can be normalized."
      ]
    },
    {
      "cell_type": "code",
      "metadata": {
        "id": "NAwloTu7j4eZ",
        "colab_type": "code",
        "colab": {}
      },
      "source": [
        "dataset['Siblings']=dataset['Siblings'].astype(str)\n",
        "dataset.loc[dataset['Siblings'] == 'None', 'Siblings'] = '0'"
      ],
      "execution_count": 0,
      "outputs": []
    },
    {
      "cell_type": "code",
      "metadata": {
        "id": "T2UURQyxHCHx",
        "colab_type": "code",
        "colab": {}
      },
      "source": [
        "dataset['Siblings']=dataset['Siblings'].astype(int)\n",
        "dataset.Siblings=dataset.Siblings.apply(lambda x:(x-dataset.Siblings.min())/(dataset.Siblings.max()-dataset.Siblings.min()))"
      ],
      "execution_count": 0,
      "outputs": []
    },
    {
      "cell_type": "code",
      "metadata": {
        "id": "71XfXTAnHgqd",
        "colab_type": "code",
        "colab": {
          "base_uri": "https://localhost:8080/",
          "height": 269
        },
        "outputId": "5188b36c-f99f-49b0-b08a-86fc5749cbd7"
      },
      "source": [
        "dataset"
      ],
      "execution_count": 295,
      "outputs": [
        {
          "output_type": "execute_result",
          "data": {
            "text/html": [
              "<div>\n",
              "<style scoped>\n",
              "    .dataframe tbody tr th:only-of-type {\n",
              "        vertical-align: middle;\n",
              "    }\n",
              "\n",
              "    .dataframe tbody tr th {\n",
              "        vertical-align: top;\n",
              "    }\n",
              "\n",
              "    .dataframe thead th {\n",
              "        text-align: right;\n",
              "    }\n",
              "</style>\n",
              "<table border=\"1\" class=\"dataframe\">\n",
              "  <thead>\n",
              "    <tr style=\"text-align: right;\">\n",
              "      <th></th>\n",
              "      <th>Id</th>\n",
              "      <th>Age</th>\n",
              "      <th>Siblings</th>\n",
              "      <th>Height</th>\n",
              "      <th>Weight</th>\n",
              "      <th>BMI</th>\n",
              "      <th>Vehicle</th>\n",
              "      <th>Travel Distance</th>\n",
              "      <th>Education</th>\n",
              "      <th>Salary</th>\n",
              "    </tr>\n",
              "  </thead>\n",
              "  <tbody>\n",
              "    <tr>\n",
              "      <th>0</th>\n",
              "      <td>x1</td>\n",
              "      <td>0.136364</td>\n",
              "      <td>0.000000</td>\n",
              "      <td>5’5</td>\n",
              "      <td>140lbs</td>\n",
              "      <td>23.3</td>\n",
              "      <td>Car</td>\n",
              "      <td>60km</td>\n",
              "      <td>Bachelor’s</td>\n",
              "      <td>$60,000</td>\n",
              "    </tr>\n",
              "    <tr>\n",
              "      <th>1</th>\n",
              "      <td>x2</td>\n",
              "      <td>0.000000</td>\n",
              "      <td>0.333333</td>\n",
              "      <td>6’0</td>\n",
              "      <td>175lbs</td>\n",
              "      <td>23.7</td>\n",
              "      <td>Bicycle</td>\n",
              "      <td>20km</td>\n",
              "      <td>High-School</td>\n",
              "      <td>$20,000</td>\n",
              "    </tr>\n",
              "    <tr>\n",
              "      <th>2</th>\n",
              "      <td>x3</td>\n",
              "      <td>0.909091</td>\n",
              "      <td>0.166667</td>\n",
              "      <td>4’10</td>\n",
              "      <td>100lbs</td>\n",
              "      <td>999.0</td>\n",
              "      <td>Bus</td>\n",
              "      <td>40km</td>\n",
              "      <td>Master’s</td>\n",
              "      <td>$75,000</td>\n",
              "    </tr>\n",
              "    <tr>\n",
              "      <th>3</th>\n",
              "      <td>x4</td>\n",
              "      <td>0.045455</td>\n",
              "      <td>1.000000</td>\n",
              "      <td>0</td>\n",
              "      <td>130lbs</td>\n",
              "      <td>23.8</td>\n",
              "      <td>Taxi</td>\n",
              "      <td>50km</td>\n",
              "      <td>High-School</td>\n",
              "      <td>$2,000,000</td>\n",
              "    </tr>\n",
              "    <tr>\n",
              "      <th>4</th>\n",
              "      <td>x5</td>\n",
              "      <td>1.000000</td>\n",
              "      <td>0.000000</td>\n",
              "      <td>5’8</td>\n",
              "      <td>180</td>\n",
              "      <td>27.4</td>\n",
              "      <td>Bus</td>\n",
              "      <td>35km</td>\n",
              "      <td>Ph.D.</td>\n",
              "      <td>$80,000</td>\n",
              "    </tr>\n",
              "    <tr>\n",
              "      <th>7</th>\n",
              "      <td>x7</td>\n",
              "      <td>0.181818</td>\n",
              "      <td>0.166667</td>\n",
              "      <td>5’8</td>\n",
              "      <td>155lbs</td>\n",
              "      <td>23.6</td>\n",
              "      <td>Foot</td>\n",
              "      <td>3km</td>\n",
              "      <td>Bachelor’s</td>\n",
              "      <td>$100,000</td>\n",
              "    </tr>\n",
              "    <tr>\n",
              "      <th>8</th>\n",
              "      <td>x8</td>\n",
              "      <td>0.681818</td>\n",
              "      <td>0.666667</td>\n",
              "      <td>5’3</td>\n",
              "      <td>100lbs</td>\n",
              "      <td>17.7</td>\n",
              "      <td>Bus</td>\n",
              "      <td>15km</td>\n",
              "      <td>Master’s</td>\n",
              "      <td>$50,000</td>\n",
              "    </tr>\n",
              "  </tbody>\n",
              "</table>\n",
              "</div>"
            ],
            "text/plain": [
              "   Id       Age  Siblings  ... Travel Distance    Education      Salary\n",
              "0  x1  0.136364  0.000000  ...            60km   Bachelor’s     $60,000\n",
              "1  x2  0.000000  0.333333  ...            20km  High-School     $20,000\n",
              "2  x3  0.909091  0.166667  ...            40km     Master’s     $75,000\n",
              "3  x4  0.045455  1.000000  ...            50km  High-School  $2,000,000\n",
              "4  x5  1.000000  0.000000  ...            35km        Ph.D.     $80,000\n",
              "7  x7  0.181818  0.166667  ...             3km   Bachelor’s    $100,000\n",
              "8  x8  0.681818  0.666667  ...            15km     Master’s     $50,000\n",
              "\n",
              "[7 rows x 10 columns]"
            ]
          },
          "metadata": {
            "tags": []
          },
          "execution_count": 295
        }
      ]
    },
    {
      "cell_type": "markdown",
      "metadata": {
        "id": "ZmnyHTVeLc3s",
        "colab_type": "text"
      },
      "source": [
        "### Height, Weight and BMI\n",
        "The BMI column allows us to deal with these three columns at the same time. We can use the following formula to fix any missing values as well:\n",
        "\n",
        "$$BMI = \\frac{703 * Weight_{pounds}}  {Height_{inches}^2} $$\n",
        "\n",
        "**TODO**\n",
        "\n",
        "1.) Convert the Height values to inches\n",
        "\n",
        "2.) Remove 'lbs' from the Weight values\n",
        "\n",
        "3.) Find and fix the outlier in the BMI column\n",
        "\n",
        "4.) Find and fix the 0 value in Height\n",
        "\n",
        "5.) Normalize all three columns"
      ]
    },
    {
      "cell_type": "code",
      "metadata": {
        "id": "947e4M4EQJou",
        "colab_type": "code",
        "colab": {}
      },
      "source": [
        "dataset.Height=dataset.Height.astype(str)\n",
        "def split(ht):\n",
        "  if len(ht)>1:\n",
        "    hei = ht.split(\"’\")\n",
        "    feet= float(hei[0])\n",
        "    inch = float(hei[1])\n",
        "    return (12*feet) + inch\n",
        "\n",
        "dataset.Height=dataset[\"Height\"].apply(lambda x:split(x))"
      ],
      "execution_count": 0,
      "outputs": []
    },
    {
      "cell_type": "code",
      "metadata": {
        "id": "wV9CAwmFN76d",
        "colab_type": "code",
        "colab": {}
      },
      "source": [
        "dataset.Weight=dataset.Weight.astype(str)\n",
        "dataset.Weight=dataset[\"Weight\"].apply(lambda x:x.rstrip('lbs'))\n",
        "dataset.Weight=dataset.Weight.astype(int)"
      ],
      "execution_count": 0,
      "outputs": []
    },
    {
      "cell_type": "code",
      "metadata": {
        "id": "N3BkFj7bRyv5",
        "colab_type": "code",
        "colab": {
          "base_uri": "https://localhost:8080/",
          "height": 127
        },
        "outputId": "7d2be1d4-5abd-4a5b-bc41-3c6741de8e0e"
      },
      "source": [
        "def BMI(hei,wei):\n",
        "  return (703*wei/hei**2)\n",
        "dataset.BMI.loc[2]=BMI(dataset.Height.loc[2],dataset.Weight.loc[2])"
      ],
      "execution_count": 298,
      "outputs": [
        {
          "output_type": "stream",
          "text": [
            "/usr/local/lib/python3.6/dist-packages/pandas/core/indexing.py:205: SettingWithCopyWarning: \n",
            "A value is trying to be set on a copy of a slice from a DataFrame\n",
            "\n",
            "See the caveats in the documentation: http://pandas.pydata.org/pandas-docs/stable/user_guide/indexing.html#returning-a-view-versus-a-copy\n",
            "  self._setitem_with_indexer(indexer, value)\n"
          ],
          "name": "stderr"
        }
      ]
    },
    {
      "cell_type": "code",
      "metadata": {
        "id": "9shZgb7BSiLy",
        "colab_type": "code",
        "outputId": "c454e8ff-0907-4da5-e9c0-0df08696ad03",
        "colab": {
          "base_uri": "https://localhost:8080/",
          "height": 127
        }
      },
      "source": [
        "def height(bmi,wei):\n",
        "  return ((703*wei/bmi)**0.5)\n",
        "dataset.Height.loc[3]=height(dataset.BMI.loc[3],dataset.Weight.loc[3])"
      ],
      "execution_count": 299,
      "outputs": [
        {
          "output_type": "stream",
          "text": [
            "/usr/local/lib/python3.6/dist-packages/pandas/core/indexing.py:205: SettingWithCopyWarning: \n",
            "A value is trying to be set on a copy of a slice from a DataFrame\n",
            "\n",
            "See the caveats in the documentation: http://pandas.pydata.org/pandas-docs/stable/user_guide/indexing.html#returning-a-view-versus-a-copy\n",
            "  self._setitem_with_indexer(indexer, value)\n"
          ],
          "name": "stderr"
        }
      ]
    },
    {
      "cell_type": "code",
      "metadata": {
        "id": "hzRsnIclWnas",
        "colab_type": "code",
        "colab": {}
      },
      "source": [
        "def normalize(x,col):\n",
        "  return (x-dataset[col].min())/(dataset[col].max()-dataset[col].min())\n",
        "dataset.Height=dataset.Height.apply(lambda x: normalize(x,'Height'))\n",
        "dataset.Weight=dataset.Weight.apply(lambda x: normalize(x,'Weight'))\n",
        "dataset.BMI=dataset.BMI.apply(lambda x: normalize(x,'BMI'))"
      ],
      "execution_count": 0,
      "outputs": []
    },
    {
      "cell_type": "code",
      "metadata": {
        "id": "BN38569TYxim",
        "colab_type": "code",
        "colab": {
          "base_uri": "https://localhost:8080/",
          "height": 269
        },
        "outputId": "67099813-28f5-4c4b-8c90-f55b53dffb89"
      },
      "source": [
        "dataset"
      ],
      "execution_count": 301,
      "outputs": [
        {
          "output_type": "execute_result",
          "data": {
            "text/html": [
              "<div>\n",
              "<style scoped>\n",
              "    .dataframe tbody tr th:only-of-type {\n",
              "        vertical-align: middle;\n",
              "    }\n",
              "\n",
              "    .dataframe tbody tr th {\n",
              "        vertical-align: top;\n",
              "    }\n",
              "\n",
              "    .dataframe thead th {\n",
              "        text-align: right;\n",
              "    }\n",
              "</style>\n",
              "<table border=\"1\" class=\"dataframe\">\n",
              "  <thead>\n",
              "    <tr style=\"text-align: right;\">\n",
              "      <th></th>\n",
              "      <th>Id</th>\n",
              "      <th>Age</th>\n",
              "      <th>Siblings</th>\n",
              "      <th>Height</th>\n",
              "      <th>Weight</th>\n",
              "      <th>BMI</th>\n",
              "      <th>Vehicle</th>\n",
              "      <th>Travel Distance</th>\n",
              "      <th>Education</th>\n",
              "      <th>Salary</th>\n",
              "    </tr>\n",
              "  </thead>\n",
              "  <tbody>\n",
              "    <tr>\n",
              "      <th>0</th>\n",
              "      <td>x1</td>\n",
              "      <td>0.136364</td>\n",
              "      <td>0.000000</td>\n",
              "      <td>0.500000</td>\n",
              "      <td>0.5000</td>\n",
              "      <td>0.577320</td>\n",
              "      <td>Car</td>\n",
              "      <td>60km</td>\n",
              "      <td>Bachelor’s</td>\n",
              "      <td>$60,000</td>\n",
              "    </tr>\n",
              "    <tr>\n",
              "      <th>1</th>\n",
              "      <td>x2</td>\n",
              "      <td>0.000000</td>\n",
              "      <td>0.333333</td>\n",
              "      <td>1.000000</td>\n",
              "      <td>0.9375</td>\n",
              "      <td>0.618557</td>\n",
              "      <td>Bicycle</td>\n",
              "      <td>20km</td>\n",
              "      <td>High-School</td>\n",
              "      <td>$20,000</td>\n",
              "    </tr>\n",
              "    <tr>\n",
              "      <th>2</th>\n",
              "      <td>x3</td>\n",
              "      <td>0.909091</td>\n",
              "      <td>0.166667</td>\n",
              "      <td>0.000000</td>\n",
              "      <td>0.0000</td>\n",
              "      <td>0.329664</td>\n",
              "      <td>Bus</td>\n",
              "      <td>40km</td>\n",
              "      <td>Master’s</td>\n",
              "      <td>$75,000</td>\n",
              "    </tr>\n",
              "    <tr>\n",
              "      <th>3</th>\n",
              "      <td>x4</td>\n",
              "      <td>0.045455</td>\n",
              "      <td>1.000000</td>\n",
              "      <td>0.283361</td>\n",
              "      <td>0.3750</td>\n",
              "      <td>0.628866</td>\n",
              "      <td>Taxi</td>\n",
              "      <td>50km</td>\n",
              "      <td>High-School</td>\n",
              "      <td>$2,000,000</td>\n",
              "    </tr>\n",
              "    <tr>\n",
              "      <th>4</th>\n",
              "      <td>x5</td>\n",
              "      <td>1.000000</td>\n",
              "      <td>0.000000</td>\n",
              "      <td>0.714286</td>\n",
              "      <td>1.0000</td>\n",
              "      <td>1.000000</td>\n",
              "      <td>Bus</td>\n",
              "      <td>35km</td>\n",
              "      <td>Ph.D.</td>\n",
              "      <td>$80,000</td>\n",
              "    </tr>\n",
              "    <tr>\n",
              "      <th>7</th>\n",
              "      <td>x7</td>\n",
              "      <td>0.181818</td>\n",
              "      <td>0.166667</td>\n",
              "      <td>0.714286</td>\n",
              "      <td>0.6875</td>\n",
              "      <td>0.608247</td>\n",
              "      <td>Foot</td>\n",
              "      <td>3km</td>\n",
              "      <td>Bachelor’s</td>\n",
              "      <td>$100,000</td>\n",
              "    </tr>\n",
              "    <tr>\n",
              "      <th>8</th>\n",
              "      <td>x8</td>\n",
              "      <td>0.681818</td>\n",
              "      <td>0.666667</td>\n",
              "      <td>0.357143</td>\n",
              "      <td>0.0000</td>\n",
              "      <td>0.000000</td>\n",
              "      <td>Bus</td>\n",
              "      <td>15km</td>\n",
              "      <td>Master’s</td>\n",
              "      <td>$50,000</td>\n",
              "    </tr>\n",
              "  </tbody>\n",
              "</table>\n",
              "</div>"
            ],
            "text/plain": [
              "   Id       Age  Siblings  ...  Travel Distance    Education      Salary\n",
              "0  x1  0.136364  0.000000  ...             60km   Bachelor’s     $60,000\n",
              "1  x2  0.000000  0.333333  ...             20km  High-School     $20,000\n",
              "2  x3  0.909091  0.166667  ...             40km     Master’s     $75,000\n",
              "3  x4  0.045455  1.000000  ...             50km  High-School  $2,000,000\n",
              "4  x5  1.000000  0.000000  ...             35km        Ph.D.     $80,000\n",
              "7  x7  0.181818  0.166667  ...              3km   Bachelor’s    $100,000\n",
              "8  x8  0.681818  0.666667  ...             15km     Master’s     $50,000\n",
              "\n",
              "[7 rows x 10 columns]"
            ]
          },
          "metadata": {
            "tags": []
          },
          "execution_count": 301
        }
      ]
    },
    {
      "cell_type": "code",
      "metadata": {
        "id": "nIxwmUzuYXcy",
        "colab_type": "code",
        "colab": {}
      },
      "source": [
        ""
      ],
      "execution_count": 0,
      "outputs": []
    },
    {
      "cell_type": "markdown",
      "metadata": {
        "id": "_buTNCh2Mmrp",
        "colab_type": "text"
      },
      "source": [
        "### Vehicle\n",
        "The entries in the Vehicle column each have text representing that cell's value. Since ML models require numerical data to work, we will need to encode the categorical values into a numerical form. One-Hot encoding is a popular way of dealing with categorical data.\n",
        "\n",
        "One-Hot encoding works by creating multiple boolean variables and assigning each variable to one category.\n",
        "\n",
        "**ex.** If our categories were Cat, Dog, Bird. We can encode them as followed: Cat = 1 0 0,  Dog = 0 1 0, Bird = 0 0 1\n",
        "<br>\n",
        "\n",
        "**TODO**\n",
        "\n",
        "1.) Create a copy of the Vehicle column\n",
        "\n",
        "2.) Convert the copy into a One-Hot representation\n",
        "\n",
        "3.) Delete the original Vehicle column\n",
        "\n",
        "4.) Add the One-Hot encoded representation back into the dataset"
      ]
    },
    {
      "cell_type": "code",
      "metadata": {
        "id": "Z2yEf1rmB7uC",
        "colab_type": "code",
        "colab": {}
      },
      "source": [
        "copy=dataset.Vehicle\n",
        "OneHot={\n",
        "    'Car':[0,0,0],\n",
        "    'Bicycle':[0,0,1],\n",
        "    'Bus':[0,1,0],\n",
        "    'Foot':[0,1,1],\n",
        "    'Taxi':[1,0,0]\n",
        "}\n",
        "copy=copy.map(OneHot)\n",
        "del dataset['Vehicle']\n",
        "dataset['Vehicule']=copy.values"
      ],
      "execution_count": 0,
      "outputs": []
    },
    {
      "cell_type": "code",
      "metadata": {
        "id": "6Ogqizvybevz",
        "colab_type": "code",
        "colab": {
          "base_uri": "https://localhost:8080/",
          "height": 269
        },
        "outputId": "4b1ad228-4ad5-4d49-d203-5d91a17b1d98"
      },
      "source": [
        "dataset"
      ],
      "execution_count": 303,
      "outputs": [
        {
          "output_type": "execute_result",
          "data": {
            "text/html": [
              "<div>\n",
              "<style scoped>\n",
              "    .dataframe tbody tr th:only-of-type {\n",
              "        vertical-align: middle;\n",
              "    }\n",
              "\n",
              "    .dataframe tbody tr th {\n",
              "        vertical-align: top;\n",
              "    }\n",
              "\n",
              "    .dataframe thead th {\n",
              "        text-align: right;\n",
              "    }\n",
              "</style>\n",
              "<table border=\"1\" class=\"dataframe\">\n",
              "  <thead>\n",
              "    <tr style=\"text-align: right;\">\n",
              "      <th></th>\n",
              "      <th>Id</th>\n",
              "      <th>Age</th>\n",
              "      <th>Siblings</th>\n",
              "      <th>Height</th>\n",
              "      <th>Weight</th>\n",
              "      <th>BMI</th>\n",
              "      <th>Travel Distance</th>\n",
              "      <th>Education</th>\n",
              "      <th>Salary</th>\n",
              "      <th>Vehicule</th>\n",
              "    </tr>\n",
              "  </thead>\n",
              "  <tbody>\n",
              "    <tr>\n",
              "      <th>0</th>\n",
              "      <td>x1</td>\n",
              "      <td>0.136364</td>\n",
              "      <td>0.000000</td>\n",
              "      <td>0.500000</td>\n",
              "      <td>0.5000</td>\n",
              "      <td>0.577320</td>\n",
              "      <td>60km</td>\n",
              "      <td>Bachelor’s</td>\n",
              "      <td>$60,000</td>\n",
              "      <td>[0, 0, 0]</td>\n",
              "    </tr>\n",
              "    <tr>\n",
              "      <th>1</th>\n",
              "      <td>x2</td>\n",
              "      <td>0.000000</td>\n",
              "      <td>0.333333</td>\n",
              "      <td>1.000000</td>\n",
              "      <td>0.9375</td>\n",
              "      <td>0.618557</td>\n",
              "      <td>20km</td>\n",
              "      <td>High-School</td>\n",
              "      <td>$20,000</td>\n",
              "      <td>[0, 0, 1]</td>\n",
              "    </tr>\n",
              "    <tr>\n",
              "      <th>2</th>\n",
              "      <td>x3</td>\n",
              "      <td>0.909091</td>\n",
              "      <td>0.166667</td>\n",
              "      <td>0.000000</td>\n",
              "      <td>0.0000</td>\n",
              "      <td>0.329664</td>\n",
              "      <td>40km</td>\n",
              "      <td>Master’s</td>\n",
              "      <td>$75,000</td>\n",
              "      <td>[0, 1, 0]</td>\n",
              "    </tr>\n",
              "    <tr>\n",
              "      <th>3</th>\n",
              "      <td>x4</td>\n",
              "      <td>0.045455</td>\n",
              "      <td>1.000000</td>\n",
              "      <td>0.283361</td>\n",
              "      <td>0.3750</td>\n",
              "      <td>0.628866</td>\n",
              "      <td>50km</td>\n",
              "      <td>High-School</td>\n",
              "      <td>$2,000,000</td>\n",
              "      <td>[1, 0, 0]</td>\n",
              "    </tr>\n",
              "    <tr>\n",
              "      <th>4</th>\n",
              "      <td>x5</td>\n",
              "      <td>1.000000</td>\n",
              "      <td>0.000000</td>\n",
              "      <td>0.714286</td>\n",
              "      <td>1.0000</td>\n",
              "      <td>1.000000</td>\n",
              "      <td>35km</td>\n",
              "      <td>Ph.D.</td>\n",
              "      <td>$80,000</td>\n",
              "      <td>[0, 1, 0]</td>\n",
              "    </tr>\n",
              "    <tr>\n",
              "      <th>7</th>\n",
              "      <td>x7</td>\n",
              "      <td>0.181818</td>\n",
              "      <td>0.166667</td>\n",
              "      <td>0.714286</td>\n",
              "      <td>0.6875</td>\n",
              "      <td>0.608247</td>\n",
              "      <td>3km</td>\n",
              "      <td>Bachelor’s</td>\n",
              "      <td>$100,000</td>\n",
              "      <td>[0, 1, 1]</td>\n",
              "    </tr>\n",
              "    <tr>\n",
              "      <th>8</th>\n",
              "      <td>x8</td>\n",
              "      <td>0.681818</td>\n",
              "      <td>0.666667</td>\n",
              "      <td>0.357143</td>\n",
              "      <td>0.0000</td>\n",
              "      <td>0.000000</td>\n",
              "      <td>15km</td>\n",
              "      <td>Master’s</td>\n",
              "      <td>$50,000</td>\n",
              "      <td>[0, 1, 0]</td>\n",
              "    </tr>\n",
              "  </tbody>\n",
              "</table>\n",
              "</div>"
            ],
            "text/plain": [
              "   Id       Age  Siblings  ...    Education      Salary   Vehicule\n",
              "0  x1  0.136364  0.000000  ...   Bachelor’s     $60,000  [0, 0, 0]\n",
              "1  x2  0.000000  0.333333  ...  High-School     $20,000  [0, 0, 1]\n",
              "2  x3  0.909091  0.166667  ...     Master’s     $75,000  [0, 1, 0]\n",
              "3  x4  0.045455  1.000000  ...  High-School  $2,000,000  [1, 0, 0]\n",
              "4  x5  1.000000  0.000000  ...        Ph.D.     $80,000  [0, 1, 0]\n",
              "7  x7  0.181818  0.166667  ...   Bachelor’s    $100,000  [0, 1, 1]\n",
              "8  x8  0.681818  0.666667  ...     Master’s     $50,000  [0, 1, 0]\n",
              "\n",
              "[7 rows x 10 columns]"
            ]
          },
          "metadata": {
            "tags": []
          },
          "execution_count": 303
        }
      ]
    },
    {
      "cell_type": "markdown",
      "metadata": {
        "id": "HxhG80plMq8Z",
        "colab_type": "text"
      },
      "source": [
        "### Travel Distance\n",
        "\n",
        "Just as with Weights column, we need to remove the units and normalize the values.\n",
        "\n",
        "**TODO**\n",
        "\n",
        "1.) Remove the km unit from all the values in the Travel Distance column\n",
        "\n",
        "2.) Normalize all the values in the columns"
      ]
    },
    {
      "cell_type": "code",
      "metadata": {
        "id": "OKzpOYCmHkU6",
        "colab_type": "code",
        "colab": {}
      },
      "source": [
        "\n",
        "dataset[\"Travel Distance\"]=dataset[\"Travel Distance\"].apply(lambda x:x.rstrip('km'))\n",
        "dataset[\"Travel Distance\"]=dataset[\"Travel Distance\"].astype(int)\n",
        "dataset[\"Travel Distance\"]=dataset[\"Travel Distance\"].apply(lambda x: normalize(x,\"Travel Distance\"))"
      ],
      "execution_count": 0,
      "outputs": []
    },
    {
      "cell_type": "code",
      "metadata": {
        "id": "UGAuwmGFdG44",
        "colab_type": "code",
        "colab": {
          "base_uri": "https://localhost:8080/",
          "height": 269
        },
        "outputId": "2c38dcac-a14f-48d5-c41e-b70f7b3eef8b"
      },
      "source": [
        "dataset"
      ],
      "execution_count": 305,
      "outputs": [
        {
          "output_type": "execute_result",
          "data": {
            "text/html": [
              "<div>\n",
              "<style scoped>\n",
              "    .dataframe tbody tr th:only-of-type {\n",
              "        vertical-align: middle;\n",
              "    }\n",
              "\n",
              "    .dataframe tbody tr th {\n",
              "        vertical-align: top;\n",
              "    }\n",
              "\n",
              "    .dataframe thead th {\n",
              "        text-align: right;\n",
              "    }\n",
              "</style>\n",
              "<table border=\"1\" class=\"dataframe\">\n",
              "  <thead>\n",
              "    <tr style=\"text-align: right;\">\n",
              "      <th></th>\n",
              "      <th>Id</th>\n",
              "      <th>Age</th>\n",
              "      <th>Siblings</th>\n",
              "      <th>Height</th>\n",
              "      <th>Weight</th>\n",
              "      <th>BMI</th>\n",
              "      <th>Travel Distance</th>\n",
              "      <th>Education</th>\n",
              "      <th>Salary</th>\n",
              "      <th>Vehicule</th>\n",
              "    </tr>\n",
              "  </thead>\n",
              "  <tbody>\n",
              "    <tr>\n",
              "      <th>0</th>\n",
              "      <td>x1</td>\n",
              "      <td>0.136364</td>\n",
              "      <td>0.000000</td>\n",
              "      <td>0.500000</td>\n",
              "      <td>0.5000</td>\n",
              "      <td>0.577320</td>\n",
              "      <td>1.000000</td>\n",
              "      <td>Bachelor’s</td>\n",
              "      <td>$60,000</td>\n",
              "      <td>[0, 0, 0]</td>\n",
              "    </tr>\n",
              "    <tr>\n",
              "      <th>1</th>\n",
              "      <td>x2</td>\n",
              "      <td>0.000000</td>\n",
              "      <td>0.333333</td>\n",
              "      <td>1.000000</td>\n",
              "      <td>0.9375</td>\n",
              "      <td>0.618557</td>\n",
              "      <td>0.298246</td>\n",
              "      <td>High-School</td>\n",
              "      <td>$20,000</td>\n",
              "      <td>[0, 0, 1]</td>\n",
              "    </tr>\n",
              "    <tr>\n",
              "      <th>2</th>\n",
              "      <td>x3</td>\n",
              "      <td>0.909091</td>\n",
              "      <td>0.166667</td>\n",
              "      <td>0.000000</td>\n",
              "      <td>0.0000</td>\n",
              "      <td>0.329664</td>\n",
              "      <td>0.649123</td>\n",
              "      <td>Master’s</td>\n",
              "      <td>$75,000</td>\n",
              "      <td>[0, 1, 0]</td>\n",
              "    </tr>\n",
              "    <tr>\n",
              "      <th>3</th>\n",
              "      <td>x4</td>\n",
              "      <td>0.045455</td>\n",
              "      <td>1.000000</td>\n",
              "      <td>0.283361</td>\n",
              "      <td>0.3750</td>\n",
              "      <td>0.628866</td>\n",
              "      <td>0.824561</td>\n",
              "      <td>High-School</td>\n",
              "      <td>$2,000,000</td>\n",
              "      <td>[1, 0, 0]</td>\n",
              "    </tr>\n",
              "    <tr>\n",
              "      <th>4</th>\n",
              "      <td>x5</td>\n",
              "      <td>1.000000</td>\n",
              "      <td>0.000000</td>\n",
              "      <td>0.714286</td>\n",
              "      <td>1.0000</td>\n",
              "      <td>1.000000</td>\n",
              "      <td>0.561404</td>\n",
              "      <td>Ph.D.</td>\n",
              "      <td>$80,000</td>\n",
              "      <td>[0, 1, 0]</td>\n",
              "    </tr>\n",
              "    <tr>\n",
              "      <th>7</th>\n",
              "      <td>x7</td>\n",
              "      <td>0.181818</td>\n",
              "      <td>0.166667</td>\n",
              "      <td>0.714286</td>\n",
              "      <td>0.6875</td>\n",
              "      <td>0.608247</td>\n",
              "      <td>0.000000</td>\n",
              "      <td>Bachelor’s</td>\n",
              "      <td>$100,000</td>\n",
              "      <td>[0, 1, 1]</td>\n",
              "    </tr>\n",
              "    <tr>\n",
              "      <th>8</th>\n",
              "      <td>x8</td>\n",
              "      <td>0.681818</td>\n",
              "      <td>0.666667</td>\n",
              "      <td>0.357143</td>\n",
              "      <td>0.0000</td>\n",
              "      <td>0.000000</td>\n",
              "      <td>0.210526</td>\n",
              "      <td>Master’s</td>\n",
              "      <td>$50,000</td>\n",
              "      <td>[0, 1, 0]</td>\n",
              "    </tr>\n",
              "  </tbody>\n",
              "</table>\n",
              "</div>"
            ],
            "text/plain": [
              "   Id       Age  Siblings  ...    Education      Salary   Vehicule\n",
              "0  x1  0.136364  0.000000  ...   Bachelor’s     $60,000  [0, 0, 0]\n",
              "1  x2  0.000000  0.333333  ...  High-School     $20,000  [0, 0, 1]\n",
              "2  x3  0.909091  0.166667  ...     Master’s     $75,000  [0, 1, 0]\n",
              "3  x4  0.045455  1.000000  ...  High-School  $2,000,000  [1, 0, 0]\n",
              "4  x5  1.000000  0.000000  ...        Ph.D.     $80,000  [0, 1, 0]\n",
              "7  x7  0.181818  0.166667  ...   Bachelor’s    $100,000  [0, 1, 1]\n",
              "8  x8  0.681818  0.666667  ...     Master’s     $50,000  [0, 1, 0]\n",
              "\n",
              "[7 rows x 10 columns]"
            ]
          },
          "metadata": {
            "tags": []
          },
          "execution_count": 305
        }
      ]
    },
    {
      "cell_type": "markdown",
      "metadata": {
        "id": "V2MJorQoMuTs",
        "colab_type": "text"
      },
      "source": [
        "### Education\n",
        "\n",
        "Once again we are dealing with text values in the Education column. This time though since the categories can be ordered,  we are dealing with ordinal data instead. This allows us to encode the data differently in order to limit the number of columns in our dataset.\n",
        "\n",
        "Instead of using One-Hot encoding which will have us add k-1 columns to our dataset, we will encode all the categories in one column.\n",
        "\n",
        "**Ex.:** If our data was: Beginner, Intermediate, Advance. Instead of encoding as One-Hot, we can encode it as followed: Beginner = 0, Intermediate = 1, Advance = 2.\n",
        "\n",
        "**Note:** There are still issues with encoding data like this as we are saying that the distance between each category is the same. Depending on the data this may not be true.\n",
        "\n",
        " **TODO**\n",
        " \n",
        " 1.) Create a mapping from category to number. Keep in mind that since we are dealing with ordinal data we want to preserve the order of the values after the encoding\n",
        " \n",
        " 2.) Use the mapping to convert the values in the Education column into numbers\n",
        " \n",
        " 3.) Normalize the values"
      ]
    },
    {
      "cell_type": "code",
      "metadata": {
        "id": "X5en3tqcJaqv",
        "colab_type": "code",
        "colab": {}
      },
      "source": [
        "OneHot={\n",
        "    'High-School':0,\n",
        "    'Bachelor’s':1,\n",
        "    'Master’s':2,\n",
        "    'Ph.D.':3,\n",
        "}\n",
        "dataset.Education=dataset.Education.map(OneHot)\n",
        "\n",
        "dataset[\"Education\"]=dataset[\"Education\"].apply(lambda x: normalize(x,\"Education\"))"
      ],
      "execution_count": 0,
      "outputs": []
    },
    {
      "cell_type": "code",
      "metadata": {
        "id": "EGqICGbwfGoO",
        "colab_type": "code",
        "colab": {
          "base_uri": "https://localhost:8080/",
          "height": 269
        },
        "outputId": "97de3976-b248-4425-c55d-f2909d0254a4"
      },
      "source": [
        "dataset"
      ],
      "execution_count": 307,
      "outputs": [
        {
          "output_type": "execute_result",
          "data": {
            "text/html": [
              "<div>\n",
              "<style scoped>\n",
              "    .dataframe tbody tr th:only-of-type {\n",
              "        vertical-align: middle;\n",
              "    }\n",
              "\n",
              "    .dataframe tbody tr th {\n",
              "        vertical-align: top;\n",
              "    }\n",
              "\n",
              "    .dataframe thead th {\n",
              "        text-align: right;\n",
              "    }\n",
              "</style>\n",
              "<table border=\"1\" class=\"dataframe\">\n",
              "  <thead>\n",
              "    <tr style=\"text-align: right;\">\n",
              "      <th></th>\n",
              "      <th>Id</th>\n",
              "      <th>Age</th>\n",
              "      <th>Siblings</th>\n",
              "      <th>Height</th>\n",
              "      <th>Weight</th>\n",
              "      <th>BMI</th>\n",
              "      <th>Travel Distance</th>\n",
              "      <th>Education</th>\n",
              "      <th>Salary</th>\n",
              "      <th>Vehicule</th>\n",
              "    </tr>\n",
              "  </thead>\n",
              "  <tbody>\n",
              "    <tr>\n",
              "      <th>0</th>\n",
              "      <td>x1</td>\n",
              "      <td>0.136364</td>\n",
              "      <td>0.000000</td>\n",
              "      <td>0.500000</td>\n",
              "      <td>0.5000</td>\n",
              "      <td>0.577320</td>\n",
              "      <td>1.000000</td>\n",
              "      <td>0.333333</td>\n",
              "      <td>$60,000</td>\n",
              "      <td>[0, 0, 0]</td>\n",
              "    </tr>\n",
              "    <tr>\n",
              "      <th>1</th>\n",
              "      <td>x2</td>\n",
              "      <td>0.000000</td>\n",
              "      <td>0.333333</td>\n",
              "      <td>1.000000</td>\n",
              "      <td>0.9375</td>\n",
              "      <td>0.618557</td>\n",
              "      <td>0.298246</td>\n",
              "      <td>0.000000</td>\n",
              "      <td>$20,000</td>\n",
              "      <td>[0, 0, 1]</td>\n",
              "    </tr>\n",
              "    <tr>\n",
              "      <th>2</th>\n",
              "      <td>x3</td>\n",
              "      <td>0.909091</td>\n",
              "      <td>0.166667</td>\n",
              "      <td>0.000000</td>\n",
              "      <td>0.0000</td>\n",
              "      <td>0.329664</td>\n",
              "      <td>0.649123</td>\n",
              "      <td>0.666667</td>\n",
              "      <td>$75,000</td>\n",
              "      <td>[0, 1, 0]</td>\n",
              "    </tr>\n",
              "    <tr>\n",
              "      <th>3</th>\n",
              "      <td>x4</td>\n",
              "      <td>0.045455</td>\n",
              "      <td>1.000000</td>\n",
              "      <td>0.283361</td>\n",
              "      <td>0.3750</td>\n",
              "      <td>0.628866</td>\n",
              "      <td>0.824561</td>\n",
              "      <td>0.000000</td>\n",
              "      <td>$2,000,000</td>\n",
              "      <td>[1, 0, 0]</td>\n",
              "    </tr>\n",
              "    <tr>\n",
              "      <th>4</th>\n",
              "      <td>x5</td>\n",
              "      <td>1.000000</td>\n",
              "      <td>0.000000</td>\n",
              "      <td>0.714286</td>\n",
              "      <td>1.0000</td>\n",
              "      <td>1.000000</td>\n",
              "      <td>0.561404</td>\n",
              "      <td>1.000000</td>\n",
              "      <td>$80,000</td>\n",
              "      <td>[0, 1, 0]</td>\n",
              "    </tr>\n",
              "    <tr>\n",
              "      <th>7</th>\n",
              "      <td>x7</td>\n",
              "      <td>0.181818</td>\n",
              "      <td>0.166667</td>\n",
              "      <td>0.714286</td>\n",
              "      <td>0.6875</td>\n",
              "      <td>0.608247</td>\n",
              "      <td>0.000000</td>\n",
              "      <td>0.333333</td>\n",
              "      <td>$100,000</td>\n",
              "      <td>[0, 1, 1]</td>\n",
              "    </tr>\n",
              "    <tr>\n",
              "      <th>8</th>\n",
              "      <td>x8</td>\n",
              "      <td>0.681818</td>\n",
              "      <td>0.666667</td>\n",
              "      <td>0.357143</td>\n",
              "      <td>0.0000</td>\n",
              "      <td>0.000000</td>\n",
              "      <td>0.210526</td>\n",
              "      <td>0.666667</td>\n",
              "      <td>$50,000</td>\n",
              "      <td>[0, 1, 0]</td>\n",
              "    </tr>\n",
              "  </tbody>\n",
              "</table>\n",
              "</div>"
            ],
            "text/plain": [
              "   Id       Age  Siblings  ...  Education      Salary   Vehicule\n",
              "0  x1  0.136364  0.000000  ...   0.333333     $60,000  [0, 0, 0]\n",
              "1  x2  0.000000  0.333333  ...   0.000000     $20,000  [0, 0, 1]\n",
              "2  x3  0.909091  0.166667  ...   0.666667     $75,000  [0, 1, 0]\n",
              "3  x4  0.045455  1.000000  ...   0.000000  $2,000,000  [1, 0, 0]\n",
              "4  x5  1.000000  0.000000  ...   1.000000     $80,000  [0, 1, 0]\n",
              "7  x7  0.181818  0.166667  ...   0.333333    $100,000  [0, 1, 1]\n",
              "8  x8  0.681818  0.666667  ...   0.666667     $50,000  [0, 1, 0]\n",
              "\n",
              "[7 rows x 10 columns]"
            ]
          },
          "metadata": {
            "tags": []
          },
          "execution_count": 307
        }
      ]
    },
    {
      "cell_type": "markdown",
      "metadata": {
        "id": "ceYIolV6MyKT",
        "colab_type": "text"
      },
      "source": [
        "### Salary\n",
        "The values in the Salary column contain special characters that we need to remove in order for our models to work\n",
        "\n",
        "**TODO**\n",
        "\n",
        "1.) Remove all the special characters\n",
        "\n",
        "2.) Deal with any outliers\n",
        "\n",
        "3.) Normalize the data"
      ]
    },
    {
      "cell_type": "code",
      "metadata": {
        "id": "hTWxPuZcD41c",
        "colab_type": "code",
        "colab": {}
      },
      "source": [
        "dataset.Salary=dataset.Salary.astype(str)\n",
        "dataset.Salary=dataset[\"Salary\"].apply(lambda x: x.lstrip('$,'))\n",
        "dataset.Salary=dataset[\"Salary\"].str.replace(',','')\n",
        "dataset.Salary=dataset.Salary.astype(int)\n",
        "dataset[\"Salary\"]=dataset[\"Salary\"].apply(lambda x: normalize(x,\"Salary\"))\n"
      ],
      "execution_count": 0,
      "outputs": []
    },
    {
      "cell_type": "code",
      "metadata": {
        "id": "wfHNMNDbhPaX",
        "colab_type": "code",
        "colab": {
          "base_uri": "https://localhost:8080/",
          "height": 269
        },
        "outputId": "b2ae4012-e569-4361-f1cb-0223210e38b4"
      },
      "source": [
        "dataset"
      ],
      "execution_count": 309,
      "outputs": [
        {
          "output_type": "execute_result",
          "data": {
            "text/html": [
              "<div>\n",
              "<style scoped>\n",
              "    .dataframe tbody tr th:only-of-type {\n",
              "        vertical-align: middle;\n",
              "    }\n",
              "\n",
              "    .dataframe tbody tr th {\n",
              "        vertical-align: top;\n",
              "    }\n",
              "\n",
              "    .dataframe thead th {\n",
              "        text-align: right;\n",
              "    }\n",
              "</style>\n",
              "<table border=\"1\" class=\"dataframe\">\n",
              "  <thead>\n",
              "    <tr style=\"text-align: right;\">\n",
              "      <th></th>\n",
              "      <th>Id</th>\n",
              "      <th>Age</th>\n",
              "      <th>Siblings</th>\n",
              "      <th>Height</th>\n",
              "      <th>Weight</th>\n",
              "      <th>BMI</th>\n",
              "      <th>Travel Distance</th>\n",
              "      <th>Education</th>\n",
              "      <th>Salary</th>\n",
              "      <th>Vehicule</th>\n",
              "    </tr>\n",
              "  </thead>\n",
              "  <tbody>\n",
              "    <tr>\n",
              "      <th>0</th>\n",
              "      <td>x1</td>\n",
              "      <td>0.136364</td>\n",
              "      <td>0.000000</td>\n",
              "      <td>0.500000</td>\n",
              "      <td>0.5000</td>\n",
              "      <td>0.577320</td>\n",
              "      <td>1.000000</td>\n",
              "      <td>0.333333</td>\n",
              "      <td>0.020202</td>\n",
              "      <td>[0, 0, 0]</td>\n",
              "    </tr>\n",
              "    <tr>\n",
              "      <th>1</th>\n",
              "      <td>x2</td>\n",
              "      <td>0.000000</td>\n",
              "      <td>0.333333</td>\n",
              "      <td>1.000000</td>\n",
              "      <td>0.9375</td>\n",
              "      <td>0.618557</td>\n",
              "      <td>0.298246</td>\n",
              "      <td>0.000000</td>\n",
              "      <td>0.000000</td>\n",
              "      <td>[0, 0, 1]</td>\n",
              "    </tr>\n",
              "    <tr>\n",
              "      <th>2</th>\n",
              "      <td>x3</td>\n",
              "      <td>0.909091</td>\n",
              "      <td>0.166667</td>\n",
              "      <td>0.000000</td>\n",
              "      <td>0.0000</td>\n",
              "      <td>0.329664</td>\n",
              "      <td>0.649123</td>\n",
              "      <td>0.666667</td>\n",
              "      <td>0.027778</td>\n",
              "      <td>[0, 1, 0]</td>\n",
              "    </tr>\n",
              "    <tr>\n",
              "      <th>3</th>\n",
              "      <td>x4</td>\n",
              "      <td>0.045455</td>\n",
              "      <td>1.000000</td>\n",
              "      <td>0.283361</td>\n",
              "      <td>0.3750</td>\n",
              "      <td>0.628866</td>\n",
              "      <td>0.824561</td>\n",
              "      <td>0.000000</td>\n",
              "      <td>1.000000</td>\n",
              "      <td>[1, 0, 0]</td>\n",
              "    </tr>\n",
              "    <tr>\n",
              "      <th>4</th>\n",
              "      <td>x5</td>\n",
              "      <td>1.000000</td>\n",
              "      <td>0.000000</td>\n",
              "      <td>0.714286</td>\n",
              "      <td>1.0000</td>\n",
              "      <td>1.000000</td>\n",
              "      <td>0.561404</td>\n",
              "      <td>1.000000</td>\n",
              "      <td>0.030303</td>\n",
              "      <td>[0, 1, 0]</td>\n",
              "    </tr>\n",
              "    <tr>\n",
              "      <th>7</th>\n",
              "      <td>x7</td>\n",
              "      <td>0.181818</td>\n",
              "      <td>0.166667</td>\n",
              "      <td>0.714286</td>\n",
              "      <td>0.6875</td>\n",
              "      <td>0.608247</td>\n",
              "      <td>0.000000</td>\n",
              "      <td>0.333333</td>\n",
              "      <td>0.040404</td>\n",
              "      <td>[0, 1, 1]</td>\n",
              "    </tr>\n",
              "    <tr>\n",
              "      <th>8</th>\n",
              "      <td>x8</td>\n",
              "      <td>0.681818</td>\n",
              "      <td>0.666667</td>\n",
              "      <td>0.357143</td>\n",
              "      <td>0.0000</td>\n",
              "      <td>0.000000</td>\n",
              "      <td>0.210526</td>\n",
              "      <td>0.666667</td>\n",
              "      <td>0.015152</td>\n",
              "      <td>[0, 1, 0]</td>\n",
              "    </tr>\n",
              "  </tbody>\n",
              "</table>\n",
              "</div>"
            ],
            "text/plain": [
              "   Id       Age  Siblings  ...  Education    Salary   Vehicule\n",
              "0  x1  0.136364  0.000000  ...   0.333333  0.020202  [0, 0, 0]\n",
              "1  x2  0.000000  0.333333  ...   0.000000  0.000000  [0, 0, 1]\n",
              "2  x3  0.909091  0.166667  ...   0.666667  0.027778  [0, 1, 0]\n",
              "3  x4  0.045455  1.000000  ...   0.000000  1.000000  [1, 0, 0]\n",
              "4  x5  1.000000  0.000000  ...   1.000000  0.030303  [0, 1, 0]\n",
              "7  x7  0.181818  0.166667  ...   0.333333  0.040404  [0, 1, 1]\n",
              "8  x8  0.681818  0.666667  ...   0.666667  0.015152  [0, 1, 0]\n",
              "\n",
              "[7 rows x 10 columns]"
            ]
          },
          "metadata": {
            "tags": []
          },
          "execution_count": 309
        }
      ]
    },
    {
      "cell_type": "markdown",
      "metadata": {
        "id": "XV9cttCUPb1X",
        "colab_type": "text"
      },
      "source": [
        "## Our Clean Data"
      ]
    },
    {
      "cell_type": "code",
      "metadata": {
        "id": "vw3kRif_aIrD",
        "colab_type": "code",
        "colab": {
          "base_uri": "https://localhost:8080/",
          "height": 269
        },
        "outputId": "43e1b787-ffa9-448b-dd40-607694d10663"
      },
      "source": [
        "\n",
        "dataset.head(7)"
      ],
      "execution_count": 310,
      "outputs": [
        {
          "output_type": "execute_result",
          "data": {
            "text/html": [
              "<div>\n",
              "<style scoped>\n",
              "    .dataframe tbody tr th:only-of-type {\n",
              "        vertical-align: middle;\n",
              "    }\n",
              "\n",
              "    .dataframe tbody tr th {\n",
              "        vertical-align: top;\n",
              "    }\n",
              "\n",
              "    .dataframe thead th {\n",
              "        text-align: right;\n",
              "    }\n",
              "</style>\n",
              "<table border=\"1\" class=\"dataframe\">\n",
              "  <thead>\n",
              "    <tr style=\"text-align: right;\">\n",
              "      <th></th>\n",
              "      <th>Id</th>\n",
              "      <th>Age</th>\n",
              "      <th>Siblings</th>\n",
              "      <th>Height</th>\n",
              "      <th>Weight</th>\n",
              "      <th>BMI</th>\n",
              "      <th>Travel Distance</th>\n",
              "      <th>Education</th>\n",
              "      <th>Salary</th>\n",
              "      <th>Vehicule</th>\n",
              "    </tr>\n",
              "  </thead>\n",
              "  <tbody>\n",
              "    <tr>\n",
              "      <th>0</th>\n",
              "      <td>x1</td>\n",
              "      <td>0.136364</td>\n",
              "      <td>0.000000</td>\n",
              "      <td>0.500000</td>\n",
              "      <td>0.5000</td>\n",
              "      <td>0.577320</td>\n",
              "      <td>1.000000</td>\n",
              "      <td>0.333333</td>\n",
              "      <td>0.020202</td>\n",
              "      <td>[0, 0, 0]</td>\n",
              "    </tr>\n",
              "    <tr>\n",
              "      <th>1</th>\n",
              "      <td>x2</td>\n",
              "      <td>0.000000</td>\n",
              "      <td>0.333333</td>\n",
              "      <td>1.000000</td>\n",
              "      <td>0.9375</td>\n",
              "      <td>0.618557</td>\n",
              "      <td>0.298246</td>\n",
              "      <td>0.000000</td>\n",
              "      <td>0.000000</td>\n",
              "      <td>[0, 0, 1]</td>\n",
              "    </tr>\n",
              "    <tr>\n",
              "      <th>2</th>\n",
              "      <td>x3</td>\n",
              "      <td>0.909091</td>\n",
              "      <td>0.166667</td>\n",
              "      <td>0.000000</td>\n",
              "      <td>0.0000</td>\n",
              "      <td>0.329664</td>\n",
              "      <td>0.649123</td>\n",
              "      <td>0.666667</td>\n",
              "      <td>0.027778</td>\n",
              "      <td>[0, 1, 0]</td>\n",
              "    </tr>\n",
              "    <tr>\n",
              "      <th>3</th>\n",
              "      <td>x4</td>\n",
              "      <td>0.045455</td>\n",
              "      <td>1.000000</td>\n",
              "      <td>0.283361</td>\n",
              "      <td>0.3750</td>\n",
              "      <td>0.628866</td>\n",
              "      <td>0.824561</td>\n",
              "      <td>0.000000</td>\n",
              "      <td>1.000000</td>\n",
              "      <td>[1, 0, 0]</td>\n",
              "    </tr>\n",
              "    <tr>\n",
              "      <th>4</th>\n",
              "      <td>x5</td>\n",
              "      <td>1.000000</td>\n",
              "      <td>0.000000</td>\n",
              "      <td>0.714286</td>\n",
              "      <td>1.0000</td>\n",
              "      <td>1.000000</td>\n",
              "      <td>0.561404</td>\n",
              "      <td>1.000000</td>\n",
              "      <td>0.030303</td>\n",
              "      <td>[0, 1, 0]</td>\n",
              "    </tr>\n",
              "    <tr>\n",
              "      <th>7</th>\n",
              "      <td>x7</td>\n",
              "      <td>0.181818</td>\n",
              "      <td>0.166667</td>\n",
              "      <td>0.714286</td>\n",
              "      <td>0.6875</td>\n",
              "      <td>0.608247</td>\n",
              "      <td>0.000000</td>\n",
              "      <td>0.333333</td>\n",
              "      <td>0.040404</td>\n",
              "      <td>[0, 1, 1]</td>\n",
              "    </tr>\n",
              "    <tr>\n",
              "      <th>8</th>\n",
              "      <td>x8</td>\n",
              "      <td>0.681818</td>\n",
              "      <td>0.666667</td>\n",
              "      <td>0.357143</td>\n",
              "      <td>0.0000</td>\n",
              "      <td>0.000000</td>\n",
              "      <td>0.210526</td>\n",
              "      <td>0.666667</td>\n",
              "      <td>0.015152</td>\n",
              "      <td>[0, 1, 0]</td>\n",
              "    </tr>\n",
              "  </tbody>\n",
              "</table>\n",
              "</div>"
            ],
            "text/plain": [
              "   Id       Age  Siblings  ...  Education    Salary   Vehicule\n",
              "0  x1  0.136364  0.000000  ...   0.333333  0.020202  [0, 0, 0]\n",
              "1  x2  0.000000  0.333333  ...   0.000000  0.000000  [0, 0, 1]\n",
              "2  x3  0.909091  0.166667  ...   0.666667  0.027778  [0, 1, 0]\n",
              "3  x4  0.045455  1.000000  ...   0.000000  1.000000  [1, 0, 0]\n",
              "4  x5  1.000000  0.000000  ...   1.000000  0.030303  [0, 1, 0]\n",
              "7  x7  0.181818  0.166667  ...   0.333333  0.040404  [0, 1, 1]\n",
              "8  x8  0.681818  0.666667  ...   0.666667  0.015152  [0, 1, 0]\n",
              "\n",
              "[7 rows x 10 columns]"
            ]
          },
          "metadata": {
            "tags": []
          },
          "execution_count": 310
        }
      ]
    },
    {
      "cell_type": "code",
      "metadata": {
        "id": "EU2ujh0bOyUz",
        "colab_type": "code",
        "colab": {
          "base_uri": "https://localhost:8080/",
          "height": 429
        },
        "outputId": "89aff997-5d7a-4510-e144-c6a814fb1291"
      },
      "source": [
        "print(dataset.describe())\n",
        "print('============================')\n",
        "print(dataset.dtypes)"
      ],
      "execution_count": 311,
      "outputs": [
        {
          "output_type": "stream",
          "text": [
            "            Age  Siblings    Height  ...  Travel Distance  Education    Salary\n",
            "count  7.000000  7.000000  7.000000  ...         7.000000   7.000000  7.000000\n",
            "mean   0.422078  0.333333  0.509868  ...         0.506266   0.428571  0.161977\n",
            "std    0.427784  0.372678  0.331284  ...         0.354865   0.370899  0.369753\n",
            "min    0.000000  0.000000  0.000000  ...         0.000000   0.000000  0.000000\n",
            "25%    0.090909  0.083333  0.320252  ...         0.254386   0.166667  0.017677\n",
            "50%    0.181818  0.166667  0.500000  ...         0.561404   0.333333  0.027778\n",
            "75%    0.795455  0.500000  0.714286  ...         0.736842   0.666667  0.035354\n",
            "max    1.000000  1.000000  1.000000  ...         1.000000   1.000000  1.000000\n",
            "\n",
            "[8 rows x 8 columns]\n",
            "============================\n",
            "Id                  object\n",
            "Age                float64\n",
            "Siblings           float64\n",
            "Height             float64\n",
            "Weight             float64\n",
            "BMI                float64\n",
            "Travel Distance    float64\n",
            "Education          float64\n",
            "Salary             float64\n",
            "Vehicule            object\n",
            "dtype: object\n"
          ],
          "name": "stdout"
        }
      ]
    },
    {
      "cell_type": "code",
      "metadata": {
        "id": "QLKMrofthSW9",
        "colab_type": "code",
        "colab": {}
      },
      "source": [
        ""
      ],
      "execution_count": 0,
      "outputs": []
    }
  ]
}