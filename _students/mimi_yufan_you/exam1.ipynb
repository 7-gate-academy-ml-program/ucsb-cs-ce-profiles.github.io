{
 "cells": [
  {
   "cell_type": "markdown",
   "metadata": {
    "colab_type": "text",
    "id": "B42YV4QyuRKZ"
   },
   "source": [
    "# Instructions:\n",
    "## Please save a copy of this notebook to your google drive and answer the questions below.\n",
    "## Once completed please submit your notebook to the following [GitHub Repo](https://github.com/7-gate-academy-ml-program/Synopsis)"
   ]
  },
  {
   "cell_type": "markdown",
   "metadata": {
    "colab_type": "text",
    "id": "d8mmOkNLyoWt"
   },
   "source": [
    "### Name:"
   ]
  },
  {
   "cell_type": "markdown",
   "metadata": {
    "colab_type": "text",
    "id": "SdkchPgStYin"
   },
   "source": [
    "# 1.)  What is the difference between Classification and Regression?"
   ]
  },
  {
   "cell_type": "markdown",
   "metadata": {
    "colab_type": "text",
    "id": "0aKWEz_atmEp"
   },
   "source": [
    "classification and regression are both supervised machine learning techniques but classification goals are a categorical or discrete label specifically. Regression is a more generalized technique that can be applied to both continous and discrete problems but in this question it may be referring to a continous target value. "
   ]
  },
  {
   "cell_type": "markdown",
   "metadata": {
    "colab_type": "text",
    "id": "Ma7t_7yBtmud"
   },
   "source": [
    "# 2.) What is the Curse of Dimensionality?"
   ]
  },
  {
   "cell_type": "markdown",
   "metadata": {
    "colab_type": "text",
    "id": "9C3_8rvyyDYA"
   },
   "source": [
    "The power of machine learning is being able to handle high volume of data but conflicting with that is the multipicative effect that having too many features or dimensions in the model. There are cascading issues with visualization, explainabiility, analysis etc.. "
   ]
  },
  {
   "cell_type": "markdown",
   "metadata": {
    "colab_type": "text",
    "id": "w_rFydWVyDl3"
   },
   "source": [
    "# 3.) What is Cross Validation?"
   ]
  },
  {
   "cell_type": "markdown",
   "metadata": {
    "colab_type": "text",
    "id": "X-iA3jnCtxqP"
   },
   "source": [
    "In an ML model, there are generally three steps training, validation, testing. Validation in general is the step after training where you apply the trained model to a separate sample of the data (split from earlier in the process) in order to assess the model for bias, complexity, and issues like overfitting "
   ]
  },
  {
   "cell_type": "markdown",
   "metadata": {
    "colab_type": "text",
    "id": "ieaSLJE2tyVm"
   },
   "source": [
    "# 4.) On a high level how do Decision  Trees work?"
   ]
  },
  {
   "cell_type": "markdown",
   "metadata": {
    "colab_type": "text",
    "id": "sD6nBEWCt8ud"
   },
   "source": [
    "Like a chain of 'if thens' that split up the data over and over again until the remaining groups are similar enough based on what you want. "
   ]
  },
  {
   "cell_type": "markdown",
   "metadata": {
    "colab_type": "text",
    "id": "6akxVwD_t82G"
   },
   "source": [
    "# 5.) In regards to SVMs what is the Kernel Trick?"
   ]
  },
  {
   "cell_type": "markdown",
   "metadata": {
    "colab_type": "text",
    "id": "eDGR-lhHuKNq"
   },
   "source": [
    "Kernel functions/methods is a technique that allows you to operate in a non-linear space with a model that could be initially a linear function. I'm not sure if applying say a polynomial feature to a linear regression would count as a kernel trick? Eitherways SVMS can use this to define their decision boundaries in crazy swirly ways!  "
   ]
  },
  {
   "cell_type": "markdown",
   "metadata": {
    "colab_type": "text",
    "id": "aeXQIik9pnC-"
   },
   "source": [
    "# 6.) For an online clothes store, what are the examples of OLTP and OLAP data? (one example each)"
   ]
  },
  {
   "cell_type": "markdown",
   "metadata": {
    "colab_type": "text",
    "id": "DmtlkL81rjY8"
   },
   "source": [
    "OLAP: online analytical processing would be like a tabular model that combines multiple tables from potentially multiple sources that have maybe already gone through an ETL process and is ready for analyst use. \n",
    "\n",
    "OLTP: Online transactional processing would like like your transactions table or events table that includes each line item of a customers orders for all customers as they are coming in from the POS and may require additional mapping and aggregation before end-use. "
   ]
  },
  {
   "cell_type": "markdown",
   "metadata": {
    "colab_type": "text",
    "id": "Wzl71E-Qrpcn"
   },
   "source": [
    "# 7.) Give example of a function that does not maintain Idempotency."
   ]
  },
  {
   "cell_type": "markdown",
   "metadata": {
    "colab_type": "text",
    "id": "_NiE2-tusl18"
   },
   "source": [
    "x**2 "
   ]
  }
 ],
 "metadata": {
  "colab": {
   "name": "exam1.ipynb",
   "provenance": []
  },
  "kernelspec": {
   "display_name": "Python 3",
   "language": "python",
   "name": "python3"
  },
  "language_info": {
   "codemirror_mode": {
    "name": "ipython",
    "version": 3
   },
   "file_extension": ".py",
   "mimetype": "text/x-python",
   "name": "python",
   "nbconvert_exporter": "python",
   "pygments_lexer": "ipython3",
   "version": "3.7.5"
  }
 },
 "nbformat": 4,
 "nbformat_minor": 4
}
