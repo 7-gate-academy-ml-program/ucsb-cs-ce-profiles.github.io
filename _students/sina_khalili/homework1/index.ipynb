{
  "nbformat": 4,
  "nbformat_minor": 0,
  "metadata": {
    "colab": {
      "name": "homework1.ipynb",
      "version": "0.3.2",
      "provenance": []
    },
    "kernelspec": {
      "name": "python3",
      "display_name": "Python 3"
    }
  },
  "cells": [
    {
      "cell_type": "markdown",
      "metadata": {
        "id": "d8mmOkNLyoWt",
        "colab_type": "text"
      },
      "source": [
        "### Name: Sina Khalili"
      ]
    },
    {
      "cell_type": "markdown",
      "metadata": {
        "id": "SdkchPgStYin",
        "colab_type": "text"
      },
      "source": [
        "# 1.)  What is the difference between Classification and Regression?"
      ]
    },
    {
      "cell_type": "markdown",
      "metadata": {
        "id": "0aKWEz_atmEp",
        "colab_type": "text"
      },
      "source": [
        "Both classification and regression are methods of supervised learning with different goals and approaches. \n",
        "#### Classification \n",
        "Is concerned with mapping inputs into a discrete set outputs, possibly with varying confidence intervals. \n",
        "#### Regression\n",
        "Is concrened with mapping inputs to *continuous* variables. Commonly used to approximate functions."
      ]
    },
    {
      "cell_type": "markdown",
      "metadata": {
        "id": "Ma7t_7yBtmud",
        "colab_type": "text"
      },
      "source": [
        "# 2.) What is the Curse of Dimensionality?"
      ]
    },
    {
      "cell_type": "markdown",
      "metadata": {
        "id": "9C3_8rvyyDYA",
        "colab_type": "text"
      },
      "source": [
        "The curse of dimensionality refers to the exponential increase of possible input data from the linear increase of dimensions. \n",
        "\n",
        "Viewing each new feature as a new dimension to consider we can see that the introduction of a new nontrivial feature will result in at least double the possible input space (if it was a binary variable, one for each state) giving us a lower bound of $ 2^n $ increase of input data space (where $n$ is the number of dimensions)."
      ]
    },
    {
      "cell_type": "markdown",
      "metadata": {
        "id": "w_rFydWVyDl3",
        "colab_type": "text"
      },
      "source": [
        "# 3.) What is Cross Validation?"
      ]
    },
    {
      "cell_type": "markdown",
      "metadata": {
        "id": "X-iA3jnCtxqP",
        "colab_type": "text"
      },
      "source": [
        "Cross validation is a method of evaluating machine learning, useful especially in situations where the data is low.\n",
        "\n",
        "To evaluate a machine learning model by cross validation, one must divide the data to training and test data and judge the performance on the test data as per usual. However, after evaluating the model based on training and test data, the data is cut up again into training and test data, however differently this time and the same model is trained on the new training data and judged on the new test data. This process is repeated until all the data has had the chance to act as both kinds of data. The average of all these scores is given as the overall score for the model."
      ]
    },
    {
      "cell_type": "markdown",
      "metadata": {
        "id": "ieaSLJE2tyVm",
        "colab_type": "text"
      },
      "source": [
        "# 4.) On a high level how do Decision  Trees work?"
      ]
    },
    {
      "cell_type": "markdown",
      "metadata": {
        "id": "sD6nBEWCt8ud",
        "colab_type": "text"
      },
      "source": [
        "Decision Trees work by looking at a set of data with varying features and labels and try to repeatedly figure out which question to ask in order to correctly divide the groups of the data into the correct categories. It does this by viewing how much information is [gained](https://en.wikipedia.org/wiki/Information_gain_in_decision_trees) from any particular question it could ask."
      ]
    },
    {
      "cell_type": "markdown",
      "metadata": {
        "id": "6akxVwD_t82G",
        "colab_type": "text"
      },
      "source": [
        "# 5.) In regards to SVMs what is the Kernel Trick?"
      ]
    },
    {
      "cell_type": "markdown",
      "metadata": {
        "id": "eDGR-lhHuKNq",
        "colab_type": "text"
      },
      "source": [
        "At a high level, a the Kernel Trick is a mathematical shortcut which takes advantage of certain properties of the [kernel](https://en.wikipedia.org/wiki/Kernel_(linear_algebra)) function in order to calculate the dot product of large dimensional vectors without actually evaluating the individual vectors in that dot product equation completely. "
      ]
    },
    {
      "cell_type": "code",
      "metadata": {
        "id": "6gAlV-Vp8n2r",
        "colab_type": "code",
        "colab": {}
      },
      "source": [
        ""
      ],
      "execution_count": 0,
      "outputs": []
    }
  ]
}