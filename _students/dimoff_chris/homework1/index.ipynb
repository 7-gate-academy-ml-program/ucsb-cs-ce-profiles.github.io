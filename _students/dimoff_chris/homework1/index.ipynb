{
 "cells": [
  {
   "cell_type": "markdown",
   "metadata": {
    "colab_type": "text",
    "id": "B42YV4QyuRKZ"
   },
   "source": [
    "# Instructions:\n",
    "## Please save a copy of this notebook to your google drive and answer the questions below.\n",
    "## Once completed please submit your notebook to the following [GitHub Repo](https://github.com/7-gate-academy-ml-program/Synopsis)"
   ]
  },
  {
   "cell_type": "markdown",
   "metadata": {
    "colab_type": "text",
    "id": "d8mmOkNLyoWt"
   },
   "source": [
    "### Name:"
   ]
  },
  {
   "cell_type": "markdown",
   "metadata": {
    "colab_type": "text",
    "id": "SdkchPgStYin"
   },
   "source": [
    "# 1.)  What is the difference between Classification and Regression?"
   ]
  },
  {
   "cell_type": "markdown",
   "metadata": {
    "colab_type": "text",
    "id": "0aKWEz_atmEp"
   },
   "source": [
    "Classification outputs discrete/categorical variables while regression outputs numerical/continous variables."
   ]
  },
  {
   "cell_type": "markdown",
   "metadata": {
    "colab_type": "text",
    "id": "Ma7t_7yBtmud"
   },
   "source": [
    "# 2.) What is the Curse of Dimensionality?"
   ]
  },
  {
   "cell_type": "markdown",
   "metadata": {
    "colab_type": "text",
    "id": "9C3_8rvyyDYA"
   },
   "source": [
    "as # of features or dimensions grows, the amount of data we need to generalize accurately grows exponentially"
   ]
  },
  {
   "cell_type": "markdown",
   "metadata": {
    "colab_type": "text",
    "id": "w_rFydWVyDl3"
   },
   "source": [
    "# 3.) What is Cross Validation?"
   ]
  },
  {
   "cell_type": "markdown",
   "metadata": {
    "colab_type": "text",
    "id": "X-iA3jnCtxqP"
   },
   "source": [
    "When we take some of the test data and 'pretend' it is the training data. We do this to create a model complex enough to model the data while making sure it isn't going to diverge when applied to test set. For example we might take training data and split into 4 folds. We would train on first 3 folds and test on 4th. THen train on folds 1,2,4 and test on 3rd and so forth."
   ]
  },
  {
   "cell_type": "markdown",
   "metadata": {
    "colab_type": "text",
    "id": "ieaSLJE2tyVm"
   },
   "source": [
    "# 4.) On a high level how do Decision  Trees work?"
   ]
  },
  {
   "cell_type": "markdown",
   "metadata": {
    "colab_type": "text",
    "id": "sD6nBEWCt8ud"
   },
   "source": [
    "Tree has decision nodes and result leaves. At each node a 'question' is asked in regards to a specific feature/attribute. depending on the answer a path is taken down the tree until a result is reached at the end."
   ]
  },
  {
   "cell_type": "markdown",
   "metadata": {
    "colab_type": "text",
    "id": "6akxVwD_t82G"
   },
   "source": [
    "# 5.) In regards to SVMs what is the Kernel Trick?"
   ]
  },
  {
   "cell_type": "markdown",
   "metadata": {
    "colab_type": "text",
    "id": "eDGR-lhHuKNq"
   },
   "source": [
    "SVMs only work if data is linearly seperable. If we cannot seperate the data in the current dimensional space we might be able to seperate it in a higher dimensional space. Kernel trick does this. It is also where we can inject domain knowledge."
   ]
  }
 ],
 "metadata": {
  "colab": {
   "name": "homework1.ipynb",
   "provenance": [],
   "version": "0.3.2"
  },
  "kernelspec": {
   "display_name": "Python 3",
   "language": "python",
   "name": "python3"
  },
  "language_info": {
   "codemirror_mode": {
    "name": "ipython",
    "version": 3
   },
   "file_extension": ".py",
   "mimetype": "text/x-python",
   "name": "python",
   "nbconvert_exporter": "python",
   "pygments_lexer": "ipython3",
   "version": "3.6.5"
  }
 },
 "nbformat": 4,
 "nbformat_minor": 1
}
